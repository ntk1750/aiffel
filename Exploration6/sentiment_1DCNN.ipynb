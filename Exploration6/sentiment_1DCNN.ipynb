{
 "cells": [
  {
   "cell_type": "code",
   "execution_count": 1,
   "id": "4e5ae240",
   "metadata": {},
   "outputs": [
    {
     "data": {
      "text/html": [
       "<div>\n",
       "<style scoped>\n",
       "    .dataframe tbody tr th:only-of-type {\n",
       "        vertical-align: middle;\n",
       "    }\n",
       "\n",
       "    .dataframe tbody tr th {\n",
       "        vertical-align: top;\n",
       "    }\n",
       "\n",
       "    .dataframe thead th {\n",
       "        text-align: right;\n",
       "    }\n",
       "</style>\n",
       "<table border=\"1\" class=\"dataframe\">\n",
       "  <thead>\n",
       "    <tr style=\"text-align: right;\">\n",
       "      <th></th>\n",
       "      <th>id</th>\n",
       "      <th>document</th>\n",
       "      <th>label</th>\n",
       "    </tr>\n",
       "  </thead>\n",
       "  <tbody>\n",
       "    <tr>\n",
       "      <th>0</th>\n",
       "      <td>9976970</td>\n",
       "      <td>아 더빙.. 진짜 짜증나네요 목소리</td>\n",
       "      <td>0</td>\n",
       "    </tr>\n",
       "    <tr>\n",
       "      <th>1</th>\n",
       "      <td>3819312</td>\n",
       "      <td>흠...포스터보고 초딩영화줄....오버연기조차 가볍지 않구나</td>\n",
       "      <td>1</td>\n",
       "    </tr>\n",
       "    <tr>\n",
       "      <th>2</th>\n",
       "      <td>10265843</td>\n",
       "      <td>너무재밓었다그래서보는것을추천한다</td>\n",
       "      <td>0</td>\n",
       "    </tr>\n",
       "    <tr>\n",
       "      <th>3</th>\n",
       "      <td>9045019</td>\n",
       "      <td>교도소 이야기구먼 ..솔직히 재미는 없다..평점 조정</td>\n",
       "      <td>0</td>\n",
       "    </tr>\n",
       "    <tr>\n",
       "      <th>4</th>\n",
       "      <td>6483659</td>\n",
       "      <td>사이몬페그의 익살스런 연기가 돋보였던 영화!스파이더맨에서 늙어보이기만 했던 커스틴 ...</td>\n",
       "      <td>1</td>\n",
       "    </tr>\n",
       "  </tbody>\n",
       "</table>\n",
       "</div>"
      ],
      "text/plain": [
       "         id                                           document  label\n",
       "0   9976970                                아 더빙.. 진짜 짜증나네요 목소리      0\n",
       "1   3819312                  흠...포스터보고 초딩영화줄....오버연기조차 가볍지 않구나      1\n",
       "2  10265843                                  너무재밓었다그래서보는것을추천한다      0\n",
       "3   9045019                      교도소 이야기구먼 ..솔직히 재미는 없다..평점 조정      0\n",
       "4   6483659  사이몬페그의 익살스런 연기가 돋보였던 영화!스파이더맨에서 늙어보이기만 했던 커스틴 ...      1"
      ]
     },
     "execution_count": 1,
     "metadata": {},
     "output_type": "execute_result"
    }
   ],
   "source": [
    "import pandas as pd\n",
    "\n",
    "# 데이터를 읽어봅시다. \n",
    "train_data = pd.read_table('~/aiffel/sentiment_classification/data/ratings_train.txt')\n",
    "test_data = pd.read_table('~/aiffel/sentiment_classification/data/ratings_test.txt')\n",
    "\n",
    "train_data.head()"
   ]
  },
  {
   "cell_type": "code",
   "execution_count": 2,
   "id": "7c757c8d",
   "metadata": {},
   "outputs": [],
   "source": [
    "from konlpy.tag import Mecab\n",
    "import numpy as np\n",
    "from collections import Counter\n",
    "\n",
    "tokenizer = Mecab()\n",
    "stopwords = ['의','가','이','은','들','는','좀','잘','걍','과','도','를','으로','자','에','와','한','하다']\n",
    "\n",
    "def load_data(train_data, test_data, num_words=10000):\n",
    "    train_data.drop_duplicates(subset=['document'], inplace=True)\n",
    "    train_data = train_data.dropna(how = 'any') \n",
    "    test_data.drop_duplicates(subset=['document'], inplace=True)\n",
    "    test_data = test_data.dropna(how = 'any') \n",
    "    \n",
    "    X_train = []\n",
    "    for sentence in train_data['document']:\n",
    "        temp_X = tokenizer.morphs(sentence) # 토큰화\n",
    "        temp_X = [word for word in temp_X if not word in stopwords] # 불용어 제거\n",
    "        X_train.append(temp_X)\n",
    "\n",
    "    X_test = []\n",
    "    for sentence in test_data['document']:\n",
    "        temp_X = tokenizer.morphs(sentence) # 토큰화\n",
    "        temp_X = [word for word in temp_X if not word in stopwords] # 불용어 제거\n",
    "        X_test.append(temp_X)\n",
    "    \n",
    "    words = np.concatenate(X_train).tolist()\n",
    "    counter = Counter(words)\n",
    "    counter = counter.most_common(10000-4)\n",
    "    vocab = ['<PAD>', '<BOS>', '<UNK>', '<UNUSED>'] + [key for key, _ in counter]\n",
    "    word_to_index = {word:index for index, word in enumerate(vocab)}\n",
    "        \n",
    "    def wordlist_to_indexlist(wordlist):\n",
    "        return [word_to_index[word] if word in word_to_index else word_to_index['<UNK>'] for word in wordlist]\n",
    "        \n",
    "    X_train = list(map(wordlist_to_indexlist, X_train))\n",
    "    X_test = list(map(wordlist_to_indexlist, X_test))\n",
    "        \n",
    "    return X_train, np.array(list(train_data['label'])), X_test, np.array(list(test_data['label'])), word_to_index\n",
    "    \n",
    "X_train, y_train, X_test, y_test, word_to_index = load_data(train_data, test_data) "
   ]
  },
  {
   "cell_type": "code",
   "execution_count": 3,
   "id": "f38cbf07",
   "metadata": {},
   "outputs": [],
   "source": [
    "index_to_word = {index:word for word, index in word_to_index.items()}"
   ]
  },
  {
   "cell_type": "code",
   "execution_count": 4,
   "id": "42db65cd",
   "metadata": {},
   "outputs": [],
   "source": [
    "# 문장 1개를 활용할 딕셔너리와 함께 주면, 단어 인덱스 리스트 벡터로 변환해 주는 함수입니다. \n",
    "# 단, 모든 문장은 <BOS>로 시작하는 것으로 합니다. \n",
    "def get_encoded_sentence(sentence, word_to_index):\n",
    "    return [word_to_index['<BOS>']]+[word_to_index[word] if word in word_to_index else word_to_index['<UNK>'] for word in sentence.split()]\n",
    "\n",
    "# 여러 개의 문장 리스트를 한꺼번에 단어 인덱스 리스트 벡터로 encode해 주는 함수입니다. \n",
    "def get_encoded_sentences(sentences, word_to_index):\n",
    "    return [get_encoded_sentence(sentence, word_to_index) for sentence in sentences]\n",
    "\n",
    "# 숫자 벡터로 encode된 문장을 원래대로 decode하는 함수입니다. \n",
    "def get_decoded_sentence(encoded_sentence, index_to_word):\n",
    "    return ' '.join(index_to_word[index] if index in index_to_word else '<UNK>' for index in encoded_sentence[1:])  #[1:]를 통해 <BOS>를 제외\n",
    "\n",
    "# 여러 개의 숫자 벡터로 encode된 문장을 한꺼번에 원래대로 decode하는 함수입니다. \n",
    "def get_decoded_sentences(encoded_sentences, index_to_word):\n",
    "    return [get_decoded_sentence(encoded_sentence, index_to_word) for encoded_sentence in encoded_sentences]"
   ]
  },
  {
   "cell_type": "markdown",
   "id": "c95972a4",
   "metadata": {},
   "source": [
    "### 전체 문장 내 길이 분포 확인"
   ]
  },
  {
   "cell_type": "code",
   "execution_count": 5,
   "id": "c4a83f6f",
   "metadata": {},
   "outputs": [
    {
     "name": "stdout",
     "output_type": "stream",
     "text": [
      "문장길이 평균 :  15.96940191154864\n",
      "문장길이 최대 :  116\n",
      "문장길이 표준편차 :  12.843571191092\n",
      "pad_sequences maxlen :  41\n",
      "전체 문장의 0.9342988343341575%가 maxlen 설정값 이내에 포함됩니다. \n"
     ]
    }
   ],
   "source": [
    "total_data_text = list(X_train) + list(X_test)\n",
    "# 텍스트데이터 문장길이의 리스트를 생성한 후\n",
    "num_tokens = [len(tokens) for tokens in total_data_text]\n",
    "num_tokens = np.array(num_tokens)\n",
    "# 문장길이의 평균값, 최대값, 표준편차를 계산해 본다. \n",
    "print('문장길이 평균 : ', np.mean(num_tokens))\n",
    "print('문장길이 최대 : ', np.max(num_tokens))\n",
    "print('문장길이 표준편차 : ', np.std(num_tokens))\n",
    "\n",
    "# 예를들어, 최대 길이를 (평균 + 2*표준편차)로 한다면,  \n",
    "max_tokens = np.mean(num_tokens) + 2 * np.std(num_tokens)\n",
    "maxlen = int(max_tokens)\n",
    "print('pad_sequences maxlen : ', maxlen)\n",
    "print('전체 문장의 {}%가 maxlen 설정값 이내에 포함됩니다. '.format(np.sum(num_tokens < max_tokens) / len(num_tokens)))"
   ]
  },
  {
   "cell_type": "markdown",
   "id": "9481fe76",
   "metadata": {},
   "source": [
    "### 지정길이만큼 자르고 부족한 부분은 PAD 넣기"
   ]
  },
  {
   "cell_type": "code",
   "execution_count": 6,
   "id": "3d09ec55",
   "metadata": {},
   "outputs": [],
   "source": [
    "import numpy as np\n",
    "import tensorflow as tf\n",
    "import os"
   ]
  },
  {
   "cell_type": "code",
   "execution_count": 7,
   "id": "90a13b13",
   "metadata": {},
   "outputs": [
    {
     "name": "stdout",
     "output_type": "stream",
     "text": [
      "(146182, 41)\n"
     ]
    }
   ],
   "source": [
    "x_train = tf.keras.preprocessing.sequence.pad_sequences(X_train,\n",
    "                                                        value=word_to_index[\"<PAD>\"],\n",
    "                                                        padding='pre', # 혹은 'pre'\n",
    "                                                        maxlen=maxlen)\n",
    "\n",
    "x_test = tf.keras.preprocessing.sequence.pad_sequences(X_test,\n",
    "                                                       value=word_to_index[\"<PAD>\"],\n",
    "                                                       padding='pre', # 혹은 'pre'\n",
    "                                                       maxlen=maxlen)\n",
    "\n",
    "print(x_train.shape)\n"
   ]
  },
  {
   "cell_type": "code",
   "execution_count": 8,
   "id": "d194540a",
   "metadata": {},
   "outputs": [
    {
     "name": "stdout",
     "output_type": "stream",
     "text": [
      "10000\n"
     ]
    }
   ],
   "source": [
    "print(len(word_to_index))"
   ]
  },
  {
   "cell_type": "code",
   "execution_count": 9,
   "id": "dcbcfdf6",
   "metadata": {},
   "outputs": [
    {
     "name": "stdout",
     "output_type": "stream",
     "text": [
      "Model: \"sequential\"\n",
      "_________________________________________________________________\n",
      "Layer (type)                 Output Shape              Param #   \n",
      "=================================================================\n",
      "embedding (Embedding)        (None, None, 16)          160000    \n",
      "_________________________________________________________________\n",
      "conv1d (Conv1D)              (None, None, 16)          1808      \n",
      "_________________________________________________________________\n",
      "max_pooling1d (MaxPooling1D) (None, None, 16)          0         \n",
      "_________________________________________________________________\n",
      "conv1d_1 (Conv1D)            (None, None, 16)          1808      \n",
      "_________________________________________________________________\n",
      "global_max_pooling1d (Global (None, 16)                0         \n",
      "_________________________________________________________________\n",
      "dense (Dense)                (None, 8)                 136       \n",
      "_________________________________________________________________\n",
      "dense_1 (Dense)              (None, 1)                 9         \n",
      "=================================================================\n",
      "Total params: 163,761\n",
      "Trainable params: 163,761\n",
      "Non-trainable params: 0\n",
      "_________________________________________________________________\n"
     ]
    }
   ],
   "source": [
    "vocab_size = len(word_to_index)   # 어휘 사전의 크기입니다(10,000개의 단어)\n",
    "word_vector_dim = 16  # 워드 벡터의 차원 수 (변경 가능한 하이퍼파라미터)\n",
    "\n",
    "# 1D-CNN\n",
    "model = tf.keras.Sequential()\n",
    "model.add(tf.keras.layers.Embedding(vocab_size, word_vector_dim, input_shape=(None,)))\n",
    "model.add(tf.keras.layers.Conv1D(16, 7, activation='relu'))\n",
    "model.add(tf.keras.layers.MaxPooling1D(5))\n",
    "model.add(tf.keras.layers.Conv1D(16, 7, activation='relu'))\n",
    "model.add(tf.keras.layers.GlobalMaxPooling1D())\n",
    "model.add(tf.keras.layers.Dense(8, activation='relu'))\n",
    "model.add(tf.keras.layers.Dense(1, activation='sigmoid'))  # 최종 출력은 긍정/부정을 나타내는 1dim 입니다.\n",
    "\n",
    "model.summary()"
   ]
  },
  {
   "cell_type": "markdown",
   "id": "38c97d53",
   "metadata": {},
   "source": [
    "### train, validation, test dataset으로 나누기"
   ]
  },
  {
   "cell_type": "code",
   "execution_count": 10,
   "id": "e6a66213",
   "metadata": {},
   "outputs": [
    {
     "name": "stdout",
     "output_type": "stream",
     "text": [
      "(136182, 41)\n",
      "(136182,)\n"
     ]
    }
   ],
   "source": [
    "# validation set 10000건 분리\n",
    "x_val = x_train[:10000]   \n",
    "y_val = y_train[:10000]\n",
    "\n",
    "# validation set을 제외한 나머지 15000건\n",
    "partial_x_train = x_train[10000:]  \n",
    "partial_y_train = y_train[10000:]\n",
    "\n",
    "print(partial_x_train.shape)\n",
    "print(partial_y_train.shape)\n",
    "\n",
    "#(15000, 580)\n",
    "#(15000,)"
   ]
  },
  {
   "cell_type": "code",
   "execution_count": 11,
   "id": "656ac70e",
   "metadata": {},
   "outputs": [
    {
     "name": "stdout",
     "output_type": "stream",
     "text": [
      "Epoch 1/20\n",
      "266/266 [==============================] - 4s 6ms/step - loss: 0.4892 - accuracy: 0.7520 - val_loss: 0.3506 - val_accuracy: 0.8482\n",
      "Epoch 2/20\n",
      "266/266 [==============================] - 1s 4ms/step - loss: 0.3228 - accuracy: 0.8628 - val_loss: 0.3304 - val_accuracy: 0.8553\n",
      "Epoch 3/20\n",
      "266/266 [==============================] - 1s 4ms/step - loss: 0.2882 - accuracy: 0.8805 - val_loss: 0.3309 - val_accuracy: 0.8568\n",
      "Epoch 4/20\n",
      "266/266 [==============================] - 1s 4ms/step - loss: 0.2618 - accuracy: 0.8936 - val_loss: 0.3356 - val_accuracy: 0.8578\n",
      "Epoch 5/20\n",
      "266/266 [==============================] - 1s 4ms/step - loss: 0.2342 - accuracy: 0.9074 - val_loss: 0.3469 - val_accuracy: 0.8564\n",
      "Epoch 6/20\n",
      "266/266 [==============================] - 1s 4ms/step - loss: 0.2072 - accuracy: 0.9209 - val_loss: 0.3688 - val_accuracy: 0.8506\n",
      "Epoch 7/20\n",
      "266/266 [==============================] - 1s 4ms/step - loss: 0.1807 - accuracy: 0.9341 - val_loss: 0.3934 - val_accuracy: 0.8453\n",
      "Epoch 8/20\n",
      "266/266 [==============================] - 1s 4ms/step - loss: 0.1549 - accuracy: 0.9458 - val_loss: 0.4265 - val_accuracy: 0.8419\n",
      "Epoch 9/20\n",
      "266/266 [==============================] - 1s 4ms/step - loss: 0.1329 - accuracy: 0.9552 - val_loss: 0.4681 - val_accuracy: 0.8395\n",
      "Epoch 10/20\n",
      "266/266 [==============================] - 1s 4ms/step - loss: 0.1145 - accuracy: 0.9623 - val_loss: 0.5005 - val_accuracy: 0.8372\n",
      "Epoch 11/20\n",
      "266/266 [==============================] - 1s 4ms/step - loss: 0.0988 - accuracy: 0.9685 - val_loss: 0.5512 - val_accuracy: 0.8298\n",
      "Epoch 12/20\n",
      "266/266 [==============================] - 1s 4ms/step - loss: 0.0871 - accuracy: 0.9726 - val_loss: 0.5880 - val_accuracy: 0.8299\n",
      "Epoch 13/20\n",
      "266/266 [==============================] - 1s 4ms/step - loss: 0.0774 - accuracy: 0.9765 - val_loss: 0.6226 - val_accuracy: 0.8285\n",
      "Epoch 14/20\n",
      "266/266 [==============================] - 1s 4ms/step - loss: 0.0699 - accuracy: 0.9790 - val_loss: 0.6659 - val_accuracy: 0.8286\n",
      "Epoch 15/20\n",
      "266/266 [==============================] - 1s 4ms/step - loss: 0.0630 - accuracy: 0.9815 - val_loss: 0.7138 - val_accuracy: 0.8261\n",
      "Epoch 16/20\n",
      "266/266 [==============================] - 1s 4ms/step - loss: 0.0576 - accuracy: 0.9832 - val_loss: 0.7316 - val_accuracy: 0.8256\n",
      "Epoch 17/20\n",
      "266/266 [==============================] - 1s 4ms/step - loss: 0.0526 - accuracy: 0.9845 - val_loss: 0.7663 - val_accuracy: 0.8285\n",
      "Epoch 18/20\n",
      "266/266 [==============================] - 1s 4ms/step - loss: 0.0494 - accuracy: 0.9853 - val_loss: 0.7931 - val_accuracy: 0.8257\n",
      "Epoch 19/20\n",
      "266/266 [==============================] - 1s 4ms/step - loss: 0.0468 - accuracy: 0.9862 - val_loss: 0.8247 - val_accuracy: 0.8246\n",
      "Epoch 20/20\n",
      "266/266 [==============================] - 1s 4ms/step - loss: 0.0446 - accuracy: 0.9865 - val_loss: 0.8410 - val_accuracy: 0.8228\n"
     ]
    }
   ],
   "source": [
    "model.compile(optimizer='adam',\n",
    "              loss='binary_crossentropy',\n",
    "              metrics=['accuracy'])\n",
    "              \n",
    "epochs=20  # 몇 epoch를 훈련하면 좋을지 결과를 보면서 바꾸어 봅시다. \n",
    "\n",
    "history = model.fit(partial_x_train,\n",
    "                    partial_y_train,\n",
    "                    epochs=epochs,\n",
    "                    batch_size=512,\n",
    "                    validation_data=(x_val, y_val),\n",
    "                    verbose=1)"
   ]
  },
  {
   "cell_type": "code",
   "execution_count": 12,
   "id": "a72c901c",
   "metadata": {},
   "outputs": [
    {
     "name": "stdout",
     "output_type": "stream",
     "text": [
      "1537/1537 - 2s - loss: 0.8460 - accuracy: 0.8209\n",
      "[0.8459658026695251, 0.8209207057952881]\n"
     ]
    }
   ],
   "source": [
    "# 모델 테스트셋 평가\n",
    "results = model.evaluate(x_test,  y_test, verbose=2)\n",
    "\n",
    "print(results)\n"
   ]
  },
  {
   "cell_type": "code",
   "execution_count": 13,
   "id": "02c54b46",
   "metadata": {},
   "outputs": [
    {
     "name": "stdout",
     "output_type": "stream",
     "text": [
      "dict_keys(['loss', 'accuracy', 'val_loss', 'val_accuracy'])\n"
     ]
    }
   ],
   "source": [
    "history_dict = history.history\n",
    "print(history_dict.keys()) # epoch에 따른 그래프를 그려볼 수 있는 항목들"
   ]
  },
  {
   "cell_type": "code",
   "execution_count": 14,
   "id": "8ae0f72a",
   "metadata": {},
   "outputs": [
    {
     "data": {
      "image/png": "[encoded data removed]",
      "text/plain": [
       "<Figure size 432x288 with 1 Axes>"
      ]
     },
     "metadata": {
      "needs_background": "light"
     },
     "output_type": "display_data"
    }
   ],
   "source": [
    "import matplotlib.pyplot as plt\n",
    "\n",
    "acc = history_dict['accuracy']\n",
    "val_acc = history_dict['val_accuracy']\n",
    "loss = history_dict['loss']\n",
    "val_loss = history_dict['val_loss']\n",
    "\n",
    "epochs = range(1, len(acc) + 1)\n",
    "\n",
    "# \"bo\"는 \"파란색 점\"입니다\n",
    "plt.plot(epochs, loss, 'bo', label='Training loss')\n",
    "# b는 \"파란 실선\"입니다\n",
    "plt.plot(epochs, val_loss, 'b', label='Validation loss')\n",
    "plt.title('Training and validation loss')\n",
    "plt.xlabel('Epochs')\n",
    "plt.ylabel('Loss')\n",
    "plt.legend()\n",
    "\n",
    "plt.show()"
   ]
  },
  {
   "cell_type": "code",
   "execution_count": 15,
   "id": "31e1ff94",
   "metadata": {},
   "outputs": [
    {
     "data": {
      "image/png": "[encoded data removed]",
      "text/plain": [
       "<Figure size 432x288 with 1 Axes>"
      ]
     },
     "metadata": {
      "needs_background": "light"
     },
     "output_type": "display_data"
    }
   ],
   "source": [
    "plt.clf()   # 그림을 초기화합니다\n",
    "\n",
    "plt.plot(epochs, acc, 'bo', label='Training acc')\n",
    "plt.plot(epochs, val_acc, 'b', label='Validation acc')\n",
    "plt.title('Training and validation accuracy')\n",
    "plt.xlabel('Epochs')\n",
    "plt.ylabel('Accuracy')\n",
    "plt.legend()\n",
    "\n",
    "plt.show()"
   ]
  },
  {
   "cell_type": "markdown",
   "id": "2d21236e",
   "metadata": {},
   "source": [
    "### Embedding 레이어 분석"
   ]
  },
  {
   "cell_type": "markdown",
   "id": "8b37901f",
   "metadata": {},
   "source": [
    "train dats를 이요하여 학습된 model에 test set에 얼만큼 예측하는지 확인하기 위해 validation dataset을 사용한다,\n",
    "1DCNN으로 모델 학습 결과 loss는 위의 train loss, validation loss 그래프로 확인한 결과 학습이 진행하면서 epoch 수 , 학습이 진행될수록 train loss는 점차 떨어지고 있지만 validation loss는 약, 2.5 epoch 기점부터 점차 올라가고 있다.\n",
    "이는 2.5epoch 이후부터 학습모델의 정확도가 떨어진다는 것을 뜻하기 때문에 2.5epoch에서 학습을 종료하는 것이 좋다. "
   ]
  },
  {
   "cell_type": "markdown",
   "id": "b59c8475",
   "metadata": {},
   "source": [
    "### 이전 vocab 저장하기"
   ]
  },
  {
   "cell_type": "code",
   "execution_count": 16,
   "id": "cde81cdd",
   "metadata": {},
   "outputs": [
    {
     "name": "stdout",
     "output_type": "stream",
     "text": [
      "(10000, 16)\n"
     ]
    }
   ],
   "source": [
    "embedding_layer = model.layers[0]\n",
    "weights = embedding_layer.get_weights()[0]\n",
    "print(weights.shape)    \n"
   ]
  },
  {
   "cell_type": "code",
   "execution_count": 17,
   "id": "d50dd523",
   "metadata": {},
   "outputs": [],
   "source": [
    "# 학습한 Embedding 파라미터를 파일에 써서 저장합니다. \n",
    "word2vec_file_path = os.getenv('HOME')+'/aiffel/sentiment_classification/data/1dCNN.txt'\n",
    "f = open(word2vec_file_path, 'w')\n",
    "f.write('{} {}\\n'.format(vocab_size-4, word_vector_dim))  # 몇개의 벡터를 얼마 사이즈로 기재할지 타이틀을 씁니다.\n",
    "\n",
    "# 단어 개수(에서 특수문자 4개는 제외하고)만큼의 워드 벡터를 파일에 기록합니다. \n",
    "vectors = model.get_weights()[0]\n",
    "for i in range(4,vocab_size):\n",
    "    f.write('{} {}\\n'.format(index_to_word[i], ' '.join(map(str, list(vectors[i, :])))))\n",
    "f.close()"
   ]
  },
  {
   "cell_type": "markdown",
   "id": "8c0cc032",
   "metadata": {},
   "source": [
    "### 한국어 word2vec 사용하기"
   ]
  },
  {
   "cell_type": "code",
   "execution_count": 18,
   "id": "3678807e",
   "metadata": {},
   "outputs": [
    {
     "name": "stderr",
     "output_type": "stream",
     "text": [
      "/tmp/ipykernel_11241/170662741.py:5: DeprecationWarning: Call to deprecated `__getitem__` (Method will be removed in 4.0.0, use self.wv.__getitem__() instead).\n",
      "  vector = word2vec['안녕']\n"
     ]
    },
    {
     "data": {
      "text/plain": [
       "array([-4.48758937e-02, -5.26038110e-01,  2.18058324e+00, -2.70098805e-01,\n",
       "       -1.22612631e+00, -4.35174644e-01,  8.78038049e-01,  1.78903091e+00,\n",
       "        5.13344407e-01,  8.00866067e-01,  1.33781850e-01,  4.23676372e-01,\n",
       "        6.25718057e-01, -1.49838462e-01, -2.65716583e-01, -1.18363452e+00,\n",
       "        1.09828494e-01,  6.56335890e-01,  9.90437388e-01, -2.88908720e-01,\n",
       "       -4.82253104e-01, -1.71825096e-01, -5.22048175e-01, -1.37081638e-01,\n",
       "        4.01715070e-01, -3.54384005e-01, -4.38563734e-01,  3.37939188e-02,\n",
       "       -4.21380460e-01, -2.11324722e-01,  5.34786046e-01,  5.26668072e-01,\n",
       "       -3.78847629e-01, -1.59311071e-01,  1.77993524e+00, -1.28354877e-01,\n",
       "        4.53990996e-01,  6.38647795e-01,  3.22042465e-01, -6.49676397e-02,\n",
       "       -9.30086493e-01,  6.84082747e-01, -1.41875729e-01, -1.49376774e+00,\n",
       "        1.44657120e-03,  4.33810472e-01, -7.31874406e-02,  7.40463585e-02,\n",
       "       -6.44519210e-01,  1.11461449e+00, -8.20367783e-02, -5.76601565e-01,\n",
       "        1.71026981e+00,  5.43356836e-01, -1.38096079e-01, -7.13480115e-01,\n",
       "        1.37917042e-01,  1.31351754e-01, -1.64170414e-01,  5.08485079e-01,\n",
       "        1.03430068e+00, -5.08647382e-01,  3.78100970e-03,  4.74166781e-01,\n",
       "        5.89607954e-01,  3.45575511e-01,  8.35864961e-01,  8.41770291e-01,\n",
       "        9.89145637e-01, -2.74089158e-01,  1.25443026e-01,  1.02799308e+00,\n",
       "       -4.82123911e-01, -1.69151232e-01, -2.85922945e-01, -8.49736392e-01,\n",
       "        8.46186206e-02, -1.81830883e+00, -5.13923943e-01, -2.16713548e-01,\n",
       "       -1.31658185e+00, -1.02243495e+00,  8.11321557e-01,  2.19687596e-02,\n",
       "       -6.71579957e-01, -5.98710179e-01, -7.66289771e-01, -1.32737505e+00,\n",
       "       -6.29475042e-02, -1.27141750e+00, -9.70623434e-01, -2.50643134e-01,\n",
       "        5.53779125e-01, -9.36333358e-01, -3.81229192e-01,  9.78302062e-02,\n",
       "       -1.73168528e+00,  2.34338660e-02,  5.90916038e-01,  1.10269034e+00,\n",
       "       -1.77305982e-01,  5.86390793e-01, -2.25778148e-01,  1.85514867e-01,\n",
       "       -8.05007041e-01,  5.64193904e-01, -9.69711125e-01, -3.67523193e-01,\n",
       "       -1.23882771e+00, -4.01369512e-01, -1.19125068e-01, -4.65394631e-02,\n",
       "       -2.21846491e-01,  1.82357505e-02,  4.56880897e-01, -2.14156687e-01,\n",
       "       -3.06043118e-01, -1.71571866e-01,  6.13820255e-01, -4.26191688e-01,\n",
       "        5.79584062e-01,  1.03633344e-01,  6.82440162e-01, -1.95503905e-01,\n",
       "        5.96677661e-01,  6.77304804e-01, -1.25491381e+00,  3.14139165e-02,\n",
       "        1.33252859e+00, -1.52929530e-01, -5.01865447e-01,  4.62395728e-01,\n",
       "        6.49050236e-01,  4.93880659e-01,  1.26435041e-01,  3.00690591e-01,\n",
       "        3.55630815e-01, -2.70101190e-01,  5.62555134e-01, -1.03386605e+00,\n",
       "       -3.14555407e-01,  3.89042318e-01,  1.03528607e+00, -4.63004947e-01,\n",
       "       -6.14613831e-01, -2.57924795e-01, -1.05875695e+00,  1.89552337e-01,\n",
       "        5.63951731e-01,  1.79895550e-01,  2.87300587e-01, -1.12558770e+00,\n",
       "       -1.56612837e+00,  6.86075389e-01,  6.99334323e-01, -3.55547547e-01,\n",
       "        6.66430950e-01, -2.01317817e-01,  9.82120037e-01,  1.48326457e-02,\n",
       "        5.74257970e-01,  5.32084644e-01, -5.38365960e-01,  1.24933779e-01,\n",
       "       -3.11034471e-01,  5.36548980e-02,  4.54503685e-01,  1.85251966e-01,\n",
       "        1.31985113e-01,  2.39911228e-01, -9.13004637e-01, -1.16619909e+00,\n",
       "        8.83497417e-01,  3.04435015e-01, -7.70304739e-01, -7.39239752e-02,\n",
       "       -1.10028563e-02,  5.21843016e-01, -9.24460530e-01,  5.88730514e-01,\n",
       "        6.41907156e-02, -5.43511808e-01, -2.87139893e-01,  2.77004838e-01,\n",
       "       -4.67248596e-02, -5.69744051e-01, -6.73322231e-02,  3.29014838e-01,\n",
       "       -6.28687918e-01, -5.23731291e-01,  6.91283345e-01, -1.03363819e-01,\n",
       "       -7.24156022e-01, -5.24323702e-01, -5.47199488e-01,  2.67527951e-03,\n",
       "        5.74104823e-02, -1.35755897e+00,  4.52745229e-01, -3.91733170e-01],\n",
       "      dtype=float32)"
      ]
     },
     "execution_count": 18,
     "metadata": {},
     "output_type": "execute_result"
    }
   ],
   "source": [
    "from gensim.models import Word2Vec \n",
    "word2vec_file_path = os.getenv('HOME')+'/aiffel/sentiment_classification/data/ko.bin'\n",
    "\n",
    "word2vec= Word2Vec.load(word2vec_file_path)\n",
    "vector = word2vec['안녕']\n",
    "vector"
   ]
  },
  {
   "cell_type": "code",
   "execution_count": 19,
   "id": "2c84e622",
   "metadata": {},
   "outputs": [
    {
     "data": {
      "text/plain": [
       "(200,)"
      ]
     },
     "execution_count": 19,
     "metadata": {},
     "output_type": "execute_result"
    }
   ],
   "source": [
    "vector.shape"
   ]
  },
  {
   "cell_type": "code",
   "execution_count": 20,
   "id": "4b7d0e5a",
   "metadata": {},
   "outputs": [
    {
     "name": "stderr",
     "output_type": "stream",
     "text": [
      "/tmp/ipykernel_11241/3387805902.py:2: DeprecationWarning: Call to deprecated `similar_by_word` (Method will be removed in 4.0.0, use self.wv.similar_by_word() instead).\n",
      "  word2vec.similar_by_word(\"안녕\")\n"
     ]
    },
    {
     "data": {
      "text/plain": [
       "[('절망', 0.5654082298278809),\n",
       " ('이여', 0.5418729782104492),\n",
       " ('청춘', 0.49956801533699036),\n",
       " ('첫사랑', 0.49405190348625183),\n",
       " ('이별', 0.4899892210960388),\n",
       " ('슬픔', 0.48582565784454346),\n",
       " ('추억', 0.4816262125968933),\n",
       " ('사랑', 0.4783991873264313),\n",
       " ('내일', 0.4614541232585907),\n",
       " ('!', 0.4595344662666321)]"
      ]
     },
     "execution_count": 20,
     "metadata": {},
     "output_type": "execute_result"
    }
   ],
   "source": [
    "# 메모리를 다소 많이 소비하는 작업이니 유의해 주세요.\n",
    "word2vec.similar_by_word(\"안녕\")"
   ]
  },
  {
   "cell_type": "code",
   "execution_count": 21,
   "id": "5eb3a3b1",
   "metadata": {},
   "outputs": [
    {
     "name": "stderr",
     "output_type": "stream",
     "text": [
      "/tmp/ipykernel_11241/1744403119.py:7: DeprecationWarning: Call to deprecated `__contains__` (Method will be removed in 4.0.0, use self.wv.__contains__() instead).\n",
      "  if index_to_word[i] in word2vec:\n",
      "/tmp/ipykernel_11241/1744403119.py:8: DeprecationWarning: Call to deprecated `__getitem__` (Method will be removed in 4.0.0, use self.wv.__getitem__() instead).\n",
      "  embedding_matrix[i] = word2vec[index_to_word[i]]\n"
     ]
    },
    {
     "data": {
      "text/plain": [
       "array([[ 0.10315761,  0.17665051,  0.79958646, ...,  0.43109808,\n",
       "         0.03017325,  0.95116567],\n",
       "       [ 0.52742809,  0.26031193,  0.51502403, ...,  0.42734344,\n",
       "         0.49720053,  0.5610447 ],\n",
       "       [ 0.13839707,  0.22693214,  0.41267905, ...,  0.74083274,\n",
       "         0.40375908,  0.06182398],\n",
       "       ...,\n",
       "       [ 0.97374621,  0.31868763,  0.4357465 , ...,  0.16886406,\n",
       "         0.79831679,  0.09917128],\n",
       "       [ 0.59885252,  0.45980161,  0.95898301, ...,  0.84064564,\n",
       "         0.80811952,  0.34757222],\n",
       "       [-0.03863803, -0.02460025, -0.09781383, ...,  0.35326836,\n",
       "         0.07444336, -0.5905953 ]])"
      ]
     },
     "execution_count": 21,
     "metadata": {},
     "output_type": "execute_result"
    }
   ],
   "source": [
    "vocab_size = 10000    # 어휘 사전의 크기입니다(10,000개의 단어)\n",
    "word_vector_dim = 200  # 워드 벡터의 차원수\n",
    "embedding_matrix = np.random.rand(vocab_size, word_vector_dim)\n",
    "\n",
    "# embedding_matrix에 Word2Vec 워드 벡터를 단어 하나씩마다 차례차례 카피한다.\n",
    "for i in range(4,vocab_size):\n",
    "    if index_to_word[i] in word2vec:\n",
    "        embedding_matrix[i] = word2vec[index_to_word[i]]\n",
    "embedding_matrix "
   ]
  },
  {
   "cell_type": "code",
   "execution_count": 22,
   "id": "e975bbaa",
   "metadata": {},
   "outputs": [
    {
     "data": {
      "text/plain": [
       "(10000, 200)"
      ]
     },
     "execution_count": 22,
     "metadata": {},
     "output_type": "execute_result"
    }
   ],
   "source": [
    "embedding_matrix.shape"
   ]
  },
  {
   "cell_type": "code",
   "execution_count": 23,
   "id": "7ceedc9d",
   "metadata": {},
   "outputs": [
    {
     "name": "stdout",
     "output_type": "stream",
     "text": [
      "Model: \"sequential_1\"\n",
      "_________________________________________________________________\n",
      "Layer (type)                 Output Shape              Param #   \n",
      "=================================================================\n",
      "embedding_1 (Embedding)      (None, 41, 200)           2000000   \n",
      "_________________________________________________________________\n",
      "conv1d_2 (Conv1D)            (None, 35, 16)            22416     \n",
      "_________________________________________________________________\n",
      "max_pooling1d_1 (MaxPooling1 (None, 7, 16)             0         \n",
      "_________________________________________________________________\n",
      "conv1d_3 (Conv1D)            (None, 1, 16)             1808      \n",
      "_________________________________________________________________\n",
      "global_max_pooling1d_1 (Glob (None, 16)                0         \n",
      "_________________________________________________________________\n",
      "dense_2 (Dense)              (None, 8)                 136       \n",
      "_________________________________________________________________\n",
      "dense_3 (Dense)              (None, 1)                 9         \n",
      "=================================================================\n",
      "Total params: 2,024,369\n",
      "Trainable params: 2,024,369\n",
      "Non-trainable params: 0\n",
      "_________________________________________________________________\n"
     ]
    }
   ],
   "source": [
    "from tensorflow.keras.initializers import Constant\n",
    "\n",
    "vocab_size = 10000    # 어휘 사전의 크기입니다(10,000개의 단어)\n",
    "word_vector_dim = 200  # 워드 벡터의 차원 수 \n",
    "\n",
    "# 1D-CNN\n",
    "model = tf.keras.Sequential()\n",
    "model.add(tf.keras.layers.Embedding(vocab_size, \n",
    "                                 word_vector_dim, \n",
    "                                 embeddings_initializer=Constant(embedding_matrix),  # 카피한 임베딩을 여기서 활용\n",
    "                                 input_length=maxlen, \n",
    "                                 trainable=True))\n",
    "model.add(tf.keras.layers.Conv1D(16, 7, activation='relu'))\n",
    "model.add(tf.keras.layers.MaxPooling1D(5))\n",
    "model.add(tf.keras.layers.Conv1D(16, 7, activation='relu'))\n",
    "model.add(tf.keras.layers.GlobalMaxPooling1D())\n",
    "model.add(tf.keras.layers.Dense(8, activation='relu'))\n",
    "model.add(tf.keras.layers.Dense(1, activation='sigmoid'))  # 최종 출력은 긍정/부정을 나타내는 1dim 입니다.\n",
    "\n",
    "model.summary()"
   ]
  },
  {
   "cell_type": "code",
   "execution_count": 24,
   "id": "026d6910",
   "metadata": {},
   "outputs": [
    {
     "name": "stdout",
     "output_type": "stream",
     "text": [
      "Epoch 1/5\n",
      "2128/2128 [==============================] - 10s 5ms/step - loss: 0.4370 - accuracy: 0.7934 - val_loss: 0.3510 - val_accuracy: 0.8453\n",
      "Epoch 2/5\n",
      "2128/2128 [==============================] - 10s 4ms/step - loss: 0.3254 - accuracy: 0.8591 - val_loss: 0.3284 - val_accuracy: 0.8551\n",
      "Epoch 3/5\n",
      "2128/2128 [==============================] - 10s 4ms/step - loss: 0.2880 - accuracy: 0.8795 - val_loss: 0.3263 - val_accuracy: 0.8567\n",
      "Epoch 4/5\n",
      "2128/2128 [==============================] - 10s 5ms/step - loss: 0.2574 - accuracy: 0.8938 - val_loss: 0.3313 - val_accuracy: 0.8590\n",
      "Epoch 5/5\n",
      "2128/2128 [==============================] - 9s 4ms/step - loss: 0.2274 - accuracy: 0.9082 - val_loss: 0.3546 - val_accuracy: 0.8577\n"
     ]
    }
   ],
   "source": [
    "# 학습의 진행\n",
    "model.compile(optimizer='adam',\n",
    "              loss='binary_crossentropy',\n",
    "              metrics=['accuracy'])\n",
    "              \n",
    "epochs=5\n",
    "batch_size = 64\n",
    "history = model.fit(partial_x_train,\n",
    "                    partial_y_train,\n",
    "                    epochs=epochs,\n",
    "                    batch_size=batch_size,\n",
    "                    validation_data=(x_val, y_val),\n",
    "                    verbose=1)\n",
    "\n"
   ]
  },
  {
   "cell_type": "code",
   "execution_count": 25,
   "id": "f6a9d9ad",
   "metadata": {},
   "outputs": [
    {
     "name": "stdout",
     "output_type": "stream",
     "text": [
      "1537/1537 - 3s - loss: 0.3756 - accuracy: 0.8524\n",
      "[0.3755951523780823, 0.852350652217865]\n"
     ]
    }
   ],
   "source": [
    "# 테스트셋을 통한 모델 평가\n",
    "results = model.evaluate(x_test,  y_test, verbose=2)\n",
    "\n",
    "print(results)"
   ]
  },
  {
   "cell_type": "code",
   "execution_count": null,
   "id": "ed5e9f96",
   "metadata": {},
   "outputs": [],
   "source": []
  }
 ],
 "metadata": {
  "kernelspec": {
   "display_name": "Python 3 (ipykernel)",
   "language": "python",
   "name": "python3"
  },
  "language_info": {
   "codemirror_mode": {
    "name": "ipython",
    "version": 3
   },
   "file_extension": ".py",
   "mimetype": "text/x-python",
   "name": "python",
   "nbconvert_exporter": "python",
   "pygments_lexer": "ipython3",
   "version": "3.9.7"
  }
 },
 "nbformat": 4,
 "nbformat_minor": 5
}

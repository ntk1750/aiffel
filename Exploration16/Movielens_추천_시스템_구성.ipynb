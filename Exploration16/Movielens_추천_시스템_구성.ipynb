{
  "cells": [
    {
      "cell_type": "code",
      "source": [
        "from google.colab import drive\n",
        "drive.mount('/content/drive')"
      ],
      "metadata": {
        "colab": {
          "base_uri": "https://localhost:8080/"
        },
        "id": "HqfIKOazy_P-",
        "outputId": "94376703-085d-4b88-ed6c-1461ed962ab9"
      },
      "id": "HqfIKOazy_P-",
      "execution_count": 1,
      "outputs": [
        {
          "output_type": "stream",
          "name": "stdout",
          "text": [
            "Mounted at /content/drive\n"
          ]
        }
      ]
    },
    {
      "cell_type": "code",
      "execution_count": 2,
      "id": "fb043d23",
      "metadata": {
        "colab": {
          "base_uri": "https://localhost:8080/"
        },
        "id": "fb043d23",
        "outputId": "2d1f382f-0500-4c4c-d34d-659948a7e0b9"
      },
      "outputs": [
        {
          "output_type": "stream",
          "name": "stdout",
          "text": [
            "1.3.5\n",
            "2.8.0\n"
          ]
        }
      ],
      "source": [
        "import pandas\n",
        "import tensorflow\n",
        "\n",
        "import datetime as dt\n",
        "from pathlib import Path\n",
        "import os\n",
        "\n",
        "import numpy as np\n",
        "import pandas as pd\n",
        "import warnings\n",
        "warnings.filterwarnings('ignore')\n",
        "\n",
        "print(pandas.__version__)\n",
        "print(tensorflow.__version__)"
      ]
    },
    {
      "cell_type": "markdown",
      "id": "4ae4f8b3",
      "metadata": {
        "id": "4ae4f8b3"
      },
      "source": [
        "## 데이터 불러오기"
      ]
    },
    {
      "cell_type": "code",
      "execution_count": 3,
      "id": "8e5d5b67",
      "metadata": {
        "colab": {
          "base_uri": "https://localhost:8080/",
          "height": 423
        },
        "id": "8e5d5b67",
        "outputId": "0debe245-90d5-47aa-c137-e4f32e72a095"
      },
      "outputs": [
        {
          "output_type": "execute_result",
          "data": {
            "text/plain": [
              "         UserId  ItemId  Rating       Time\n",
              "31            1    3186       4  978300019\n",
              "22            1    1270       5  978300055\n",
              "27            1    1721       4  978300055\n",
              "37            1    1022       5  978300055\n",
              "24            1    2340       3  978300103\n",
              "...         ...     ...     ...        ...\n",
              "1000019    6040    2917       4  997454429\n",
              "999988     6040    1921       4  997454464\n",
              "1000172    6040    1784       3  997454464\n",
              "1000167    6040     161       3  997454486\n",
              "1000042    6040    1221       4  998315055\n",
              "\n",
              "[1000209 rows x 4 columns]"
            ],
            "text/html": [
              "\n",
              "  <div id=\"df-9b4ba826-7362-468e-9b9a-4373159b63bd\">\n",
              "    <div class=\"colab-df-container\">\n",
              "      <div>\n",
              "<style scoped>\n",
              "    .dataframe tbody tr th:only-of-type {\n",
              "        vertical-align: middle;\n",
              "    }\n",
              "\n",
              "    .dataframe tbody tr th {\n",
              "        vertical-align: top;\n",
              "    }\n",
              "\n",
              "    .dataframe thead th {\n",
              "        text-align: right;\n",
              "    }\n",
              "</style>\n",
              "<table border=\"1\" class=\"dataframe\">\n",
              "  <thead>\n",
              "    <tr style=\"text-align: right;\">\n",
              "      <th></th>\n",
              "      <th>UserId</th>\n",
              "      <th>ItemId</th>\n",
              "      <th>Rating</th>\n",
              "      <th>Time</th>\n",
              "    </tr>\n",
              "  </thead>\n",
              "  <tbody>\n",
              "    <tr>\n",
              "      <th>31</th>\n",
              "      <td>1</td>\n",
              "      <td>3186</td>\n",
              "      <td>4</td>\n",
              "      <td>978300019</td>\n",
              "    </tr>\n",
              "    <tr>\n",
              "      <th>22</th>\n",
              "      <td>1</td>\n",
              "      <td>1270</td>\n",
              "      <td>5</td>\n",
              "      <td>978300055</td>\n",
              "    </tr>\n",
              "    <tr>\n",
              "      <th>27</th>\n",
              "      <td>1</td>\n",
              "      <td>1721</td>\n",
              "      <td>4</td>\n",
              "      <td>978300055</td>\n",
              "    </tr>\n",
              "    <tr>\n",
              "      <th>37</th>\n",
              "      <td>1</td>\n",
              "      <td>1022</td>\n",
              "      <td>5</td>\n",
              "      <td>978300055</td>\n",
              "    </tr>\n",
              "    <tr>\n",
              "      <th>24</th>\n",
              "      <td>1</td>\n",
              "      <td>2340</td>\n",
              "      <td>3</td>\n",
              "      <td>978300103</td>\n",
              "    </tr>\n",
              "    <tr>\n",
              "      <th>...</th>\n",
              "      <td>...</td>\n",
              "      <td>...</td>\n",
              "      <td>...</td>\n",
              "      <td>...</td>\n",
              "    </tr>\n",
              "    <tr>\n",
              "      <th>1000019</th>\n",
              "      <td>6040</td>\n",
              "      <td>2917</td>\n",
              "      <td>4</td>\n",
              "      <td>997454429</td>\n",
              "    </tr>\n",
              "    <tr>\n",
              "      <th>999988</th>\n",
              "      <td>6040</td>\n",
              "      <td>1921</td>\n",
              "      <td>4</td>\n",
              "      <td>997454464</td>\n",
              "    </tr>\n",
              "    <tr>\n",
              "      <th>1000172</th>\n",
              "      <td>6040</td>\n",
              "      <td>1784</td>\n",
              "      <td>3</td>\n",
              "      <td>997454464</td>\n",
              "    </tr>\n",
              "    <tr>\n",
              "      <th>1000167</th>\n",
              "      <td>6040</td>\n",
              "      <td>161</td>\n",
              "      <td>3</td>\n",
              "      <td>997454486</td>\n",
              "    </tr>\n",
              "    <tr>\n",
              "      <th>1000042</th>\n",
              "      <td>6040</td>\n",
              "      <td>1221</td>\n",
              "      <td>4</td>\n",
              "      <td>998315055</td>\n",
              "    </tr>\n",
              "  </tbody>\n",
              "</table>\n",
              "<p>1000209 rows × 4 columns</p>\n",
              "</div>\n",
              "      <button class=\"colab-df-convert\" onclick=\"convertToInteractive('df-9b4ba826-7362-468e-9b9a-4373159b63bd')\"\n",
              "              title=\"Convert this dataframe to an interactive table.\"\n",
              "              style=\"display:none;\">\n",
              "        \n",
              "  <svg xmlns=\"http://www.w3.org/2000/svg\" height=\"24px\"viewBox=\"0 0 24 24\"\n",
              "       width=\"24px\">\n",
              "    <path d=\"M0 0h24v24H0V0z\" fill=\"none\"/>\n",
              "    <path d=\"M18.56 5.44l.94 2.06.94-2.06 2.06-.94-2.06-.94-.94-2.06-.94 2.06-2.06.94zm-11 1L8.5 8.5l.94-2.06 2.06-.94-2.06-.94L8.5 2.5l-.94 2.06-2.06.94zm10 10l.94 2.06.94-2.06 2.06-.94-2.06-.94-.94-2.06-.94 2.06-2.06.94z\"/><path d=\"M17.41 7.96l-1.37-1.37c-.4-.4-.92-.59-1.43-.59-.52 0-1.04.2-1.43.59L10.3 9.45l-7.72 7.72c-.78.78-.78 2.05 0 2.83L4 21.41c.39.39.9.59 1.41.59.51 0 1.02-.2 1.41-.59l7.78-7.78 2.81-2.81c.8-.78.8-2.07 0-2.86zM5.41 20L4 18.59l7.72-7.72 1.47 1.35L5.41 20z\"/>\n",
              "  </svg>\n",
              "      </button>\n",
              "      \n",
              "  <style>\n",
              "    .colab-df-container {\n",
              "      display:flex;\n",
              "      flex-wrap:wrap;\n",
              "      gap: 12px;\n",
              "    }\n",
              "\n",
              "    .colab-df-convert {\n",
              "      background-color: #E8F0FE;\n",
              "      border: none;\n",
              "      border-radius: 50%;\n",
              "      cursor: pointer;\n",
              "      display: none;\n",
              "      fill: #1967D2;\n",
              "      height: 32px;\n",
              "      padding: 0 0 0 0;\n",
              "      width: 32px;\n",
              "    }\n",
              "\n",
              "    .colab-df-convert:hover {\n",
              "      background-color: #E2EBFA;\n",
              "      box-shadow: 0px 1px 2px rgba(60, 64, 67, 0.3), 0px 1px 3px 1px rgba(60, 64, 67, 0.15);\n",
              "      fill: #174EA6;\n",
              "    }\n",
              "\n",
              "    [theme=dark] .colab-df-convert {\n",
              "      background-color: #3B4455;\n",
              "      fill: #D2E3FC;\n",
              "    }\n",
              "\n",
              "    [theme=dark] .colab-df-convert:hover {\n",
              "      background-color: #434B5C;\n",
              "      box-shadow: 0px 1px 3px 1px rgba(0, 0, 0, 0.15);\n",
              "      filter: drop-shadow(0px 1px 2px rgba(0, 0, 0, 0.3));\n",
              "      fill: #FFFFFF;\n",
              "    }\n",
              "  </style>\n",
              "\n",
              "      <script>\n",
              "        const buttonEl =\n",
              "          document.querySelector('#df-9b4ba826-7362-468e-9b9a-4373159b63bd button.colab-df-convert');\n",
              "        buttonEl.style.display =\n",
              "          google.colab.kernel.accessAllowed ? 'block' : 'none';\n",
              "\n",
              "        async function convertToInteractive(key) {\n",
              "          const element = document.querySelector('#df-9b4ba826-7362-468e-9b9a-4373159b63bd');\n",
              "          const dataTable =\n",
              "            await google.colab.kernel.invokeFunction('convertToInteractive',\n",
              "                                                     [key], {});\n",
              "          if (!dataTable) return;\n",
              "\n",
              "          const docLinkHtml = 'Like what you see? Visit the ' +\n",
              "            '<a target=\"_blank\" href=https://colab.research.google.com/notebooks/data_table.ipynb>data table notebook</a>'\n",
              "            + ' to learn more about interactive tables.';\n",
              "          element.innerHTML = '';\n",
              "          dataTable['output_type'] = 'display_data';\n",
              "          await google.colab.output.renderOutput(dataTable, element);\n",
              "          const docLink = document.createElement('div');\n",
              "          docLink.innerHTML = docLinkHtml;\n",
              "          element.appendChild(docLink);\n",
              "        }\n",
              "      </script>\n",
              "    </div>\n",
              "  </div>\n",
              "  "
            ]
          },
          "metadata": {},
          "execution_count": 3
        }
      ],
      "source": [
        "data_path = Path('/content/drive/MyDrive/아이펠/data') \n",
        "train_path = data_path / 'ratings.dat'\n",
        "\n",
        "def load_data(data_path: Path, nrows=None):\n",
        "    data = pd.read_csv(data_path, sep='::', header=None, usecols=[0, 1, 2, 3], dtype={0: np.int32, 1: np.int32, 2: np.int32}, nrows=nrows)\n",
        "    data.columns = ['UserId', 'ItemId', 'Rating', 'Time']\n",
        "    return data\n",
        "\n",
        "data = load_data(train_path, None)\n",
        "data.sort_values(['UserId', 'Time'], inplace=True)  # data를 id와 시간 순서로 정렬해줍니다.\n",
        "data"
      ]
    },
    {
      "cell_type": "code",
      "execution_count": 4,
      "id": "3db19ed7",
      "metadata": {
        "colab": {
          "base_uri": "https://localhost:8080/"
        },
        "id": "3db19ed7",
        "outputId": "9dfaf855-35dd-49e8-a55a-4a26bdc3dc6c"
      },
      "outputs": [
        {
          "output_type": "stream",
          "name": "stdout",
          "text": [
            "<class 'pandas.core.frame.DataFrame'>\n",
            "Int64Index: 1000209 entries, 31 to 1000042\n",
            "Data columns (total 4 columns):\n",
            " #   Column  Non-Null Count    Dtype\n",
            "---  ------  --------------    -----\n",
            " 0   UserId  1000209 non-null  int32\n",
            " 1   ItemId  1000209 non-null  int32\n",
            " 2   Rating  1000209 non-null  int32\n",
            " 3   Time    1000209 non-null  int64\n",
            "dtypes: int32(3), int64(1)\n",
            "memory usage: 26.7 MB\n"
          ]
        }
      ],
      "source": [
        "data.info()"
      ]
    },
    {
      "cell_type": "markdown",
      "id": "ec76c2ad",
      "metadata": {
        "id": "ec76c2ad"
      },
      "source": [
        "데이터 구성을 보면 UserId, ItemId, Rating, Time으로 구성되어 있는 것을 볼 수 있다. 여기서 Time은 UTC로 되어 있으며 1970년 1월 1일부터 경과된 초 단위 시간으로 되어 있는 것을 볼 수 있다."
      ]
    },
    {
      "cell_type": "markdown",
      "id": "576eb03d",
      "metadata": {
        "id": "576eb03d"
      },
      "source": [
        "# time 데이터 구성부터 다시 시작하기"
      ]
    },
    {
      "cell_type": "code",
      "execution_count": 5,
      "id": "bb84ab65",
      "metadata": {
        "id": "bb84ab65"
      },
      "outputs": [],
      "source": [
        "datetime = []\n",
        "for temp in data['Time']:\n",
        "    datetime.append(pd.Timestamp(temp, unit='s'))\n",
        "\n",
        "data['Time'] = datetime"
      ]
    },
    {
      "cell_type": "markdown",
      "id": "07c5bef8",
      "metadata": {
        "id": "07c5bef8"
      },
      "source": [
        "Time의 형식이 UTC에서 직관적으로 알아볼 수 있는 시간단위로 변경된 것을 확인할 수 있다."
      ]
    },
    {
      "cell_type": "markdown",
      "id": "aaf376bd",
      "metadata": {
        "id": "aaf376bd"
      },
      "source": [
        "#### 학습에 사용하지 않는 데이터 제거"
      ]
    },
    {
      "cell_type": "code",
      "execution_count": 6,
      "id": "a00469a0",
      "metadata": {
        "id": "a00469a0"
      },
      "outputs": [],
      "source": [
        "data.drop(['Rating'],axis=1,inplace=True)"
      ]
    },
    {
      "cell_type": "code",
      "execution_count": 7,
      "id": "743eafe6",
      "metadata": {
        "colab": {
          "base_uri": "https://localhost:8080/",
          "height": 423
        },
        "id": "743eafe6",
        "outputId": "39c44a29-666e-44cd-d4af-c281c1f3012c"
      },
      "outputs": [
        {
          "output_type": "execute_result",
          "data": {
            "text/plain": [
              "         UserId  ItemId                Time\n",
              "31            1    3186 2000-12-31 22:00:19\n",
              "22            1    1270 2000-12-31 22:00:55\n",
              "27            1    1721 2000-12-31 22:00:55\n",
              "37            1    1022 2000-12-31 22:00:55\n",
              "24            1    2340 2000-12-31 22:01:43\n",
              "...         ...     ...                 ...\n",
              "1000019    6040    2917 2001-08-10 14:40:29\n",
              "999988     6040    1921 2001-08-10 14:41:04\n",
              "1000172    6040    1784 2001-08-10 14:41:04\n",
              "1000167    6040     161 2001-08-10 14:41:26\n",
              "1000042    6040    1221 2001-08-20 13:44:15\n",
              "\n",
              "[1000209 rows x 3 columns]"
            ],
            "text/html": [
              "\n",
              "  <div id=\"df-0d591387-7cef-486c-a2df-9a2e9708352d\">\n",
              "    <div class=\"colab-df-container\">\n",
              "      <div>\n",
              "<style scoped>\n",
              "    .dataframe tbody tr th:only-of-type {\n",
              "        vertical-align: middle;\n",
              "    }\n",
              "\n",
              "    .dataframe tbody tr th {\n",
              "        vertical-align: top;\n",
              "    }\n",
              "\n",
              "    .dataframe thead th {\n",
              "        text-align: right;\n",
              "    }\n",
              "</style>\n",
              "<table border=\"1\" class=\"dataframe\">\n",
              "  <thead>\n",
              "    <tr style=\"text-align: right;\">\n",
              "      <th></th>\n",
              "      <th>UserId</th>\n",
              "      <th>ItemId</th>\n",
              "      <th>Time</th>\n",
              "    </tr>\n",
              "  </thead>\n",
              "  <tbody>\n",
              "    <tr>\n",
              "      <th>31</th>\n",
              "      <td>1</td>\n",
              "      <td>3186</td>\n",
              "      <td>2000-12-31 22:00:19</td>\n",
              "    </tr>\n",
              "    <tr>\n",
              "      <th>22</th>\n",
              "      <td>1</td>\n",
              "      <td>1270</td>\n",
              "      <td>2000-12-31 22:00:55</td>\n",
              "    </tr>\n",
              "    <tr>\n",
              "      <th>27</th>\n",
              "      <td>1</td>\n",
              "      <td>1721</td>\n",
              "      <td>2000-12-31 22:00:55</td>\n",
              "    </tr>\n",
              "    <tr>\n",
              "      <th>37</th>\n",
              "      <td>1</td>\n",
              "      <td>1022</td>\n",
              "      <td>2000-12-31 22:00:55</td>\n",
              "    </tr>\n",
              "    <tr>\n",
              "      <th>24</th>\n",
              "      <td>1</td>\n",
              "      <td>2340</td>\n",
              "      <td>2000-12-31 22:01:43</td>\n",
              "    </tr>\n",
              "    <tr>\n",
              "      <th>...</th>\n",
              "      <td>...</td>\n",
              "      <td>...</td>\n",
              "      <td>...</td>\n",
              "    </tr>\n",
              "    <tr>\n",
              "      <th>1000019</th>\n",
              "      <td>6040</td>\n",
              "      <td>2917</td>\n",
              "      <td>2001-08-10 14:40:29</td>\n",
              "    </tr>\n",
              "    <tr>\n",
              "      <th>999988</th>\n",
              "      <td>6040</td>\n",
              "      <td>1921</td>\n",
              "      <td>2001-08-10 14:41:04</td>\n",
              "    </tr>\n",
              "    <tr>\n",
              "      <th>1000172</th>\n",
              "      <td>6040</td>\n",
              "      <td>1784</td>\n",
              "      <td>2001-08-10 14:41:04</td>\n",
              "    </tr>\n",
              "    <tr>\n",
              "      <th>1000167</th>\n",
              "      <td>6040</td>\n",
              "      <td>161</td>\n",
              "      <td>2001-08-10 14:41:26</td>\n",
              "    </tr>\n",
              "    <tr>\n",
              "      <th>1000042</th>\n",
              "      <td>6040</td>\n",
              "      <td>1221</td>\n",
              "      <td>2001-08-20 13:44:15</td>\n",
              "    </tr>\n",
              "  </tbody>\n",
              "</table>\n",
              "<p>1000209 rows × 3 columns</p>\n",
              "</div>\n",
              "      <button class=\"colab-df-convert\" onclick=\"convertToInteractive('df-0d591387-7cef-486c-a2df-9a2e9708352d')\"\n",
              "              title=\"Convert this dataframe to an interactive table.\"\n",
              "              style=\"display:none;\">\n",
              "        \n",
              "  <svg xmlns=\"http://www.w3.org/2000/svg\" height=\"24px\"viewBox=\"0 0 24 24\"\n",
              "       width=\"24px\">\n",
              "    <path d=\"M0 0h24v24H0V0z\" fill=\"none\"/>\n",
              "    <path d=\"M18.56 5.44l.94 2.06.94-2.06 2.06-.94-2.06-.94-.94-2.06-.94 2.06-2.06.94zm-11 1L8.5 8.5l.94-2.06 2.06-.94-2.06-.94L8.5 2.5l-.94 2.06-2.06.94zm10 10l.94 2.06.94-2.06 2.06-.94-2.06-.94-.94-2.06-.94 2.06-2.06.94z\"/><path d=\"M17.41 7.96l-1.37-1.37c-.4-.4-.92-.59-1.43-.59-.52 0-1.04.2-1.43.59L10.3 9.45l-7.72 7.72c-.78.78-.78 2.05 0 2.83L4 21.41c.39.39.9.59 1.41.59.51 0 1.02-.2 1.41-.59l7.78-7.78 2.81-2.81c.8-.78.8-2.07 0-2.86zM5.41 20L4 18.59l7.72-7.72 1.47 1.35L5.41 20z\"/>\n",
              "  </svg>\n",
              "      </button>\n",
              "      \n",
              "  <style>\n",
              "    .colab-df-container {\n",
              "      display:flex;\n",
              "      flex-wrap:wrap;\n",
              "      gap: 12px;\n",
              "    }\n",
              "\n",
              "    .colab-df-convert {\n",
              "      background-color: #E8F0FE;\n",
              "      border: none;\n",
              "      border-radius: 50%;\n",
              "      cursor: pointer;\n",
              "      display: none;\n",
              "      fill: #1967D2;\n",
              "      height: 32px;\n",
              "      padding: 0 0 0 0;\n",
              "      width: 32px;\n",
              "    }\n",
              "\n",
              "    .colab-df-convert:hover {\n",
              "      background-color: #E2EBFA;\n",
              "      box-shadow: 0px 1px 2px rgba(60, 64, 67, 0.3), 0px 1px 3px 1px rgba(60, 64, 67, 0.15);\n",
              "      fill: #174EA6;\n",
              "    }\n",
              "\n",
              "    [theme=dark] .colab-df-convert {\n",
              "      background-color: #3B4455;\n",
              "      fill: #D2E3FC;\n",
              "    }\n",
              "\n",
              "    [theme=dark] .colab-df-convert:hover {\n",
              "      background-color: #434B5C;\n",
              "      box-shadow: 0px 1px 3px 1px rgba(0, 0, 0, 0.15);\n",
              "      filter: drop-shadow(0px 1px 2px rgba(0, 0, 0, 0.3));\n",
              "      fill: #FFFFFF;\n",
              "    }\n",
              "  </style>\n",
              "\n",
              "      <script>\n",
              "        const buttonEl =\n",
              "          document.querySelector('#df-0d591387-7cef-486c-a2df-9a2e9708352d button.colab-df-convert');\n",
              "        buttonEl.style.display =\n",
              "          google.colab.kernel.accessAllowed ? 'block' : 'none';\n",
              "\n",
              "        async function convertToInteractive(key) {\n",
              "          const element = document.querySelector('#df-0d591387-7cef-486c-a2df-9a2e9708352d');\n",
              "          const dataTable =\n",
              "            await google.colab.kernel.invokeFunction('convertToInteractive',\n",
              "                                                     [key], {});\n",
              "          if (!dataTable) return;\n",
              "\n",
              "          const docLinkHtml = 'Like what you see? Visit the ' +\n",
              "            '<a target=\"_blank\" href=https://colab.research.google.com/notebooks/data_table.ipynb>data table notebook</a>'\n",
              "            + ' to learn more about interactive tables.';\n",
              "          element.innerHTML = '';\n",
              "          dataTable['output_type'] = 'display_data';\n",
              "          await google.colab.output.renderOutput(dataTable, element);\n",
              "          const docLink = document.createElement('div');\n",
              "          docLink.innerHTML = docLinkHtml;\n",
              "          element.appendChild(docLink);\n",
              "        }\n",
              "      </script>\n",
              "    </div>\n",
              "  </div>\n",
              "  "
            ]
          },
          "metadata": {},
          "execution_count": 7
        }
      ],
      "source": [
        "data"
      ]
    },
    {
      "cell_type": "markdown",
      "id": "11b6996e",
      "metadata": {
        "id": "11b6996e"
      },
      "source": [
        "## 데이터 전처리"
      ]
    },
    {
      "cell_type": "markdown",
      "id": "d1549b9a",
      "metadata": {
        "id": "d1549b9a"
      },
      "source": [
        "### 항목별 분석"
      ]
    },
    {
      "cell_type": "code",
      "execution_count": 8,
      "id": "3eeb589a",
      "metadata": {
        "colab": {
          "base_uri": "https://localhost:8080/"
        },
        "id": "3eeb589a",
        "outputId": "7299a4aa-8cba-45ae-9d07-84584ee08b0d"
      },
      "outputs": [
        {
          "output_type": "execute_result",
          "data": {
            "text/plain": [
              "(6040, 3706)"
            ]
          },
          "metadata": {},
          "execution_count": 8
        }
      ],
      "source": [
        "data['UserId'].nunique(), data['ItemId'].nunique()"
      ]
    },
    {
      "cell_type": "markdown",
      "id": "64f6c1fe",
      "metadata": {
        "id": "64f6c1fe"
      },
      "source": [
        "UserId는 6040개, 아이템 숫자는 3706개로 구성되어 있는 것을 볼 수 있다.\n",
        "<br/>\n",
        "여기에는 UserId는 Session으로 역할을 함"
      ]
    },
    {
      "cell_type": "markdown",
      "id": "a175784a",
      "metadata": {
        "id": "a175784a"
      },
      "source": [
        "### time 데이터 범위 분석"
      ]
    },
    {
      "cell_type": "code",
      "execution_count": 9,
      "id": "3c345c68",
      "metadata": {
        "colab": {
          "base_uri": "https://localhost:8080/"
        },
        "id": "3c345c68",
        "outputId": "ab880fd8-bd66-492b-8715-f6886e6fb300"
      },
      "outputs": [
        {
          "output_type": "execute_result",
          "data": {
            "text/plain": [
              "count                 1000209\n",
              "unique                 458455\n",
              "top       2000-11-29 20:06:42\n",
              "freq                       30\n",
              "first     2000-04-25 23:05:32\n",
              "last      2003-02-28 17:49:50\n",
              "Name: Time, dtype: object"
            ]
          },
          "metadata": {},
          "execution_count": 9
        }
      ],
      "source": [
        "data['Time'].describe()"
      ]
    },
    {
      "cell_type": "markdown",
      "id": "19cbbe9a",
      "metadata": {
        "id": "19cbbe9a"
      },
      "source": [
        "Time 데이터는 458455개로 구성되어 있다는 것을 볼 수 있다. 총 갯수로는 1000209개이지만 실제 데이터에는 중복된 데이터가 포함되어 있다는 것을 볼 수 있다."
      ]
    },
    {
      "cell_type": "markdown",
      "id": "c0305a1c",
      "metadata": {
        "id": "c0305a1c"
      },
      "source": [
        "### Session Length"
      ]
    },
    {
      "cell_type": "code",
      "execution_count": 10,
      "id": "9740fe79",
      "metadata": {
        "colab": {
          "base_uri": "https://localhost:8080/"
        },
        "id": "9740fe79",
        "outputId": "b5a45922-a126-4800-bba5-df605b1e04fb"
      },
      "outputs": [
        {
          "output_type": "execute_result",
          "data": {
            "text/plain": [
              "UserId\n",
              "1        53\n",
              "2       129\n",
              "3        51\n",
              "4        21\n",
              "5       198\n",
              "       ... \n",
              "6036    888\n",
              "6037    202\n",
              "6038     20\n",
              "6039    123\n",
              "6040    341\n",
              "Length: 6040, dtype: int64"
            ]
          },
          "metadata": {},
          "execution_count": 10
        }
      ],
      "source": [
        "session_length = data.groupby('UserId').size()\n",
        "session_length"
      ]
    },
    {
      "cell_type": "markdown",
      "id": "11f1f6cd",
      "metadata": {
        "id": "11f1f6cd"
      },
      "source": [
        "User에 대한 정보(성별, 나이)알 수 없기 때문에 UserId를 사용자 행동 기준으로 분류하여 분석할 수 있다.\n",
        "<br/>\n",
        "즉, session length는 해당 사용자가 몇번의 액션을 취했는지를 의미한다."
      ]
    },
    {
      "cell_type": "code",
      "execution_count": 11,
      "id": "accc8135",
      "metadata": {
        "colab": {
          "base_uri": "https://localhost:8080/"
        },
        "id": "accc8135",
        "outputId": "797fccf3-65be-421c-83b3-49bfb49c7b27"
      },
      "outputs": [
        {
          "output_type": "execute_result",
          "data": {
            "text/plain": [
              "(96.0, 165.5975165562914)"
            ]
          },
          "metadata": {},
          "execution_count": 11
        }
      ],
      "source": [
        "session_length.median(), session_length.mean()"
      ]
    },
    {
      "cell_type": "code",
      "execution_count": 12,
      "id": "651cfcef",
      "metadata": {
        "colab": {
          "base_uri": "https://localhost:8080/"
        },
        "id": "651cfcef",
        "outputId": "e39637fb-bd6f-4114-b37f-ec974ff829eb"
      },
      "outputs": [
        {
          "output_type": "execute_result",
          "data": {
            "text/plain": [
              "(20, 2314)"
            ]
          },
          "metadata": {},
          "execution_count": 12
        }
      ],
      "source": [
        "session_length.min(), session_length.max()"
      ]
    },
    {
      "cell_type": "code",
      "execution_count": 13,
      "id": "1422a8cc",
      "metadata": {
        "colab": {
          "base_uri": "https://localhost:8080/"
        },
        "id": "1422a8cc",
        "outputId": "0407969e-406e-4ec2-a10a-28c88f8ad364"
      },
      "outputs": [
        {
          "output_type": "execute_result",
          "data": {
            "text/plain": [
              "1343.181000000005"
            ]
          },
          "metadata": {},
          "execution_count": 13
        }
      ],
      "source": [
        "session_length.quantile(0.999)"
      ]
    },
    {
      "cell_type": "markdown",
      "id": "4c3dc179",
      "metadata": {
        "id": "4c3dc179"
      },
      "source": [
        "session length 정보길이는 보통 96~165정도 되며 99.9%가 1343 이하로 가지고 있다는 것을 볼 수 있다."
      ]
    },
    {
      "cell_type": "markdown",
      "id": "784de54e",
      "metadata": {
        "id": "784de54e"
      },
      "source": [
        "#### 길이가 가장 긴 Session length는 얼마나 있을까?"
      ]
    },
    {
      "cell_type": "code",
      "execution_count": 14,
      "id": "f963ce24",
      "metadata": {
        "colab": {
          "base_uri": "https://localhost:8080/",
          "height": 0
        },
        "id": "f963ce24",
        "outputId": "d21aa839-f04f-4f34-c040-efdc11f89a05"
      },
      "outputs": [
        {
          "output_type": "execute_result",
          "data": {
            "text/plain": [
              "        UserId  ItemId                Time\n",
              "696969    4169    1268 2000-08-03 20:09:52\n",
              "697168    4169    2617 2000-08-03 20:09:52\n",
              "697185    4169    2628 2000-08-03 20:09:52\n",
              "697219    4169    2653 2000-08-03 20:09:52\n",
              "697275    4169     423 2000-08-03 20:09:52\n",
              "...        ...     ...                 ...\n",
              "697882    4169    3754 2002-06-15 20:52:27\n",
              "695702    4169    1413 2002-06-15 21:03:51\n",
              "697358    4169     494 2002-06-15 21:16:00\n",
              "695945    4169    1804 2002-06-15 21:16:23\n",
              "696446    4169    1548 2002-06-15 21:25:37\n",
              "\n",
              "[2314 rows x 3 columns]"
            ],
            "text/html": [
              "\n",
              "  <div id=\"df-38e0e16c-9fa3-4e6b-a7f3-f7878fe3d045\">\n",
              "    <div class=\"colab-df-container\">\n",
              "      <div>\n",
              "<style scoped>\n",
              "    .dataframe tbody tr th:only-of-type {\n",
              "        vertical-align: middle;\n",
              "    }\n",
              "\n",
              "    .dataframe tbody tr th {\n",
              "        vertical-align: top;\n",
              "    }\n",
              "\n",
              "    .dataframe thead th {\n",
              "        text-align: right;\n",
              "    }\n",
              "</style>\n",
              "<table border=\"1\" class=\"dataframe\">\n",
              "  <thead>\n",
              "    <tr style=\"text-align: right;\">\n",
              "      <th></th>\n",
              "      <th>UserId</th>\n",
              "      <th>ItemId</th>\n",
              "      <th>Time</th>\n",
              "    </tr>\n",
              "  </thead>\n",
              "  <tbody>\n",
              "    <tr>\n",
              "      <th>696969</th>\n",
              "      <td>4169</td>\n",
              "      <td>1268</td>\n",
              "      <td>2000-08-03 20:09:52</td>\n",
              "    </tr>\n",
              "    <tr>\n",
              "      <th>697168</th>\n",
              "      <td>4169</td>\n",
              "      <td>2617</td>\n",
              "      <td>2000-08-03 20:09:52</td>\n",
              "    </tr>\n",
              "    <tr>\n",
              "      <th>697185</th>\n",
              "      <td>4169</td>\n",
              "      <td>2628</td>\n",
              "      <td>2000-08-03 20:09:52</td>\n",
              "    </tr>\n",
              "    <tr>\n",
              "      <th>697219</th>\n",
              "      <td>4169</td>\n",
              "      <td>2653</td>\n",
              "      <td>2000-08-03 20:09:52</td>\n",
              "    </tr>\n",
              "    <tr>\n",
              "      <th>697275</th>\n",
              "      <td>4169</td>\n",
              "      <td>423</td>\n",
              "      <td>2000-08-03 20:09:52</td>\n",
              "    </tr>\n",
              "    <tr>\n",
              "      <th>...</th>\n",
              "      <td>...</td>\n",
              "      <td>...</td>\n",
              "      <td>...</td>\n",
              "    </tr>\n",
              "    <tr>\n",
              "      <th>697882</th>\n",
              "      <td>4169</td>\n",
              "      <td>3754</td>\n",
              "      <td>2002-06-15 20:52:27</td>\n",
              "    </tr>\n",
              "    <tr>\n",
              "      <th>695702</th>\n",
              "      <td>4169</td>\n",
              "      <td>1413</td>\n",
              "      <td>2002-06-15 21:03:51</td>\n",
              "    </tr>\n",
              "    <tr>\n",
              "      <th>697358</th>\n",
              "      <td>4169</td>\n",
              "      <td>494</td>\n",
              "      <td>2002-06-15 21:16:00</td>\n",
              "    </tr>\n",
              "    <tr>\n",
              "      <th>695945</th>\n",
              "      <td>4169</td>\n",
              "      <td>1804</td>\n",
              "      <td>2002-06-15 21:16:23</td>\n",
              "    </tr>\n",
              "    <tr>\n",
              "      <th>696446</th>\n",
              "      <td>4169</td>\n",
              "      <td>1548</td>\n",
              "      <td>2002-06-15 21:25:37</td>\n",
              "    </tr>\n",
              "  </tbody>\n",
              "</table>\n",
              "<p>2314 rows × 3 columns</p>\n",
              "</div>\n",
              "      <button class=\"colab-df-convert\" onclick=\"convertToInteractive('df-38e0e16c-9fa3-4e6b-a7f3-f7878fe3d045')\"\n",
              "              title=\"Convert this dataframe to an interactive table.\"\n",
              "              style=\"display:none;\">\n",
              "        \n",
              "  <svg xmlns=\"http://www.w3.org/2000/svg\" height=\"24px\"viewBox=\"0 0 24 24\"\n",
              "       width=\"24px\">\n",
              "    <path d=\"M0 0h24v24H0V0z\" fill=\"none\"/>\n",
              "    <path d=\"M18.56 5.44l.94 2.06.94-2.06 2.06-.94-2.06-.94-.94-2.06-.94 2.06-2.06.94zm-11 1L8.5 8.5l.94-2.06 2.06-.94-2.06-.94L8.5 2.5l-.94 2.06-2.06.94zm10 10l.94 2.06.94-2.06 2.06-.94-2.06-.94-.94-2.06-.94 2.06-2.06.94z\"/><path d=\"M17.41 7.96l-1.37-1.37c-.4-.4-.92-.59-1.43-.59-.52 0-1.04.2-1.43.59L10.3 9.45l-7.72 7.72c-.78.78-.78 2.05 0 2.83L4 21.41c.39.39.9.59 1.41.59.51 0 1.02-.2 1.41-.59l7.78-7.78 2.81-2.81c.8-.78.8-2.07 0-2.86zM5.41 20L4 18.59l7.72-7.72 1.47 1.35L5.41 20z\"/>\n",
              "  </svg>\n",
              "      </button>\n",
              "      \n",
              "  <style>\n",
              "    .colab-df-container {\n",
              "      display:flex;\n",
              "      flex-wrap:wrap;\n",
              "      gap: 12px;\n",
              "    }\n",
              "\n",
              "    .colab-df-convert {\n",
              "      background-color: #E8F0FE;\n",
              "      border: none;\n",
              "      border-radius: 50%;\n",
              "      cursor: pointer;\n",
              "      display: none;\n",
              "      fill: #1967D2;\n",
              "      height: 32px;\n",
              "      padding: 0 0 0 0;\n",
              "      width: 32px;\n",
              "    }\n",
              "\n",
              "    .colab-df-convert:hover {\n",
              "      background-color: #E2EBFA;\n",
              "      box-shadow: 0px 1px 2px rgba(60, 64, 67, 0.3), 0px 1px 3px 1px rgba(60, 64, 67, 0.15);\n",
              "      fill: #174EA6;\n",
              "    }\n",
              "\n",
              "    [theme=dark] .colab-df-convert {\n",
              "      background-color: #3B4455;\n",
              "      fill: #D2E3FC;\n",
              "    }\n",
              "\n",
              "    [theme=dark] .colab-df-convert:hover {\n",
              "      background-color: #434B5C;\n",
              "      box-shadow: 0px 1px 3px 1px rgba(0, 0, 0, 0.15);\n",
              "      filter: drop-shadow(0px 1px 2px rgba(0, 0, 0, 0.3));\n",
              "      fill: #FFFFFF;\n",
              "    }\n",
              "  </style>\n",
              "\n",
              "      <script>\n",
              "        const buttonEl =\n",
              "          document.querySelector('#df-38e0e16c-9fa3-4e6b-a7f3-f7878fe3d045 button.colab-df-convert');\n",
              "        buttonEl.style.display =\n",
              "          google.colab.kernel.accessAllowed ? 'block' : 'none';\n",
              "\n",
              "        async function convertToInteractive(key) {\n",
              "          const element = document.querySelector('#df-38e0e16c-9fa3-4e6b-a7f3-f7878fe3d045');\n",
              "          const dataTable =\n",
              "            await google.colab.kernel.invokeFunction('convertToInteractive',\n",
              "                                                     [key], {});\n",
              "          if (!dataTable) return;\n",
              "\n",
              "          const docLinkHtml = 'Like what you see? Visit the ' +\n",
              "            '<a target=\"_blank\" href=https://colab.research.google.com/notebooks/data_table.ipynb>data table notebook</a>'\n",
              "            + ' to learn more about interactive tables.';\n",
              "          element.innerHTML = '';\n",
              "          dataTable['output_type'] = 'display_data';\n",
              "          await google.colab.output.renderOutput(dataTable, element);\n",
              "          const docLink = document.createElement('div');\n",
              "          docLink.innerHTML = docLinkHtml;\n",
              "          element.appendChild(docLink);\n",
              "        }\n",
              "      </script>\n",
              "    </div>\n",
              "  </div>\n",
              "  "
            ]
          },
          "metadata": {},
          "execution_count": 14
        }
      ],
      "source": [
        "long_session = session_length[session_length==2314].index[0]\n",
        "data[data['UserId']==long_session]"
      ]
    },
    {
      "cell_type": "markdown",
      "id": "c12289d2",
      "metadata": {
        "id": "c12289d2"
      },
      "source": [
        "특정 user가 짧은 간격으로 여러 영화에 대해 평점을 준 것이라고 볼 수 있다. 해당 영화를 다 보고 나서 한번에 평가를 할 수도 있기 때문에 해당 데이터를 그대로 가자.."
      ]
    },
    {
      "cell_type": "markdown",
      "id": "868874be",
      "metadata": {
        "id": "868874be"
      },
      "source": [
        "#### session length 길이 시각화"
      ]
    },
    {
      "cell_type": "code",
      "execution_count": 15,
      "id": "ef2bfe29",
      "metadata": {
        "colab": {
          "base_uri": "https://localhost:8080/"
        },
        "id": "ef2bfe29",
        "outputId": "5178a64a-f0fc-408d-e0cd-3cad314b93f5"
      },
      "outputs": [
        {
          "output_type": "execute_result",
          "data": {
            "text/plain": [
              "20     0.014238\n",
              "21     0.029305\n",
              "22     0.042053\n",
              "23     0.055464\n",
              "24     0.068874\n",
              "         ...   \n",
              "395    0.897682\n",
              "396    0.897848\n",
              "397    0.898344\n",
              "398    0.899007\n",
              "399    0.899834\n",
              "Length: 376, dtype: float64"
            ]
          },
          "metadata": {},
          "execution_count": 15
        }
      ],
      "source": [
        "length_count = session_length.groupby(session_length).size()\n",
        "length_percent_cumsum = length_count.cumsum() / length_count.sum()\n",
        "length_percent_cumsum_999 = length_percent_cumsum[length_percent_cumsum < 0.9]\n",
        "\n",
        "length_percent_cumsum_999"
      ]
    },
    {
      "cell_type": "code",
      "execution_count": 16,
      "id": "72114bc8",
      "metadata": {
        "colab": {
          "base_uri": "https://localhost:8080/",
          "height": 0
        },
        "id": "72114bc8",
        "outputId": "566c58b1-10bd-4ff6-b556-07d1b67b603e"
      },
      "outputs": [
        {
          "output_type": "display_data",
          "data": {
            "text/plain": [
              "<Figure size 1440x720 with 1 Axes>"
            ],
            "image/png": "[encoded data removed]"
          },
          "metadata": {
            "needs_background": "light"
          }
        }
      ],
      "source": [
        "import matplotlib.pyplot as plt\n",
        "\n",
        "plt.figure(figsize=(20, 10))\n",
        "plt.bar(x=length_percent_cumsum_999.index,\n",
        "        height=length_percent_cumsum_999, color='red')\n",
        "plt.xticks(length_percent_cumsum_999.index)\n",
        "plt.yticks(np.arange(0, 1.01, 0.05))\n",
        "plt.title('Cumsum Percentage Until 0.9', size=20)\n",
        "plt.show()"
      ]
    },
    {
      "cell_type": "markdown",
      "id": "c72a3ee6",
      "metadata": {
        "id": "c72a3ee6"
      },
      "source": [
        "### session Time"
      ]
    },
    {
      "cell_type": "code",
      "execution_count": 17,
      "id": "e14984c8",
      "metadata": {
        "colab": {
          "base_uri": "https://localhost:8080/"
        },
        "id": "e14984c8",
        "outputId": "bb38c388-e85a-4ada-9fa3-cc3b26289995"
      },
      "outputs": [
        {
          "output_type": "stream",
          "name": "stdout",
          "text": [
            "2000-04-25 23:05:32\n",
            "2003-02-28 17:49:50\n"
          ]
        }
      ],
      "source": [
        "oldest, latest = data['Time'].min(), data['Time'].max()\n",
        "print(oldest) \n",
        "print(latest)"
      ]
    },
    {
      "cell_type": "markdown",
      "id": "d41c3d67",
      "metadata": {
        "id": "d41c3d67"
      },
      "source": [
        "총 2000년 4월부터 2003년 2월까지의 데이터로 구성되어 있다는 것을 볼 수 있음"
      ]
    },
    {
      "cell_type": "code",
      "execution_count": 18,
      "id": "481a61cd",
      "metadata": {
        "colab": {
          "base_uri": "https://localhost:8080/"
        },
        "id": "481a61cd",
        "outputId": "da3910a8-c042-4e07-bc5f-07b45d5a6047"
      },
      "outputs": [
        {
          "output_type": "execute_result",
          "data": {
            "text/plain": [
              "pandas._libs.tslibs.timestamps.Timestamp"
            ]
          },
          "metadata": {},
          "execution_count": 18
        }
      ],
      "source": [
        "type(latest)"
      ]
    },
    {
      "cell_type": "code",
      "execution_count": 19,
      "id": "779c1453",
      "metadata": {
        "id": "779c1453"
      },
      "outputs": [],
      "source": [
        "# second_ago = latest - dt.timedelta(30) #가장 최근 데이터만 가져옴 \n",
        "# data = data[data['Time'] > second_ago]   # 방금 구한 날짜 이후의 데이터만 모은다. \n",
        "# data"
      ]
    },
    {
      "cell_type": "markdown",
      "id": "0b98aba8",
      "metadata": {
        "id": "0b98aba8"
      },
      "source": [
        "### Data Cleaning"
      ]
    },
    {
      "cell_type": "markdown",
      "id": "be0bfe33",
      "metadata": {
        "id": "be0bfe33"
      },
      "source": [
        "추천 시스템 목적으로 유저가 최소 1개 이상 클릭했을 때 다음 클릭을 예측하는 것이므로 길이가 1인 데이터는 제거"
      ]
    },
    {
      "cell_type": "code",
      "execution_count": 20,
      "id": "d303eabf",
      "metadata": {
        "colab": {
          "base_uri": "https://localhost:8080/",
          "height": 0
        },
        "id": "d303eabf",
        "outputId": "66ae544a-499d-4da2-c9cc-05fa24041bf9"
      },
      "outputs": [
        {
          "output_type": "execute_result",
          "data": {
            "text/plain": [
              "         UserId  ItemId                Time\n",
              "31            1    3186 2000-12-31 22:00:19\n",
              "22            1    1270 2000-12-31 22:00:55\n",
              "27            1    1721 2000-12-31 22:00:55\n",
              "37            1    1022 2000-12-31 22:00:55\n",
              "24            1    2340 2000-12-31 22:01:43\n",
              "...         ...     ...                 ...\n",
              "1000019    6040    2917 2001-08-10 14:40:29\n",
              "999988     6040    1921 2001-08-10 14:41:04\n",
              "1000172    6040    1784 2001-08-10 14:41:04\n",
              "1000167    6040     161 2001-08-10 14:41:26\n",
              "1000042    6040    1221 2001-08-20 13:44:15\n",
              "\n",
              "[999611 rows x 3 columns]"
            ],
            "text/html": [
              "\n",
              "  <div id=\"df-a8717f9b-8cfe-4600-a12e-f2071273dcdd\">\n",
              "    <div class=\"colab-df-container\">\n",
              "      <div>\n",
              "<style scoped>\n",
              "    .dataframe tbody tr th:only-of-type {\n",
              "        vertical-align: middle;\n",
              "    }\n",
              "\n",
              "    .dataframe tbody tr th {\n",
              "        vertical-align: top;\n",
              "    }\n",
              "\n",
              "    .dataframe thead th {\n",
              "        text-align: right;\n",
              "    }\n",
              "</style>\n",
              "<table border=\"1\" class=\"dataframe\">\n",
              "  <thead>\n",
              "    <tr style=\"text-align: right;\">\n",
              "      <th></th>\n",
              "      <th>UserId</th>\n",
              "      <th>ItemId</th>\n",
              "      <th>Time</th>\n",
              "    </tr>\n",
              "  </thead>\n",
              "  <tbody>\n",
              "    <tr>\n",
              "      <th>31</th>\n",
              "      <td>1</td>\n",
              "      <td>3186</td>\n",
              "      <td>2000-12-31 22:00:19</td>\n",
              "    </tr>\n",
              "    <tr>\n",
              "      <th>22</th>\n",
              "      <td>1</td>\n",
              "      <td>1270</td>\n",
              "      <td>2000-12-31 22:00:55</td>\n",
              "    </tr>\n",
              "    <tr>\n",
              "      <th>27</th>\n",
              "      <td>1</td>\n",
              "      <td>1721</td>\n",
              "      <td>2000-12-31 22:00:55</td>\n",
              "    </tr>\n",
              "    <tr>\n",
              "      <th>37</th>\n",
              "      <td>1</td>\n",
              "      <td>1022</td>\n",
              "      <td>2000-12-31 22:00:55</td>\n",
              "    </tr>\n",
              "    <tr>\n",
              "      <th>24</th>\n",
              "      <td>1</td>\n",
              "      <td>2340</td>\n",
              "      <td>2000-12-31 22:01:43</td>\n",
              "    </tr>\n",
              "    <tr>\n",
              "      <th>...</th>\n",
              "      <td>...</td>\n",
              "      <td>...</td>\n",
              "      <td>...</td>\n",
              "    </tr>\n",
              "    <tr>\n",
              "      <th>1000019</th>\n",
              "      <td>6040</td>\n",
              "      <td>2917</td>\n",
              "      <td>2001-08-10 14:40:29</td>\n",
              "    </tr>\n",
              "    <tr>\n",
              "      <th>999988</th>\n",
              "      <td>6040</td>\n",
              "      <td>1921</td>\n",
              "      <td>2001-08-10 14:41:04</td>\n",
              "    </tr>\n",
              "    <tr>\n",
              "      <th>1000172</th>\n",
              "      <td>6040</td>\n",
              "      <td>1784</td>\n",
              "      <td>2001-08-10 14:41:04</td>\n",
              "    </tr>\n",
              "    <tr>\n",
              "      <th>1000167</th>\n",
              "      <td>6040</td>\n",
              "      <td>161</td>\n",
              "      <td>2001-08-10 14:41:26</td>\n",
              "    </tr>\n",
              "    <tr>\n",
              "      <th>1000042</th>\n",
              "      <td>6040</td>\n",
              "      <td>1221</td>\n",
              "      <td>2001-08-20 13:44:15</td>\n",
              "    </tr>\n",
              "  </tbody>\n",
              "</table>\n",
              "<p>999611 rows × 3 columns</p>\n",
              "</div>\n",
              "      <button class=\"colab-df-convert\" onclick=\"convertToInteractive('df-a8717f9b-8cfe-4600-a12e-f2071273dcdd')\"\n",
              "              title=\"Convert this dataframe to an interactive table.\"\n",
              "              style=\"display:none;\">\n",
              "        \n",
              "  <svg xmlns=\"http://www.w3.org/2000/svg\" height=\"24px\"viewBox=\"0 0 24 24\"\n",
              "       width=\"24px\">\n",
              "    <path d=\"M0 0h24v24H0V0z\" fill=\"none\"/>\n",
              "    <path d=\"M18.56 5.44l.94 2.06.94-2.06 2.06-.94-2.06-.94-.94-2.06-.94 2.06-2.06.94zm-11 1L8.5 8.5l.94-2.06 2.06-.94-2.06-.94L8.5 2.5l-.94 2.06-2.06.94zm10 10l.94 2.06.94-2.06 2.06-.94-2.06-.94-.94-2.06-.94 2.06-2.06.94z\"/><path d=\"M17.41 7.96l-1.37-1.37c-.4-.4-.92-.59-1.43-.59-.52 0-1.04.2-1.43.59L10.3 9.45l-7.72 7.72c-.78.78-.78 2.05 0 2.83L4 21.41c.39.39.9.59 1.41.59.51 0 1.02-.2 1.41-.59l7.78-7.78 2.81-2.81c.8-.78.8-2.07 0-2.86zM5.41 20L4 18.59l7.72-7.72 1.47 1.35L5.41 20z\"/>\n",
              "  </svg>\n",
              "      </button>\n",
              "      \n",
              "  <style>\n",
              "    .colab-df-container {\n",
              "      display:flex;\n",
              "      flex-wrap:wrap;\n",
              "      gap: 12px;\n",
              "    }\n",
              "\n",
              "    .colab-df-convert {\n",
              "      background-color: #E8F0FE;\n",
              "      border: none;\n",
              "      border-radius: 50%;\n",
              "      cursor: pointer;\n",
              "      display: none;\n",
              "      fill: #1967D2;\n",
              "      height: 32px;\n",
              "      padding: 0 0 0 0;\n",
              "      width: 32px;\n",
              "    }\n",
              "\n",
              "    .colab-df-convert:hover {\n",
              "      background-color: #E2EBFA;\n",
              "      box-shadow: 0px 1px 2px rgba(60, 64, 67, 0.3), 0px 1px 3px 1px rgba(60, 64, 67, 0.15);\n",
              "      fill: #174EA6;\n",
              "    }\n",
              "\n",
              "    [theme=dark] .colab-df-convert {\n",
              "      background-color: #3B4455;\n",
              "      fill: #D2E3FC;\n",
              "    }\n",
              "\n",
              "    [theme=dark] .colab-df-convert:hover {\n",
              "      background-color: #434B5C;\n",
              "      box-shadow: 0px 1px 3px 1px rgba(0, 0, 0, 0.15);\n",
              "      filter: drop-shadow(0px 1px 2px rgba(0, 0, 0, 0.3));\n",
              "      fill: #FFFFFF;\n",
              "    }\n",
              "  </style>\n",
              "\n",
              "      <script>\n",
              "        const buttonEl =\n",
              "          document.querySelector('#df-a8717f9b-8cfe-4600-a12e-f2071273dcdd button.colab-df-convert');\n",
              "        buttonEl.style.display =\n",
              "          google.colab.kernel.accessAllowed ? 'block' : 'none';\n",
              "\n",
              "        async function convertToInteractive(key) {\n",
              "          const element = document.querySelector('#df-a8717f9b-8cfe-4600-a12e-f2071273dcdd');\n",
              "          const dataTable =\n",
              "            await google.colab.kernel.invokeFunction('convertToInteractive',\n",
              "                                                     [key], {});\n",
              "          if (!dataTable) return;\n",
              "\n",
              "          const docLinkHtml = 'Like what you see? Visit the ' +\n",
              "            '<a target=\"_blank\" href=https://colab.research.google.com/notebooks/data_table.ipynb>data table notebook</a>'\n",
              "            + ' to learn more about interactive tables.';\n",
              "          element.innerHTML = '';\n",
              "          dataTable['output_type'] = 'display_data';\n",
              "          await google.colab.output.renderOutput(dataTable, element);\n",
              "          const docLink = document.createElement('div');\n",
              "          docLink.innerHTML = docLinkHtml;\n",
              "          element.appendChild(docLink);\n",
              "        }\n",
              "      </script>\n",
              "    </div>\n",
              "  </div>\n",
              "  "
            ]
          },
          "metadata": {},
          "execution_count": 20
        }
      ],
      "source": [
        "# short_session을 제거한 다음 unpopular item을 제거하면 다시 길이가 1인 session이 생길 수 있습니다.\n",
        "# 이를 위해 반복문을 통해 지속적으로 제거 합니다.\n",
        "def cleanse_recursive(data: pd.DataFrame, shortest, least_click) -> pd.DataFrame:\n",
        "    while True:\n",
        "        before_len = len(data)\n",
        "        data = cleanse_short_session(data, shortest)\n",
        "        data = cleanse_unpopular_item(data, least_click)\n",
        "        after_len = len(data)\n",
        "        if before_len == after_len:\n",
        "            break\n",
        "    return data\n",
        "\n",
        "\n",
        "def cleanse_short_session(data: pd.DataFrame, shortest):\n",
        "    session_len = data.groupby('UserId').size()\n",
        "    session_use = session_len[session_len >= shortest].index\n",
        "    data = data[data['UserId'].isin(session_use)]\n",
        "    return data\n",
        "\n",
        "\n",
        "def cleanse_unpopular_item(data: pd.DataFrame, least_click):\n",
        "    item_popular = data.groupby('ItemId').size()\n",
        "    item_use = item_popular[item_popular >= least_click].index\n",
        "    data = data[data['ItemId'].isin(item_use)]\n",
        "    return data\n",
        "\n",
        "data = cleanse_recursive(data, shortest=2, least_click=5)\n",
        "data"
      ]
    },
    {
      "cell_type": "markdown",
      "id": "89fb0f8f",
      "metadata": {
        "id": "89fb0f8f"
      },
      "source": [
        "### train, valid , test data set으로 split"
      ]
    },
    {
      "cell_type": "markdown",
      "id": "6e4c4004",
      "metadata": {
        "id": "6e4c4004"
      },
      "source": [
        "시대의 콘텐츠 트렌드에 따라 사용자의 트렌드도 변경되기 때문에 기간에 따라 Train, valid, test set으로 나눈다."
      ]
    },
    {
      "cell_type": "code",
      "execution_count": 21,
      "id": "125be91c",
      "metadata": {
        "colab": {
          "base_uri": "https://localhost:8080/",
          "height": 423
        },
        "id": "125be91c",
        "outputId": "fb81fe1d-37b9-4a56-ce8d-aa3dc4e21eee"
      },
      "outputs": [
        {
          "output_type": "execute_result",
          "data": {
            "text/plain": [
              "         UserId  ItemId                Time\n",
              "31            1    3186 2000-12-31 22:00:19\n",
              "22            1    1270 2000-12-31 22:00:55\n",
              "27            1    1721 2000-12-31 22:00:55\n",
              "37            1    1022 2000-12-31 22:00:55\n",
              "24            1    2340 2000-12-31 22:01:43\n",
              "...         ...     ...                 ...\n",
              "1000019    6040    2917 2001-08-10 14:40:29\n",
              "999988     6040    1921 2001-08-10 14:41:04\n",
              "1000172    6040    1784 2001-08-10 14:41:04\n",
              "1000167    6040     161 2001-08-10 14:41:26\n",
              "1000042    6040    1221 2001-08-20 13:44:15\n",
              "\n",
              "[999611 rows x 3 columns]"
            ],
            "text/html": [
              "\n",
              "  <div id=\"df-83a6bd70-b571-4e20-916d-bae6565b738d\">\n",
              "    <div class=\"colab-df-container\">\n",
              "      <div>\n",
              "<style scoped>\n",
              "    .dataframe tbody tr th:only-of-type {\n",
              "        vertical-align: middle;\n",
              "    }\n",
              "\n",
              "    .dataframe tbody tr th {\n",
              "        vertical-align: top;\n",
              "    }\n",
              "\n",
              "    .dataframe thead th {\n",
              "        text-align: right;\n",
              "    }\n",
              "</style>\n",
              "<table border=\"1\" class=\"dataframe\">\n",
              "  <thead>\n",
              "    <tr style=\"text-align: right;\">\n",
              "      <th></th>\n",
              "      <th>UserId</th>\n",
              "      <th>ItemId</th>\n",
              "      <th>Time</th>\n",
              "    </tr>\n",
              "  </thead>\n",
              "  <tbody>\n",
              "    <tr>\n",
              "      <th>31</th>\n",
              "      <td>1</td>\n",
              "      <td>3186</td>\n",
              "      <td>2000-12-31 22:00:19</td>\n",
              "    </tr>\n",
              "    <tr>\n",
              "      <th>22</th>\n",
              "      <td>1</td>\n",
              "      <td>1270</td>\n",
              "      <td>2000-12-31 22:00:55</td>\n",
              "    </tr>\n",
              "    <tr>\n",
              "      <th>27</th>\n",
              "      <td>1</td>\n",
              "      <td>1721</td>\n",
              "      <td>2000-12-31 22:00:55</td>\n",
              "    </tr>\n",
              "    <tr>\n",
              "      <th>37</th>\n",
              "      <td>1</td>\n",
              "      <td>1022</td>\n",
              "      <td>2000-12-31 22:00:55</td>\n",
              "    </tr>\n",
              "    <tr>\n",
              "      <th>24</th>\n",
              "      <td>1</td>\n",
              "      <td>2340</td>\n",
              "      <td>2000-12-31 22:01:43</td>\n",
              "    </tr>\n",
              "    <tr>\n",
              "      <th>...</th>\n",
              "      <td>...</td>\n",
              "      <td>...</td>\n",
              "      <td>...</td>\n",
              "    </tr>\n",
              "    <tr>\n",
              "      <th>1000019</th>\n",
              "      <td>6040</td>\n",
              "      <td>2917</td>\n",
              "      <td>2001-08-10 14:40:29</td>\n",
              "    </tr>\n",
              "    <tr>\n",
              "      <th>999988</th>\n",
              "      <td>6040</td>\n",
              "      <td>1921</td>\n",
              "      <td>2001-08-10 14:41:04</td>\n",
              "    </tr>\n",
              "    <tr>\n",
              "      <th>1000172</th>\n",
              "      <td>6040</td>\n",
              "      <td>1784</td>\n",
              "      <td>2001-08-10 14:41:04</td>\n",
              "    </tr>\n",
              "    <tr>\n",
              "      <th>1000167</th>\n",
              "      <td>6040</td>\n",
              "      <td>161</td>\n",
              "      <td>2001-08-10 14:41:26</td>\n",
              "    </tr>\n",
              "    <tr>\n",
              "      <th>1000042</th>\n",
              "      <td>6040</td>\n",
              "      <td>1221</td>\n",
              "      <td>2001-08-20 13:44:15</td>\n",
              "    </tr>\n",
              "  </tbody>\n",
              "</table>\n",
              "<p>999611 rows × 3 columns</p>\n",
              "</div>\n",
              "      <button class=\"colab-df-convert\" onclick=\"convertToInteractive('df-83a6bd70-b571-4e20-916d-bae6565b738d')\"\n",
              "              title=\"Convert this dataframe to an interactive table.\"\n",
              "              style=\"display:none;\">\n",
              "        \n",
              "  <svg xmlns=\"http://www.w3.org/2000/svg\" height=\"24px\"viewBox=\"0 0 24 24\"\n",
              "       width=\"24px\">\n",
              "    <path d=\"M0 0h24v24H0V0z\" fill=\"none\"/>\n",
              "    <path d=\"M18.56 5.44l.94 2.06.94-2.06 2.06-.94-2.06-.94-.94-2.06-.94 2.06-2.06.94zm-11 1L8.5 8.5l.94-2.06 2.06-.94-2.06-.94L8.5 2.5l-.94 2.06-2.06.94zm10 10l.94 2.06.94-2.06 2.06-.94-2.06-.94-.94-2.06-.94 2.06-2.06.94z\"/><path d=\"M17.41 7.96l-1.37-1.37c-.4-.4-.92-.59-1.43-.59-.52 0-1.04.2-1.43.59L10.3 9.45l-7.72 7.72c-.78.78-.78 2.05 0 2.83L4 21.41c.39.39.9.59 1.41.59.51 0 1.02-.2 1.41-.59l7.78-7.78 2.81-2.81c.8-.78.8-2.07 0-2.86zM5.41 20L4 18.59l7.72-7.72 1.47 1.35L5.41 20z\"/>\n",
              "  </svg>\n",
              "      </button>\n",
              "      \n",
              "  <style>\n",
              "    .colab-df-container {\n",
              "      display:flex;\n",
              "      flex-wrap:wrap;\n",
              "      gap: 12px;\n",
              "    }\n",
              "\n",
              "    .colab-df-convert {\n",
              "      background-color: #E8F0FE;\n",
              "      border: none;\n",
              "      border-radius: 50%;\n",
              "      cursor: pointer;\n",
              "      display: none;\n",
              "      fill: #1967D2;\n",
              "      height: 32px;\n",
              "      padding: 0 0 0 0;\n",
              "      width: 32px;\n",
              "    }\n",
              "\n",
              "    .colab-df-convert:hover {\n",
              "      background-color: #E2EBFA;\n",
              "      box-shadow: 0px 1px 2px rgba(60, 64, 67, 0.3), 0px 1px 3px 1px rgba(60, 64, 67, 0.15);\n",
              "      fill: #174EA6;\n",
              "    }\n",
              "\n",
              "    [theme=dark] .colab-df-convert {\n",
              "      background-color: #3B4455;\n",
              "      fill: #D2E3FC;\n",
              "    }\n",
              "\n",
              "    [theme=dark] .colab-df-convert:hover {\n",
              "      background-color: #434B5C;\n",
              "      box-shadow: 0px 1px 3px 1px rgba(0, 0, 0, 0.15);\n",
              "      filter: drop-shadow(0px 1px 2px rgba(0, 0, 0, 0.3));\n",
              "      fill: #FFFFFF;\n",
              "    }\n",
              "  </style>\n",
              "\n",
              "      <script>\n",
              "        const buttonEl =\n",
              "          document.querySelector('#df-83a6bd70-b571-4e20-916d-bae6565b738d button.colab-df-convert');\n",
              "        buttonEl.style.display =\n",
              "          google.colab.kernel.accessAllowed ? 'block' : 'none';\n",
              "\n",
              "        async function convertToInteractive(key) {\n",
              "          const element = document.querySelector('#df-83a6bd70-b571-4e20-916d-bae6565b738d');\n",
              "          const dataTable =\n",
              "            await google.colab.kernel.invokeFunction('convertToInteractive',\n",
              "                                                     [key], {});\n",
              "          if (!dataTable) return;\n",
              "\n",
              "          const docLinkHtml = 'Like what you see? Visit the ' +\n",
              "            '<a target=\"_blank\" href=https://colab.research.google.com/notebooks/data_table.ipynb>data table notebook</a>'\n",
              "            + ' to learn more about interactive tables.';\n",
              "          element.innerHTML = '';\n",
              "          dataTable['output_type'] = 'display_data';\n",
              "          await google.colab.output.renderOutput(dataTable, element);\n",
              "          const docLink = document.createElement('div');\n",
              "          docLink.innerHTML = docLinkHtml;\n",
              "          element.appendChild(docLink);\n",
              "        }\n",
              "      </script>\n",
              "    </div>\n",
              "  </div>\n",
              "  "
            ]
          },
          "metadata": {},
          "execution_count": 21
        }
      ],
      "source": [
        "data"
      ]
    },
    {
      "cell_type": "code",
      "execution_count": 22,
      "id": "f28f87f2",
      "metadata": {
        "colab": {
          "base_uri": "https://localhost:8080/"
        },
        "id": "f28f87f2",
        "outputId": "89ae3489-9b49-4882-9915-6bffddff746c"
      },
      "outputs": [
        {
          "output_type": "execute_result",
          "data": {
            "text/plain": [
              "Timestamp('2003-02-28 17:49:50')"
            ]
          },
          "metadata": {},
          "execution_count": 22
        }
      ],
      "source": [
        "final_time = data['Time'].max()\n",
        "final_time"
      ]
    },
    {
      "cell_type": "code",
      "execution_count": 23,
      "id": "5bb9c797",
      "metadata": {
        "colab": {
          "base_uri": "https://localhost:8080/"
        },
        "id": "5bb9c797",
        "outputId": "618d86c6-1a63-468b-eb95-b093ba0d26a6"
      },
      "outputs": [
        {
          "output_type": "execute_result",
          "data": {
            "text/plain": [
              "UserId\n",
              "1      2001-01-06 23:39:11\n",
              "2      2000-12-31 22:02:54\n",
              "3      2000-12-31 21:35:04\n",
              "4      2000-12-31 20:24:42\n",
              "5      2000-12-31 07:09:45\n",
              "               ...        \n",
              "6036   2000-04-26 13:19:56\n",
              "6037   2000-04-27 02:17:20\n",
              "6038   2000-04-26 02:46:44\n",
              "6039   2000-04-26 14:07:09\n",
              "6040   2001-08-20 13:44:15\n",
              "Name: Time, Length: 6040, dtype: datetime64[ns]"
            ]
          },
          "metadata": {},
          "execution_count": 23
        }
      ],
      "source": [
        "session_last_time = data.groupby('UserId')['Time'].max()\n",
        "session_last_time"
      ]
    },
    {
      "cell_type": "code",
      "execution_count": 24,
      "id": "5735f1ac",
      "metadata": {
        "id": "5735f1ac"
      },
      "outputs": [],
      "source": [
        "session_in_train = session_last_time[session_last_time < final_time - dt.timedelta(milliseconds = 1)].index"
      ]
    },
    {
      "cell_type": "code",
      "execution_count": 25,
      "id": "d3e109f7",
      "metadata": {
        "colab": {
          "base_uri": "https://localhost:8080/"
        },
        "id": "d3e109f7",
        "outputId": "773fe8f0-7627-4032-f07e-0104ad878fe2"
      },
      "outputs": [
        {
          "output_type": "execute_result",
          "data": {
            "text/plain": [
              "Int64Index([   1,    2,    3,    4,    5,    6,    7,    8,    9,   10,\n",
              "            ...\n",
              "            6031, 6032, 6033, 6034, 6035, 6036, 6037, 6038, 6039, 6040],\n",
              "           dtype='int64', name='UserId', length=6039)"
            ]
          },
          "metadata": {},
          "execution_count": 25
        }
      ],
      "source": [
        "session_in_train"
      ]
    },
    {
      "cell_type": "code",
      "execution_count": 26,
      "id": "149e4c44",
      "metadata": {
        "id": "149e4c44"
      },
      "outputs": [],
      "source": [
        "def split_by_date(data: pd.DataFrame, n_Days: int):\n",
        "    final_time = data['Time'].max()\n",
        "    session_last_time = data.groupby('UserId')['Time'].max()\n",
        "    \n",
        "    session_in_train = session_last_time[session_last_time < final_time - dt.timedelta(n_Days)].index\n",
        "    session_in_test = session_last_time[session_last_time >= final_time - dt.timedelta(n_Days)].index\n",
        "    \n",
        "    before_date = data[data['UserId'].isin(session_in_train)]\n",
        "    after_date = data[data['UserId'].isin(session_in_test)]\n",
        "    after_date = after_date[after_date['ItemId'].isin(before_date['ItemId'])]\n",
        "    #print(before_date)\n",
        "    return before_date, after_date"
      ]
    },
    {
      "cell_type": "code",
      "execution_count": 27,
      "id": "24909678",
      "metadata": {
        "id": "24909678"
      },
      "outputs": [],
      "source": [
        "tr, test = split_by_date(data,n_Days = 90)"
      ]
    },
    {
      "cell_type": "code",
      "execution_count": 28,
      "id": "eaad84c6",
      "metadata": {
        "id": "eaad84c6"
      },
      "outputs": [],
      "source": [
        "tr, val = split_by_date(tr,n_Days = 150)"
      ]
    },
    {
      "cell_type": "code",
      "execution_count": 29,
      "id": "4805be48",
      "metadata": {
        "colab": {
          "base_uri": "https://localhost:8080/",
          "height": 423
        },
        "id": "4805be48",
        "outputId": "593e4f30-7f6a-492f-b09c-05abc186acc9"
      },
      "outputs": [
        {
          "output_type": "execute_result",
          "data": {
            "text/plain": [
              "        UserId  ItemId                Time\n",
              "5130        36    2671 2000-12-29 03:35:55\n",
              "5163        36    2250 2000-12-29 03:35:55\n",
              "5313        36    2023 2000-12-29 03:35:55\n",
              "5088        36    1270 2000-12-29 03:36:22\n",
              "5250        36    3301 2000-12-29 03:36:47\n",
              "...        ...     ...                 ...\n",
              "984731    5950    3948 2003-02-27 18:13:57\n",
              "984682    5950    3578 2003-02-27 18:14:30\n",
              "984475    5950    3793 2003-02-27 18:15:10\n",
              "984660    5950    3555 2003-02-27 18:15:37\n",
              "984733    5950    1262 2003-02-27 18:17:38\n",
              "\n",
              "[97700 rows x 3 columns]"
            ],
            "text/html": [
              "\n",
              "  <div id=\"df-05b40e21-5121-47a6-8f5b-f7ead7ef4245\">\n",
              "    <div class=\"colab-df-container\">\n",
              "      <div>\n",
              "<style scoped>\n",
              "    .dataframe tbody tr th:only-of-type {\n",
              "        vertical-align: middle;\n",
              "    }\n",
              "\n",
              "    .dataframe tbody tr th {\n",
              "        vertical-align: top;\n",
              "    }\n",
              "\n",
              "    .dataframe thead th {\n",
              "        text-align: right;\n",
              "    }\n",
              "</style>\n",
              "<table border=\"1\" class=\"dataframe\">\n",
              "  <thead>\n",
              "    <tr style=\"text-align: right;\">\n",
              "      <th></th>\n",
              "      <th>UserId</th>\n",
              "      <th>ItemId</th>\n",
              "      <th>Time</th>\n",
              "    </tr>\n",
              "  </thead>\n",
              "  <tbody>\n",
              "    <tr>\n",
              "      <th>5130</th>\n",
              "      <td>36</td>\n",
              "      <td>2671</td>\n",
              "      <td>2000-12-29 03:35:55</td>\n",
              "    </tr>\n",
              "    <tr>\n",
              "      <th>5163</th>\n",
              "      <td>36</td>\n",
              "      <td>2250</td>\n",
              "      <td>2000-12-29 03:35:55</td>\n",
              "    </tr>\n",
              "    <tr>\n",
              "      <th>5313</th>\n",
              "      <td>36</td>\n",
              "      <td>2023</td>\n",
              "      <td>2000-12-29 03:35:55</td>\n",
              "    </tr>\n",
              "    <tr>\n",
              "      <th>5088</th>\n",
              "      <td>36</td>\n",
              "      <td>1270</td>\n",
              "      <td>2000-12-29 03:36:22</td>\n",
              "    </tr>\n",
              "    <tr>\n",
              "      <th>5250</th>\n",
              "      <td>36</td>\n",
              "      <td>3301</td>\n",
              "      <td>2000-12-29 03:36:47</td>\n",
              "    </tr>\n",
              "    <tr>\n",
              "      <th>...</th>\n",
              "      <td>...</td>\n",
              "      <td>...</td>\n",
              "      <td>...</td>\n",
              "    </tr>\n",
              "    <tr>\n",
              "      <th>984731</th>\n",
              "      <td>5950</td>\n",
              "      <td>3948</td>\n",
              "      <td>2003-02-27 18:13:57</td>\n",
              "    </tr>\n",
              "    <tr>\n",
              "      <th>984682</th>\n",
              "      <td>5950</td>\n",
              "      <td>3578</td>\n",
              "      <td>2003-02-27 18:14:30</td>\n",
              "    </tr>\n",
              "    <tr>\n",
              "      <th>984475</th>\n",
              "      <td>5950</td>\n",
              "      <td>3793</td>\n",
              "      <td>2003-02-27 18:15:10</td>\n",
              "    </tr>\n",
              "    <tr>\n",
              "      <th>984660</th>\n",
              "      <td>5950</td>\n",
              "      <td>3555</td>\n",
              "      <td>2003-02-27 18:15:37</td>\n",
              "    </tr>\n",
              "    <tr>\n",
              "      <th>984733</th>\n",
              "      <td>5950</td>\n",
              "      <td>1262</td>\n",
              "      <td>2003-02-27 18:17:38</td>\n",
              "    </tr>\n",
              "  </tbody>\n",
              "</table>\n",
              "<p>97700 rows × 3 columns</p>\n",
              "</div>\n",
              "      <button class=\"colab-df-convert\" onclick=\"convertToInteractive('df-05b40e21-5121-47a6-8f5b-f7ead7ef4245')\"\n",
              "              title=\"Convert this dataframe to an interactive table.\"\n",
              "              style=\"display:none;\">\n",
              "        \n",
              "  <svg xmlns=\"http://www.w3.org/2000/svg\" height=\"24px\"viewBox=\"0 0 24 24\"\n",
              "       width=\"24px\">\n",
              "    <path d=\"M0 0h24v24H0V0z\" fill=\"none\"/>\n",
              "    <path d=\"M18.56 5.44l.94 2.06.94-2.06 2.06-.94-2.06-.94-.94-2.06-.94 2.06-2.06.94zm-11 1L8.5 8.5l.94-2.06 2.06-.94-2.06-.94L8.5 2.5l-.94 2.06-2.06.94zm10 10l.94 2.06.94-2.06 2.06-.94-2.06-.94-.94-2.06-.94 2.06-2.06.94z\"/><path d=\"M17.41 7.96l-1.37-1.37c-.4-.4-.92-.59-1.43-.59-.52 0-1.04.2-1.43.59L10.3 9.45l-7.72 7.72c-.78.78-.78 2.05 0 2.83L4 21.41c.39.39.9.59 1.41.59.51 0 1.02-.2 1.41-.59l7.78-7.78 2.81-2.81c.8-.78.8-2.07 0-2.86zM5.41 20L4 18.59l7.72-7.72 1.47 1.35L5.41 20z\"/>\n",
              "  </svg>\n",
              "      </button>\n",
              "      \n",
              "  <style>\n",
              "    .colab-df-container {\n",
              "      display:flex;\n",
              "      flex-wrap:wrap;\n",
              "      gap: 12px;\n",
              "    }\n",
              "\n",
              "    .colab-df-convert {\n",
              "      background-color: #E8F0FE;\n",
              "      border: none;\n",
              "      border-radius: 50%;\n",
              "      cursor: pointer;\n",
              "      display: none;\n",
              "      fill: #1967D2;\n",
              "      height: 32px;\n",
              "      padding: 0 0 0 0;\n",
              "      width: 32px;\n",
              "    }\n",
              "\n",
              "    .colab-df-convert:hover {\n",
              "      background-color: #E2EBFA;\n",
              "      box-shadow: 0px 1px 2px rgba(60, 64, 67, 0.3), 0px 1px 3px 1px rgba(60, 64, 67, 0.15);\n",
              "      fill: #174EA6;\n",
              "    }\n",
              "\n",
              "    [theme=dark] .colab-df-convert {\n",
              "      background-color: #3B4455;\n",
              "      fill: #D2E3FC;\n",
              "    }\n",
              "\n",
              "    [theme=dark] .colab-df-convert:hover {\n",
              "      background-color: #434B5C;\n",
              "      box-shadow: 0px 1px 3px 1px rgba(0, 0, 0, 0.15);\n",
              "      filter: drop-shadow(0px 1px 2px rgba(0, 0, 0, 0.3));\n",
              "      fill: #FFFFFF;\n",
              "    }\n",
              "  </style>\n",
              "\n",
              "      <script>\n",
              "        const buttonEl =\n",
              "          document.querySelector('#df-05b40e21-5121-47a6-8f5b-f7ead7ef4245 button.colab-df-convert');\n",
              "        buttonEl.style.display =\n",
              "          google.colab.kernel.accessAllowed ? 'block' : 'none';\n",
              "\n",
              "        async function convertToInteractive(key) {\n",
              "          const element = document.querySelector('#df-05b40e21-5121-47a6-8f5b-f7ead7ef4245');\n",
              "          const dataTable =\n",
              "            await google.colab.kernel.invokeFunction('convertToInteractive',\n",
              "                                                     [key], {});\n",
              "          if (!dataTable) return;\n",
              "\n",
              "          const docLinkHtml = 'Like what you see? Visit the ' +\n",
              "            '<a target=\"_blank\" href=https://colab.research.google.com/notebooks/data_table.ipynb>data table notebook</a>'\n",
              "            + ' to learn more about interactive tables.';\n",
              "          element.innerHTML = '';\n",
              "          dataTable['output_type'] = 'display_data';\n",
              "          await google.colab.output.renderOutput(dataTable, element);\n",
              "          const docLink = document.createElement('div');\n",
              "          docLink.innerHTML = docLinkHtml;\n",
              "          element.appendChild(docLink);\n",
              "        }\n",
              "      </script>\n",
              "    </div>\n",
              "  </div>\n",
              "  "
            ]
          },
          "metadata": {},
          "execution_count": 29
        }
      ],
      "source": [
        "test"
      ]
    },
    {
      "cell_type": "code",
      "execution_count": 30,
      "id": "423455b6",
      "metadata": {
        "id": "423455b6"
      },
      "outputs": [],
      "source": [
        "# data에 대한 정보를 살펴봅니다.\n",
        "def stats_info(data: pd.DataFrame, status: str):\n",
        "    print(f'* {status} Set Stats Info\\n'\n",
        "          f'\\t Events: {len(data)}\\n'\n",
        "          f'\\t Sessions: {data[\"UserId\"].nunique()}\\n'\n",
        "          f'\\t Items: {data[\"ItemId\"].nunique()}\\n'\n",
        "          f'\\t First Time : {data[\"Time\"].min()}\\n'\n",
        "          f'\\t Last Time : {data[\"Time\"].max()}\\n')"
      ]
    },
    {
      "cell_type": "code",
      "execution_count": 31,
      "id": "049addc1",
      "metadata": {
        "colab": {
          "base_uri": "https://localhost:8080/"
        },
        "id": "049addc1",
        "outputId": "afd42f94-e553-4f6a-f06f-9f39ada110a5"
      },
      "outputs": [
        {
          "output_type": "stream",
          "name": "stdout",
          "text": [
            "* train Set Stats Info\n",
            "\t Events: 844530\n",
            "\t Sessions: 5653\n",
            "\t Items: 3416\n",
            "\t First Time : 2000-04-25 23:05:32\n",
            "\t Last Time : 2002-07-02 15:40:10\n",
            "\n",
            "* valid Set Stats Info\n",
            "\t Events: 57381\n",
            "\t Sessions: 154\n",
            "\t Items: 3137\n",
            "\t First Time : 2000-04-27 16:38:08\n",
            "\t Last Time : 2002-11-30 13:47:32\n",
            "\n",
            "* test Set Stats Info\n",
            "\t Events: 97700\n",
            "\t Sessions: 233\n",
            "\t Items: 3279\n",
            "\t First Time : 2000-05-01 11:15:13\n",
            "\t Last Time : 2003-02-28 17:49:50\n",
            "\n"
          ]
        }
      ],
      "source": [
        "stats_info(tr, 'train')\n",
        "stats_info(val, 'valid')\n",
        "stats_info(test, 'test')"
      ]
    },
    {
      "cell_type": "code",
      "execution_count": 32,
      "id": "40f19fb7",
      "metadata": {
        "id": "40f19fb7"
      },
      "outputs": [],
      "source": [
        "# train set에 없는 아이템이 val, test기간에 생길 수 있으므로 train data를 기준으로 인덱싱합니다.\n",
        "id2idx = {item_id : index for index, item_id in enumerate(tr['ItemId'].unique())}\n",
        "\n",
        "def indexing(df, id2idx):\n",
        "    df['item_idx'] = df['ItemId'].map(lambda x: id2idx.get(x, -1))  # id2idx에 없는 아이템은 모르는 값(-1) 처리 해줍니다.\n",
        "    return df\n",
        "\n",
        "tr = indexing(tr, id2idx)\n",
        "val = indexing(val, id2idx)\n",
        "test = indexing(test, id2idx)"
      ]
    },
    {
      "cell_type": "markdown",
      "id": "b5a71c69",
      "metadata": {
        "id": "b5a71c69"
      },
      "source": [
        "#### data pipeline 구축"
      ]
    },
    {
      "cell_type": "code",
      "execution_count": 33,
      "id": "1744dcf3",
      "metadata": {
        "id": "1744dcf3"
      },
      "outputs": [],
      "source": [
        "save_path = data_path / 'processed'\n",
        "save_path.mkdir(parents=True, exist_ok=True)\n",
        "\n",
        "tr.to_pickle(save_path / 'train.pkl')\n",
        "val.to_pickle(save_path / 'valid.pkl')\n",
        "test.to_pickle(save_path / 'test.pkl')"
      ]
    },
    {
      "cell_type": "markdown",
      "id": "78d6602a",
      "metadata": {
        "id": "78d6602a"
      },
      "source": [
        "### Session Dataset"
      ]
    },
    {
      "cell_type": "markdown",
      "id": "827c3cbd",
      "metadata": {
        "id": "827c3cbd"
      },
      "source": [
        "데이터가 주어지면 세션이 시작되는 인덱스를 담는 값과 세션을 새로 인덱싱한 값을 갖는 클래스"
      ]
    },
    {
      "cell_type": "code",
      "execution_count": 34,
      "id": "6cce7b7b",
      "metadata": {
        "id": "6cce7b7b"
      },
      "outputs": [],
      "source": [
        "class SessionDataset:\n",
        "    \"\"\"Credit to yhs-968/pyGRU4REC.\"\"\"\n",
        "\n",
        "    def __init__(self, data):\n",
        "        self.df = data\n",
        "        self.click_offsets = self.get_click_offsets()\n",
        "        self.session_idx = np.arange(self.df['UserId'].nunique())  # indexing to SessionId\n",
        "\n",
        "    def get_click_offsets(self):\n",
        "        \"\"\"\n",
        "        Return the indexes of the first click of each user IDs,\n",
        "        \"\"\"\n",
        "        offsets = np.zeros(self.df['UserId'].nunique() + 1, dtype=np.int32)\n",
        "        offsets[1:] = self.df.groupby('UserId').size().cumsum()\n",
        "        return offsets"
      ]
    },
    {
      "cell_type": "code",
      "execution_count": 35,
      "id": "d01bb466",
      "metadata": {
        "colab": {
          "base_uri": "https://localhost:8080/",
          "height": 363
        },
        "id": "d01bb466",
        "outputId": "91db2bf9-401b-4454-ee34-56973deba5e0"
      },
      "outputs": [
        {
          "output_type": "execute_result",
          "data": {
            "text/plain": [
              "    UserId  ItemId                Time  item_idx\n",
              "31       1    3186 2000-12-31 22:00:19         0\n",
              "22       1    1270 2000-12-31 22:00:55         1\n",
              "27       1    1721 2000-12-31 22:00:55         2\n",
              "37       1    1022 2000-12-31 22:00:55         3\n",
              "24       1    2340 2000-12-31 22:01:43         4\n",
              "36       1    1836 2000-12-31 22:02:52         5\n",
              "3        1    3408 2000-12-31 22:04:35         6\n",
              "7        1    2804 2000-12-31 22:11:59         7\n",
              "47       1    1207 2000-12-31 22:11:59         8\n",
              "0        1    1193 2000-12-31 22:12:40         9"
            ],
            "text/html": [
              "\n",
              "  <div id=\"df-5f607d5d-1cb2-4dcf-a76f-4cc78b48ce29\">\n",
              "    <div class=\"colab-df-container\">\n",
              "      <div>\n",
              "<style scoped>\n",
              "    .dataframe tbody tr th:only-of-type {\n",
              "        vertical-align: middle;\n",
              "    }\n",
              "\n",
              "    .dataframe tbody tr th {\n",
              "        vertical-align: top;\n",
              "    }\n",
              "\n",
              "    .dataframe thead th {\n",
              "        text-align: right;\n",
              "    }\n",
              "</style>\n",
              "<table border=\"1\" class=\"dataframe\">\n",
              "  <thead>\n",
              "    <tr style=\"text-align: right;\">\n",
              "      <th></th>\n",
              "      <th>UserId</th>\n",
              "      <th>ItemId</th>\n",
              "      <th>Time</th>\n",
              "      <th>item_idx</th>\n",
              "    </tr>\n",
              "  </thead>\n",
              "  <tbody>\n",
              "    <tr>\n",
              "      <th>31</th>\n",
              "      <td>1</td>\n",
              "      <td>3186</td>\n",
              "      <td>2000-12-31 22:00:19</td>\n",
              "      <td>0</td>\n",
              "    </tr>\n",
              "    <tr>\n",
              "      <th>22</th>\n",
              "      <td>1</td>\n",
              "      <td>1270</td>\n",
              "      <td>2000-12-31 22:00:55</td>\n",
              "      <td>1</td>\n",
              "    </tr>\n",
              "    <tr>\n",
              "      <th>27</th>\n",
              "      <td>1</td>\n",
              "      <td>1721</td>\n",
              "      <td>2000-12-31 22:00:55</td>\n",
              "      <td>2</td>\n",
              "    </tr>\n",
              "    <tr>\n",
              "      <th>37</th>\n",
              "      <td>1</td>\n",
              "      <td>1022</td>\n",
              "      <td>2000-12-31 22:00:55</td>\n",
              "      <td>3</td>\n",
              "    </tr>\n",
              "    <tr>\n",
              "      <th>24</th>\n",
              "      <td>1</td>\n",
              "      <td>2340</td>\n",
              "      <td>2000-12-31 22:01:43</td>\n",
              "      <td>4</td>\n",
              "    </tr>\n",
              "    <tr>\n",
              "      <th>36</th>\n",
              "      <td>1</td>\n",
              "      <td>1836</td>\n",
              "      <td>2000-12-31 22:02:52</td>\n",
              "      <td>5</td>\n",
              "    </tr>\n",
              "    <tr>\n",
              "      <th>3</th>\n",
              "      <td>1</td>\n",
              "      <td>3408</td>\n",
              "      <td>2000-12-31 22:04:35</td>\n",
              "      <td>6</td>\n",
              "    </tr>\n",
              "    <tr>\n",
              "      <th>7</th>\n",
              "      <td>1</td>\n",
              "      <td>2804</td>\n",
              "      <td>2000-12-31 22:11:59</td>\n",
              "      <td>7</td>\n",
              "    </tr>\n",
              "    <tr>\n",
              "      <th>47</th>\n",
              "      <td>1</td>\n",
              "      <td>1207</td>\n",
              "      <td>2000-12-31 22:11:59</td>\n",
              "      <td>8</td>\n",
              "    </tr>\n",
              "    <tr>\n",
              "      <th>0</th>\n",
              "      <td>1</td>\n",
              "      <td>1193</td>\n",
              "      <td>2000-12-31 22:12:40</td>\n",
              "      <td>9</td>\n",
              "    </tr>\n",
              "  </tbody>\n",
              "</table>\n",
              "</div>\n",
              "      <button class=\"colab-df-convert\" onclick=\"convertToInteractive('df-5f607d5d-1cb2-4dcf-a76f-4cc78b48ce29')\"\n",
              "              title=\"Convert this dataframe to an interactive table.\"\n",
              "              style=\"display:none;\">\n",
              "        \n",
              "  <svg xmlns=\"http://www.w3.org/2000/svg\" height=\"24px\"viewBox=\"0 0 24 24\"\n",
              "       width=\"24px\">\n",
              "    <path d=\"M0 0h24v24H0V0z\" fill=\"none\"/>\n",
              "    <path d=\"M18.56 5.44l.94 2.06.94-2.06 2.06-.94-2.06-.94-.94-2.06-.94 2.06-2.06.94zm-11 1L8.5 8.5l.94-2.06 2.06-.94-2.06-.94L8.5 2.5l-.94 2.06-2.06.94zm10 10l.94 2.06.94-2.06 2.06-.94-2.06-.94-.94-2.06-.94 2.06-2.06.94z\"/><path d=\"M17.41 7.96l-1.37-1.37c-.4-.4-.92-.59-1.43-.59-.52 0-1.04.2-1.43.59L10.3 9.45l-7.72 7.72c-.78.78-.78 2.05 0 2.83L4 21.41c.39.39.9.59 1.41.59.51 0 1.02-.2 1.41-.59l7.78-7.78 2.81-2.81c.8-.78.8-2.07 0-2.86zM5.41 20L4 18.59l7.72-7.72 1.47 1.35L5.41 20z\"/>\n",
              "  </svg>\n",
              "      </button>\n",
              "      \n",
              "  <style>\n",
              "    .colab-df-container {\n",
              "      display:flex;\n",
              "      flex-wrap:wrap;\n",
              "      gap: 12px;\n",
              "    }\n",
              "\n",
              "    .colab-df-convert {\n",
              "      background-color: #E8F0FE;\n",
              "      border: none;\n",
              "      border-radius: 50%;\n",
              "      cursor: pointer;\n",
              "      display: none;\n",
              "      fill: #1967D2;\n",
              "      height: 32px;\n",
              "      padding: 0 0 0 0;\n",
              "      width: 32px;\n",
              "    }\n",
              "\n",
              "    .colab-df-convert:hover {\n",
              "      background-color: #E2EBFA;\n",
              "      box-shadow: 0px 1px 2px rgba(60, 64, 67, 0.3), 0px 1px 3px 1px rgba(60, 64, 67, 0.15);\n",
              "      fill: #174EA6;\n",
              "    }\n",
              "\n",
              "    [theme=dark] .colab-df-convert {\n",
              "      background-color: #3B4455;\n",
              "      fill: #D2E3FC;\n",
              "    }\n",
              "\n",
              "    [theme=dark] .colab-df-convert:hover {\n",
              "      background-color: #434B5C;\n",
              "      box-shadow: 0px 1px 3px 1px rgba(0, 0, 0, 0.15);\n",
              "      filter: drop-shadow(0px 1px 2px rgba(0, 0, 0, 0.3));\n",
              "      fill: #FFFFFF;\n",
              "    }\n",
              "  </style>\n",
              "\n",
              "      <script>\n",
              "        const buttonEl =\n",
              "          document.querySelector('#df-5f607d5d-1cb2-4dcf-a76f-4cc78b48ce29 button.colab-df-convert');\n",
              "        buttonEl.style.display =\n",
              "          google.colab.kernel.accessAllowed ? 'block' : 'none';\n",
              "\n",
              "        async function convertToInteractive(key) {\n",
              "          const element = document.querySelector('#df-5f607d5d-1cb2-4dcf-a76f-4cc78b48ce29');\n",
              "          const dataTable =\n",
              "            await google.colab.kernel.invokeFunction('convertToInteractive',\n",
              "                                                     [key], {});\n",
              "          if (!dataTable) return;\n",
              "\n",
              "          const docLinkHtml = 'Like what you see? Visit the ' +\n",
              "            '<a target=\"_blank\" href=https://colab.research.google.com/notebooks/data_table.ipynb>data table notebook</a>'\n",
              "            + ' to learn more about interactive tables.';\n",
              "          element.innerHTML = '';\n",
              "          dataTable['output_type'] = 'display_data';\n",
              "          await google.colab.output.renderOutput(dataTable, element);\n",
              "          const docLink = document.createElement('div');\n",
              "          docLink.innerHTML = docLinkHtml;\n",
              "          element.appendChild(docLink);\n",
              "        }\n",
              "      </script>\n",
              "    </div>\n",
              "  </div>\n",
              "  "
            ]
          },
          "metadata": {},
          "execution_count": 35
        }
      ],
      "source": [
        "tr_dataset = SessionDataset(tr)\n",
        "tr_dataset.df.head(10)"
      ]
    },
    {
      "cell_type": "code",
      "execution_count": 36,
      "id": "d87bf51f",
      "metadata": {
        "colab": {
          "base_uri": "https://localhost:8080/"
        },
        "id": "d87bf51f",
        "outputId": "4c903af8-4b75-4afe-e618-f8b11ad6e707"
      },
      "outputs": [
        {
          "output_type": "execute_result",
          "data": {
            "text/plain": [
              "array([     0,     53,    182, ..., 844066, 844189, 844530], dtype=int32)"
            ]
          },
          "metadata": {},
          "execution_count": 36
        }
      ],
      "source": [
        "tr_dataset.click_offsets"
      ]
    },
    {
      "cell_type": "code",
      "execution_count": 37,
      "id": "f05a6c8a",
      "metadata": {
        "colab": {
          "base_uri": "https://localhost:8080/"
        },
        "id": "f05a6c8a",
        "outputId": "4e3b591a-5fc6-468a-d634-59d7538c1b01"
      },
      "outputs": [
        {
          "output_type": "execute_result",
          "data": {
            "text/plain": [
              "array([   0,    1,    2, ..., 5650, 5651, 5652])"
            ]
          },
          "metadata": {},
          "execution_count": 37
        }
      ],
      "source": [
        "tr_dataset.session_idx"
      ]
    },
    {
      "cell_type": "markdown",
      "id": "e49f4c15",
      "metadata": {
        "id": "e49f4c15"
      },
      "source": [
        "### Session DataLoader"
      ]
    },
    {
      "cell_type": "markdown",
      "id": "88b78066",
      "metadata": {
        "id": "88b78066"
      },
      "source": [
        "RNN Cell State 초기화에 사용"
      ]
    },
    {
      "cell_type": "code",
      "execution_count": 38,
      "id": "50fb0022",
      "metadata": {
        "id": "50fb0022"
      },
      "outputs": [],
      "source": [
        "class SessionDataLoader:\n",
        "    \"\"\"Credit to yhs-968/pyGRU4REC.\"\"\"\n",
        "\n",
        "    def __init__(self, dataset: SessionDataset, batch_size=50):\n",
        "        self.dataset = dataset\n",
        "        self.batch_size = batch_size\n",
        "\n",
        "    def __iter__(self):\n",
        "        \"\"\" Returns the iterator for producing session-parallel training mini-batches.\n",
        "        Yields:\n",
        "            input (B,):  Item indices that will be encoded as one-hot vectors later.\n",
        "            target (B,): a Variable that stores the target item indices\n",
        "            masks: Numpy array indicating the positions of the sessions to be terminated\n",
        "        \"\"\"\n",
        "\n",
        "        start, end, mask, last_session, finished = self.initialize()  # initialize 메소드에서 확인해주세요.\n",
        "        \"\"\"\n",
        "        start : Index Where Session Start\n",
        "        end : Index Where Session End\n",
        "        mask : indicator for the sessions to be terminated\n",
        "        \"\"\"\n",
        "\n",
        "        while not finished:\n",
        "            min_len = (end - start).min() - 1  # Shortest Length Among Sessions\n",
        "            for i in range(min_len):\n",
        "                # Build inputs & targets\n",
        "                inp = self.dataset.df['item_idx'].values[start + i]\n",
        "                target = self.dataset.df['item_idx'].values[start + i + 1]\n",
        "                yield inp, target, mask\n",
        "\n",
        "            start, end, mask, last_session, finished = self.update_status(start, end, min_len, last_session, finished)\n",
        "\n",
        "    def initialize(self):\n",
        "        first_iters = np.arange(self.batch_size)    # 첫 배치에 사용할 세션 Index를 가져옵니다.\n",
        "        last_session = self.batch_size - 1    # 마지막으로 다루고 있는 세션 Index를 저장해둡니다.\n",
        "        start = self.dataset.click_offsets[self.dataset.session_idx[first_iters]]       # data 상에서 session이 시작된 위치를 가져옵니다.\n",
        "        end = self.dataset.click_offsets[self.dataset.session_idx[first_iters] + 1]  # session이 끝난 위치 바로 다음 위치를 가져옵니다.\n",
        "        mask = np.array([])   # session의 모든 아이템을 다 돌은 경우 mask에 추가해줄 것입니다.\n",
        "        finished = False         # data를 전부 돌았는지 기록하기 위한 변수입니다.\n",
        "        return start, end, mask, last_session, finished\n",
        "\n",
        "    def update_status(self, start: np.ndarray, end: np.ndarray, min_len: int, last_session: int, finished: bool):  \n",
        "        # 다음 배치 데이터를 생성하기 위해 상태를 update합니다.\n",
        "        \n",
        "        start += min_len   # __iter__에서 min_len 만큼 for문을 돌았으므로 start를 min_len 만큼 더해줍니다.\n",
        "        mask = np.arange(self.batch_size)[(end - start) == 1]  \n",
        "        # end는 다음 세션이 시작되는 위치인데 start와 한 칸 차이난다는 것은 session이 끝났다는 뜻입니다. mask에 기록해줍니다.\n",
        "\n",
        "        for i, idx in enumerate(mask, start=1):  # mask에 추가된 세션 개수만큼 새로운 세션을 돌것입니다.\n",
        "            new_session = last_session + i  \n",
        "            if new_session > self.dataset.session_idx[-1]:  # 만약 새로운 세션이 마지막 세션 index보다 크다면 모든 학습데이터를 돈 것입니다.\n",
        "                finished = True\n",
        "                break\n",
        "            # update the next starting/ending point\n",
        "            start[idx] = self.dataset.click_offsets[self.dataset.session_idx[new_session]]     # 종료된 세션 대신 새로운 세션의 시작점을 기록합니다.\n",
        "            end[idx] = self.dataset.click_offsets[self.dataset.session_idx[new_session] + 1]\n",
        "\n",
        "        last_session += len(mask)  # 마지막 세션의 위치를 기록해둡니다.\n",
        "        return start, end, mask, last_session, finished"
      ]
    },
    {
      "cell_type": "code",
      "execution_count": 39,
      "id": "f52bfeef",
      "metadata": {
        "colab": {
          "base_uri": "https://localhost:8080/",
          "height": 520
        },
        "id": "f52bfeef",
        "outputId": "ac13de8f-1c7f-4a0c-e97a-022451eb16e2"
      },
      "outputs": [
        {
          "output_type": "execute_result",
          "data": {
            "text/plain": [
              "    UserId  ItemId                Time  item_idx\n",
              "31       1    3186 2000-12-31 22:00:19         0\n",
              "22       1    1270 2000-12-31 22:00:55         1\n",
              "27       1    1721 2000-12-31 22:00:55         2\n",
              "37       1    1022 2000-12-31 22:00:55         3\n",
              "24       1    2340 2000-12-31 22:01:43         4\n",
              "36       1    1836 2000-12-31 22:02:52         5\n",
              "3        1    3408 2000-12-31 22:04:35         6\n",
              "7        1    2804 2000-12-31 22:11:59         7\n",
              "47       1    1207 2000-12-31 22:11:59         8\n",
              "0        1    1193 2000-12-31 22:12:40         9\n",
              "21       1     720 2000-12-31 22:12:40        10\n",
              "44       1     260 2000-12-31 22:12:40        11\n",
              "9        1     919 2000-12-31 22:22:48        12\n",
              "51       1     608 2000-12-31 22:23:18        13\n",
              "43       1    2692 2000-12-31 22:26:10        14"
            ],
            "text/html": [
              "\n",
              "  <div id=\"df-02bf0aba-b84c-4c9c-89d5-1777dd938dd9\">\n",
              "    <div class=\"colab-df-container\">\n",
              "      <div>\n",
              "<style scoped>\n",
              "    .dataframe tbody tr th:only-of-type {\n",
              "        vertical-align: middle;\n",
              "    }\n",
              "\n",
              "    .dataframe tbody tr th {\n",
              "        vertical-align: top;\n",
              "    }\n",
              "\n",
              "    .dataframe thead th {\n",
              "        text-align: right;\n",
              "    }\n",
              "</style>\n",
              "<table border=\"1\" class=\"dataframe\">\n",
              "  <thead>\n",
              "    <tr style=\"text-align: right;\">\n",
              "      <th></th>\n",
              "      <th>UserId</th>\n",
              "      <th>ItemId</th>\n",
              "      <th>Time</th>\n",
              "      <th>item_idx</th>\n",
              "    </tr>\n",
              "  </thead>\n",
              "  <tbody>\n",
              "    <tr>\n",
              "      <th>31</th>\n",
              "      <td>1</td>\n",
              "      <td>3186</td>\n",
              "      <td>2000-12-31 22:00:19</td>\n",
              "      <td>0</td>\n",
              "    </tr>\n",
              "    <tr>\n",
              "      <th>22</th>\n",
              "      <td>1</td>\n",
              "      <td>1270</td>\n",
              "      <td>2000-12-31 22:00:55</td>\n",
              "      <td>1</td>\n",
              "    </tr>\n",
              "    <tr>\n",
              "      <th>27</th>\n",
              "      <td>1</td>\n",
              "      <td>1721</td>\n",
              "      <td>2000-12-31 22:00:55</td>\n",
              "      <td>2</td>\n",
              "    </tr>\n",
              "    <tr>\n",
              "      <th>37</th>\n",
              "      <td>1</td>\n",
              "      <td>1022</td>\n",
              "      <td>2000-12-31 22:00:55</td>\n",
              "      <td>3</td>\n",
              "    </tr>\n",
              "    <tr>\n",
              "      <th>24</th>\n",
              "      <td>1</td>\n",
              "      <td>2340</td>\n",
              "      <td>2000-12-31 22:01:43</td>\n",
              "      <td>4</td>\n",
              "    </tr>\n",
              "    <tr>\n",
              "      <th>36</th>\n",
              "      <td>1</td>\n",
              "      <td>1836</td>\n",
              "      <td>2000-12-31 22:02:52</td>\n",
              "      <td>5</td>\n",
              "    </tr>\n",
              "    <tr>\n",
              "      <th>3</th>\n",
              "      <td>1</td>\n",
              "      <td>3408</td>\n",
              "      <td>2000-12-31 22:04:35</td>\n",
              "      <td>6</td>\n",
              "    </tr>\n",
              "    <tr>\n",
              "      <th>7</th>\n",
              "      <td>1</td>\n",
              "      <td>2804</td>\n",
              "      <td>2000-12-31 22:11:59</td>\n",
              "      <td>7</td>\n",
              "    </tr>\n",
              "    <tr>\n",
              "      <th>47</th>\n",
              "      <td>1</td>\n",
              "      <td>1207</td>\n",
              "      <td>2000-12-31 22:11:59</td>\n",
              "      <td>8</td>\n",
              "    </tr>\n",
              "    <tr>\n",
              "      <th>0</th>\n",
              "      <td>1</td>\n",
              "      <td>1193</td>\n",
              "      <td>2000-12-31 22:12:40</td>\n",
              "      <td>9</td>\n",
              "    </tr>\n",
              "    <tr>\n",
              "      <th>21</th>\n",
              "      <td>1</td>\n",
              "      <td>720</td>\n",
              "      <td>2000-12-31 22:12:40</td>\n",
              "      <td>10</td>\n",
              "    </tr>\n",
              "    <tr>\n",
              "      <th>44</th>\n",
              "      <td>1</td>\n",
              "      <td>260</td>\n",
              "      <td>2000-12-31 22:12:40</td>\n",
              "      <td>11</td>\n",
              "    </tr>\n",
              "    <tr>\n",
              "      <th>9</th>\n",
              "      <td>1</td>\n",
              "      <td>919</td>\n",
              "      <td>2000-12-31 22:22:48</td>\n",
              "      <td>12</td>\n",
              "    </tr>\n",
              "    <tr>\n",
              "      <th>51</th>\n",
              "      <td>1</td>\n",
              "      <td>608</td>\n",
              "      <td>2000-12-31 22:23:18</td>\n",
              "      <td>13</td>\n",
              "    </tr>\n",
              "    <tr>\n",
              "      <th>43</th>\n",
              "      <td>1</td>\n",
              "      <td>2692</td>\n",
              "      <td>2000-12-31 22:26:10</td>\n",
              "      <td>14</td>\n",
              "    </tr>\n",
              "  </tbody>\n",
              "</table>\n",
              "</div>\n",
              "      <button class=\"colab-df-convert\" onclick=\"convertToInteractive('df-02bf0aba-b84c-4c9c-89d5-1777dd938dd9')\"\n",
              "              title=\"Convert this dataframe to an interactive table.\"\n",
              "              style=\"display:none;\">\n",
              "        \n",
              "  <svg xmlns=\"http://www.w3.org/2000/svg\" height=\"24px\"viewBox=\"0 0 24 24\"\n",
              "       width=\"24px\">\n",
              "    <path d=\"M0 0h24v24H0V0z\" fill=\"none\"/>\n",
              "    <path d=\"M18.56 5.44l.94 2.06.94-2.06 2.06-.94-2.06-.94-.94-2.06-.94 2.06-2.06.94zm-11 1L8.5 8.5l.94-2.06 2.06-.94-2.06-.94L8.5 2.5l-.94 2.06-2.06.94zm10 10l.94 2.06.94-2.06 2.06-.94-2.06-.94-.94-2.06-.94 2.06-2.06.94z\"/><path d=\"M17.41 7.96l-1.37-1.37c-.4-.4-.92-.59-1.43-.59-.52 0-1.04.2-1.43.59L10.3 9.45l-7.72 7.72c-.78.78-.78 2.05 0 2.83L4 21.41c.39.39.9.59 1.41.59.51 0 1.02-.2 1.41-.59l7.78-7.78 2.81-2.81c.8-.78.8-2.07 0-2.86zM5.41 20L4 18.59l7.72-7.72 1.47 1.35L5.41 20z\"/>\n",
              "  </svg>\n",
              "      </button>\n",
              "      \n",
              "  <style>\n",
              "    .colab-df-container {\n",
              "      display:flex;\n",
              "      flex-wrap:wrap;\n",
              "      gap: 12px;\n",
              "    }\n",
              "\n",
              "    .colab-df-convert {\n",
              "      background-color: #E8F0FE;\n",
              "      border: none;\n",
              "      border-radius: 50%;\n",
              "      cursor: pointer;\n",
              "      display: none;\n",
              "      fill: #1967D2;\n",
              "      height: 32px;\n",
              "      padding: 0 0 0 0;\n",
              "      width: 32px;\n",
              "    }\n",
              "\n",
              "    .colab-df-convert:hover {\n",
              "      background-color: #E2EBFA;\n",
              "      box-shadow: 0px 1px 2px rgba(60, 64, 67, 0.3), 0px 1px 3px 1px rgba(60, 64, 67, 0.15);\n",
              "      fill: #174EA6;\n",
              "    }\n",
              "\n",
              "    [theme=dark] .colab-df-convert {\n",
              "      background-color: #3B4455;\n",
              "      fill: #D2E3FC;\n",
              "    }\n",
              "\n",
              "    [theme=dark] .colab-df-convert:hover {\n",
              "      background-color: #434B5C;\n",
              "      box-shadow: 0px 1px 3px 1px rgba(0, 0, 0, 0.15);\n",
              "      filter: drop-shadow(0px 1px 2px rgba(0, 0, 0, 0.3));\n",
              "      fill: #FFFFFF;\n",
              "    }\n",
              "  </style>\n",
              "\n",
              "      <script>\n",
              "        const buttonEl =\n",
              "          document.querySelector('#df-02bf0aba-b84c-4c9c-89d5-1777dd938dd9 button.colab-df-convert');\n",
              "        buttonEl.style.display =\n",
              "          google.colab.kernel.accessAllowed ? 'block' : 'none';\n",
              "\n",
              "        async function convertToInteractive(key) {\n",
              "          const element = document.querySelector('#df-02bf0aba-b84c-4c9c-89d5-1777dd938dd9');\n",
              "          const dataTable =\n",
              "            await google.colab.kernel.invokeFunction('convertToInteractive',\n",
              "                                                     [key], {});\n",
              "          if (!dataTable) return;\n",
              "\n",
              "          const docLinkHtml = 'Like what you see? Visit the ' +\n",
              "            '<a target=\"_blank\" href=https://colab.research.google.com/notebooks/data_table.ipynb>data table notebook</a>'\n",
              "            + ' to learn more about interactive tables.';\n",
              "          element.innerHTML = '';\n",
              "          dataTable['output_type'] = 'display_data';\n",
              "          await google.colab.output.renderOutput(dataTable, element);\n",
              "          const docLink = document.createElement('div');\n",
              "          docLink.innerHTML = docLinkHtml;\n",
              "          element.appendChild(docLink);\n",
              "        }\n",
              "      </script>\n",
              "    </div>\n",
              "  </div>\n",
              "  "
            ]
          },
          "metadata": {},
          "execution_count": 39
        }
      ],
      "source": [
        "tr_data_loader = SessionDataLoader(tr_dataset, batch_size=4)\n",
        "tr_dataset.df.head(15)"
      ]
    },
    {
      "cell_type": "code",
      "execution_count": 40,
      "id": "2048b489",
      "metadata": {
        "id": "2048b489"
      },
      "outputs": [],
      "source": [
        "iter_ex = iter(tr_data_loader)"
      ]
    },
    {
      "cell_type": "code",
      "execution_count": 41,
      "id": "d9d005a1",
      "metadata": {
        "colab": {
          "base_uri": "https://localhost:8080/"
        },
        "id": "d9d005a1",
        "outputId": "ca2fb972-1b4b-4231-f022-429941e7ddd6"
      },
      "outputs": [
        {
          "output_type": "stream",
          "name": "stdout",
          "text": [
            "Model Input Item Idx are : [ 0 53 65 54]\n",
            "Label Item Idx are :       [ 1 54 62 24]\n",
            "Previous Masked Input Idx are []\n"
          ]
        }
      ],
      "source": [
        "inputs, labels, mask =  next(iter_ex)\n",
        "print(f'Model Input Item Idx are : {inputs}')\n",
        "print(f'Label Item Idx are : {\"\":5} {labels}')\n",
        "print(f'Previous Masked Input Idx are {mask}')"
      ]
    },
    {
      "cell_type": "markdown",
      "id": "ae529d79",
      "metadata": {
        "id": "ae529d79"
      },
      "source": [
        "### Modeling"
      ]
    },
    {
      "cell_type": "markdown",
      "id": "6b7c93c4",
      "metadata": {
        "id": "6b7c93c4"
      },
      "source": [
        "Evaluation Metric 구성"
      ]
    },
    {
      "cell_type": "code",
      "execution_count": 42,
      "id": "71722e0b",
      "metadata": {
        "id": "71722e0b"
      },
      "outputs": [],
      "source": [
        "def mrr_k(pred, truth: int, k: int):\n",
        "    indexing = np.where(pred[:k] == truth)[0]\n",
        "    if len(indexing) > 0:\n",
        "        return 1 / (indexing[0] + 1)\n",
        "    else:\n",
        "        return 0\n",
        "\n",
        "\n",
        "def recall_k(pred, truth: int, k: int) -> int:\n",
        "    answer = truth in pred[:k]\n",
        "    return int(answer)"
      ]
    },
    {
      "cell_type": "markdown",
      "id": "1632a5d3",
      "metadata": {
        "id": "1632a5d3"
      },
      "source": [
        "### Model Architecture"
      ]
    },
    {
      "cell_type": "code",
      "execution_count": 43,
      "id": "50abb0b0",
      "metadata": {
        "id": "50abb0b0"
      },
      "outputs": [],
      "source": [
        "import numpy as np\n",
        "import tensorflow as tf\n",
        "from tensorflow.keras.layers import Input, Dense, Dropout, GRU\n",
        "from tensorflow.keras.losses import categorical_crossentropy\n",
        "from tensorflow.keras.models import Model\n",
        "from tensorflow.keras.optimizers import Adam\n",
        "from tensorflow.keras.utils import to_categorical\n",
        "from tqdm import tqdm"
      ]
    },
    {
      "cell_type": "code",
      "execution_count": 44,
      "id": "57ad3b51",
      "metadata": {
        "id": "57ad3b51"
      },
      "outputs": [],
      "source": [
        "def create_model(args):\n",
        "    inputs = Input(batch_shape=(args.batch_size, 1, args.num_items))\n",
        "    gru, _ = GRU(args.hsz, stateful=True, return_state=True, name='GRU')(inputs)\n",
        "    dropout = Dropout(args.drop_rate)(gru)\n",
        "    predictions = Dense(args.num_items, activation='softmax')(dropout)\n",
        "    model = Model(inputs=inputs, outputs=[predictions])\n",
        "    model.compile(loss=categorical_crossentropy, optimizer=Adam(args.lr), metrics=['accuracy'])\n",
        "    model.summary()\n",
        "    return model"
      ]
    },
    {
      "cell_type": "code",
      "execution_count": 45,
      "id": "ec2c25a2",
      "metadata": {
        "id": "ec2c25a2"
      },
      "outputs": [],
      "source": [
        "class Args:\n",
        "    def __init__(self, tr, val, test, batch_size, hsz, drop_rate, lr, epochs, k):\n",
        "        self.tr = tr\n",
        "        self.val = val\n",
        "        self.test = test\n",
        "        self.num_items = tr['ItemId'].nunique()\n",
        "        self.num_sessions = tr['UserId'].nunique()\n",
        "        self.batch_size = batch_size\n",
        "        self.hsz = hsz\n",
        "        self.drop_rate = drop_rate\n",
        "        self.lr = lr\n",
        "        self.epochs = epochs\n",
        "        self.k = k\n",
        "\n",
        "args = Args(tr, val, test, batch_size=128, hsz=50, drop_rate=0.1, lr=0.001, epochs=5, k=20)"
      ]
    },
    {
      "cell_type": "code",
      "execution_count": 46,
      "id": "fa8f1f2a",
      "metadata": {
        "colab": {
          "base_uri": "https://localhost:8080/"
        },
        "id": "fa8f1f2a",
        "outputId": "ed72749f-f396-4751-9ff4-aa0ec6426ce7"
      },
      "outputs": [
        {
          "output_type": "stream",
          "name": "stdout",
          "text": [
            "Model: \"model\"\n",
            "_________________________________________________________________\n",
            " Layer (type)                Output Shape              Param #   \n",
            "=================================================================\n",
            " input_1 (InputLayer)        [(128, 1, 3416)]          0         \n",
            "                                                                 \n",
            " GRU (GRU)                   [(128, 50),               520200    \n",
            "                              (128, 50)]                         \n",
            "                                                                 \n",
            " dropout (Dropout)           (128, 50)                 0         \n",
            "                                                                 \n",
            " dense (Dense)               (128, 3416)               174216    \n",
            "                                                                 \n",
            "=================================================================\n",
            "Total params: 694,416\n",
            "Trainable params: 694,416\n",
            "Non-trainable params: 0\n",
            "_________________________________________________________________\n"
          ]
        }
      ],
      "source": [
        "model = create_model(args)"
      ]
    },
    {
      "cell_type": "markdown",
      "id": "ef139c34",
      "metadata": {
        "id": "ef139c34"
      },
      "source": [
        "### Model Training"
      ]
    },
    {
      "cell_type": "code",
      "execution_count": 47,
      "id": "534386a9",
      "metadata": {
        "id": "534386a9"
      },
      "outputs": [],
      "source": [
        "# train 셋으로 학습하면서 valid 셋으로 검증합니다.\n",
        "def train_model(model, args):\n",
        "    train_dataset = SessionDataset(args.tr)\n",
        "    train_loader = SessionDataLoader(train_dataset, batch_size=args.batch_size)\n",
        "\n",
        "    for epoch in range(1, args.epochs + 1):\n",
        "        total_step = len(args.tr) - args.tr['UserId'].nunique()\n",
        "        tr_loader = tqdm(train_loader, total=total_step // args.batch_size, desc='Train', mininterval=1)\n",
        "        print(\".......\")\n",
        "        print(total_step)\n",
        "        for feat, target, mask in tr_loader:\n",
        "            reset_hidden_states(model, mask)  # 종료된 session은 hidden_state를 초기화합니다. 아래 메서드에서 확인해주세요.\n",
        "\n",
        "            input_ohe = to_categorical(feat, num_classes=args.num_items)\n",
        "            input_ohe = np.expand_dims(input_ohe, axis=1)\n",
        "            target_ohe = to_categorical(target, num_classes=args.num_items)\n",
        "\n",
        "            result = model.train_on_batch(input_ohe, target_ohe)\n",
        "            tr_loader.set_postfix(train_loss=result[0], accuracy = result[1])\n",
        "\n",
        "        val_recall, val_mrr = get_metrics(args.val, model, args, args.k)  # valid set에 대해 검증합니다.\n",
        "\n",
        "        print(f\"\\t - Recall@{args.k} epoch {epoch}: {val_recall:3f}\")\n",
        "        print(f\"\\t - MRR@{args.k}    epoch {epoch}: {val_mrr:3f}\\n\")\n",
        "\n",
        "\n",
        "def reset_hidden_states(model, mask):\n",
        "    gru_layer = model.get_layer(name='GRU')  # model에서 gru layer를 가져옵니다.\n",
        "    hidden_states = gru_layer.states[0].numpy()  # gru_layer의 parameter를 가져옵니다.\n",
        "    for elt in mask:  # mask된 인덱스 즉, 종료된 세션의 인덱스를 돌면서\n",
        "        hidden_states[elt, :] = 0  # parameter를 초기화 합니다.\n",
        "    gru_layer.reset_states(states=hidden_states)\n",
        "\n",
        "\n",
        "def get_metrics(data, model, args, k: int):  # valid셋과 test셋을 평가하는 코드입니다. \n",
        "                                             # train과 거의 같지만 mrr, recall을 구하는 라인이 있습니다.\n",
        "    dataset = SessionDataset(data)\n",
        "    loader = SessionDataLoader(dataset, batch_size=args.batch_size)\n",
        "    recall_list, mrr_list = [], []\n",
        "\n",
        "    total_step = len(data) - data['UserId'].nunique()\n",
        "    for inputs, label, mask in tqdm(loader, total=total_step // args.batch_size, desc='Evaluation', mininterval=1):\n",
        "        reset_hidden_states(model, mask)\n",
        "        input_ohe = to_categorical(inputs, num_classes=args.num_items)\n",
        "        input_ohe = np.expand_dims(input_ohe, axis=1)\n",
        "\n",
        "        pred = model.predict(input_ohe, batch_size=args.batch_size)\n",
        "        pred_arg = tf.argsort(pred, direction='DESCENDING')  # softmax 값이 큰 순서대로 sorting 합니다.\n",
        "\n",
        "        length = len(inputs)\n",
        "        recall_list.extend([recall_k(pred_arg[i], label[i], k) for i in range(length)])\n",
        "        mrr_list.extend([mrr_k(pred_arg[i], label[i], k) for i in range(length)])\n",
        "\n",
        "    recall, mrr = np.mean(recall_list), np.mean(mrr_list)\n",
        "    return recall, mrr"
      ]
    },
    {
      "cell_type": "code",
      "execution_count": 48,
      "id": "e894ffbb",
      "metadata": {
        "colab": {
          "base_uri": "https://localhost:8080/"
        },
        "id": "e894ffbb",
        "outputId": "e5345251-5878-488b-fe25-57ccdd2eb042"
      },
      "outputs": [
        {
          "output_type": "stream",
          "name": "stderr",
          "text": [
            "\rTrain:   0%|          | 0/6553 [00:00<?, ?it/s]"
          ]
        },
        {
          "output_type": "stream",
          "name": "stdout",
          "text": [
            ".......\n",
            "838877\n"
          ]
        },
        {
          "output_type": "stream",
          "name": "stderr",
          "text": [
            "Train:  97%|█████████▋| 6389/6553 [02:57<00:04, 35.94it/s, accuracy=0.0156, train_loss=6.23]\n",
            "Evaluation:  33%|███▎      | 146/447 [03:41<07:36,  1.52s/it]\n"
          ]
        },
        {
          "output_type": "stream",
          "name": "stdout",
          "text": [
            "\t - Recall@20 epoch 1: 0.237907\n",
            "\t - MRR@20    epoch 1: 0.060686\n",
            "\n"
          ]
        },
        {
          "output_type": "stream",
          "name": "stderr",
          "text": [
            "Train:   0%|          | 0/6553 [00:00<?, ?it/s, accuracy=0.0469, train_loss=6.53]"
          ]
        },
        {
          "output_type": "stream",
          "name": "stdout",
          "text": [
            ".......\n",
            "838877\n"
          ]
        },
        {
          "output_type": "stream",
          "name": "stderr",
          "text": [
            "Train:  97%|█████████▋| 6389/6553 [02:51<00:04, 37.29it/s, accuracy=0.0312, train_loss=5.93]\n",
            "Evaluation:  33%|███▎      | 146/447 [03:30<07:14,  1.44s/it]\n"
          ]
        },
        {
          "output_type": "stream",
          "name": "stdout",
          "text": [
            "\t - Recall@20 epoch 2: 0.298694\n",
            "\t - MRR@20    epoch 2: 0.085243\n",
            "\n"
          ]
        },
        {
          "output_type": "stream",
          "name": "stderr",
          "text": [
            "Train:   0%|          | 0/6553 [00:00<?, ?it/s, accuracy=0.0469, train_loss=6.49]"
          ]
        },
        {
          "output_type": "stream",
          "name": "stdout",
          "text": [
            ".......\n",
            "838877\n"
          ]
        },
        {
          "output_type": "stream",
          "name": "stderr",
          "text": [
            "Train:  97%|█████████▋| 6389/6553 [02:51<00:04, 37.33it/s, accuracy=0.0547, train_loss=5.78]\n",
            "Evaluation:  33%|███▎      | 146/447 [03:26<07:06,  1.42s/it]\n"
          ]
        },
        {
          "output_type": "stream",
          "name": "stdout",
          "text": [
            "\t - Recall@20 epoch 3: 0.321757\n",
            "\t - MRR@20    epoch 3: 0.094752\n",
            "\n"
          ]
        },
        {
          "output_type": "stream",
          "name": "stderr",
          "text": [
            "Train:   0%|          | 0/6553 [00:00<?, ?it/s, accuracy=0.0547, train_loss=6.39] "
          ]
        },
        {
          "output_type": "stream",
          "name": "stdout",
          "text": [
            ".......\n",
            "838877\n"
          ]
        },
        {
          "output_type": "stream",
          "name": "stderr",
          "text": [
            "Train:  97%|█████████▋| 6389/6553 [02:50<00:04, 37.44it/s, accuracy=0.0469, train_loss=5.69]\n",
            "Evaluation:  33%|███▎      | 146/447 [03:24<07:01,  1.40s/it]\n"
          ]
        },
        {
          "output_type": "stream",
          "name": "stdout",
          "text": [
            "\t - Recall@20 epoch 4: 0.333904\n",
            "\t - MRR@20    epoch 4: 0.100628\n",
            "\n"
          ]
        },
        {
          "output_type": "stream",
          "name": "stderr",
          "text": [
            "Train:   0%|          | 0/6553 [00:00<?, ?it/s, accuracy=0.0781, train_loss=5.99]"
          ]
        },
        {
          "output_type": "stream",
          "name": "stdout",
          "text": [
            ".......\n",
            "838877\n"
          ]
        },
        {
          "output_type": "stream",
          "name": "stderr",
          "text": [
            "Train:  97%|█████████▋| 6389/6553 [02:51<00:04, 37.20it/s, accuracy=0.0469, train_loss=5.69]\n",
            "Evaluation:  33%|███▎      | 146/447 [03:23<06:59,  1.39s/it]"
          ]
        },
        {
          "output_type": "stream",
          "name": "stdout",
          "text": [
            "\t - Recall@20 epoch 5: 0.339683\n",
            "\t - MRR@20    epoch 5: 0.103274\n",
            "\n"
          ]
        },
        {
          "output_type": "stream",
          "name": "stderr",
          "text": [
            "\n"
          ]
        }
      ],
      "source": [
        "\n",
        "train_model(model, args)\n"
      ]
    },
    {
      "cell_type": "markdown",
      "id": "a71e9a40",
      "metadata": {
        "id": "a71e9a40"
      },
      "source": [
        "### 성능 검증"
      ]
    },
    {
      "cell_type": "markdown",
      "source": [
        "### leraning 올려서 다시 해보기\n",
        "train loss가 올라갔다가 오히러 학습 진행이 될수록 내려가는 현상이 나타나 다른 방법을 활용하여 다시 학습 진행\n"
      ],
      "metadata": {
        "id": "fWkWu9Vsegof"
      },
      "id": "fWkWu9Vsegof"
    },
    {
      "cell_type": "code",
      "source": [
        "args_lr = Args(tr, val, test, batch_size=128, hsz=50, drop_rate=0.1, lr=0.01, epochs=5, k=20)\n",
        "model_lr = create_model(args)\n",
        "train_model(model_lr, args)"
      ],
      "metadata": {
        "colab": {
          "base_uri": "https://localhost:8080/"
        },
        "id": "3XWL_rjce0vv",
        "outputId": "9090d472-c98d-4a87-9861-f389c574bd85"
      },
      "id": "3XWL_rjce0vv",
      "execution_count": 49,
      "outputs": [
        {
          "output_type": "stream",
          "name": "stdout",
          "text": [
            "Model: \"model_1\"\n",
            "_________________________________________________________________\n",
            " Layer (type)                Output Shape              Param #   \n",
            "=================================================================\n",
            " input_2 (InputLayer)        [(128, 1, 3416)]          0         \n",
            "                                                                 \n",
            " GRU (GRU)                   [(128, 50),               520200    \n",
            "                              (128, 50)]                         \n",
            "                                                                 \n",
            " dropout_1 (Dropout)         (128, 50)                 0         \n",
            "                                                                 \n",
            " dense_1 (Dense)             (128, 3416)               174216    \n",
            "                                                                 \n",
            "=================================================================\n",
            "Total params: 694,416\n",
            "Trainable params: 694,416\n",
            "Non-trainable params: 0\n",
            "_________________________________________________________________\n"
          ]
        },
        {
          "output_type": "stream",
          "name": "stderr",
          "text": [
            "\rTrain:   0%|          | 0/6553 [00:00<?, ?it/s]"
          ]
        },
        {
          "output_type": "stream",
          "name": "stdout",
          "text": [
            ".......\n",
            "838877\n"
          ]
        },
        {
          "output_type": "stream",
          "name": "stderr",
          "text": [
            "Train:  97%|█████████▋| 6389/6553 [03:06<00:04, 34.24it/s, accuracy=0.0156, train_loss=6.26]\n",
            "Evaluation:  33%|███▎      | 146/447 [03:40<07:35,  1.51s/it]\n"
          ]
        },
        {
          "output_type": "stream",
          "name": "stdout",
          "text": [
            "\t - Recall@20 epoch 1: 0.231914\n",
            "\t - MRR@20    epoch 1: 0.059536\n",
            "\n"
          ]
        },
        {
          "output_type": "stream",
          "name": "stderr",
          "text": [
            "Train:   0%|          | 0/6553 [00:00<?, ?it/s, accuracy=0.0391, train_loss=6.41]"
          ]
        },
        {
          "output_type": "stream",
          "name": "stdout",
          "text": [
            ".......\n",
            "838877\n"
          ]
        },
        {
          "output_type": "stream",
          "name": "stderr",
          "text": [
            "Train:  97%|█████████▋| 6389/6553 [02:49<00:04, 37.70it/s, accuracy=0.0312, train_loss=5.91]\n",
            "Evaluation:  33%|███▎      | 146/447 [03:29<07:11,  1.44s/it]\n"
          ]
        },
        {
          "output_type": "stream",
          "name": "stdout",
          "text": [
            "\t - Recall@20 epoch 2: 0.296982\n",
            "\t - MRR@20    epoch 2: 0.083874\n",
            "\n"
          ]
        },
        {
          "output_type": "stream",
          "name": "stderr",
          "text": [
            "Train:   0%|          | 0/6553 [00:00<?, ?it/s, accuracy=0.0469, train_loss=6.21]"
          ]
        },
        {
          "output_type": "stream",
          "name": "stdout",
          "text": [
            ".......\n",
            "838877\n"
          ]
        },
        {
          "output_type": "stream",
          "name": "stderr",
          "text": [
            "Train:  97%|█████████▋| 6389/6553 [02:50<00:04, 37.40it/s, accuracy=0.0312, train_loss=5.79]\n",
            "Evaluation:  33%|███▎      | 146/447 [03:26<07:05,  1.41s/it]\n"
          ]
        },
        {
          "output_type": "stream",
          "name": "stdout",
          "text": [
            "\t - Recall@20 epoch 3: 0.322292\n",
            "\t - MRR@20    epoch 3: 0.095321\n",
            "\n"
          ]
        },
        {
          "output_type": "stream",
          "name": "stderr",
          "text": [
            "Train:   0%|          | 0/6553 [00:00<?, ?it/s, accuracy=0.0547, train_loss=6.49]"
          ]
        },
        {
          "output_type": "stream",
          "name": "stdout",
          "text": [
            ".......\n",
            "838877\n"
          ]
        },
        {
          "output_type": "stream",
          "name": "stderr",
          "text": [
            "Train:  97%|█████████▋| 6389/6553 [02:49<00:04, 37.62it/s, accuracy=0.0547, train_loss=5.69]\n",
            "Evaluation:  33%|███▎      | 146/447 [03:22<06:57,  1.39s/it]\n"
          ]
        },
        {
          "output_type": "stream",
          "name": "stdout",
          "text": [
            "\t - Recall@20 epoch 4: 0.335135\n",
            "\t - MRR@20    epoch 4: 0.101598\n",
            "\n"
          ]
        },
        {
          "output_type": "stream",
          "name": "stderr",
          "text": [
            "Train:   0%|          | 0/6553 [00:00<?, ?it/s, accuracy=0.0625, train_loss=6.04]"
          ]
        },
        {
          "output_type": "stream",
          "name": "stdout",
          "text": [
            ".......\n",
            "838877\n"
          ]
        },
        {
          "output_type": "stream",
          "name": "stderr",
          "text": [
            "Train:  97%|█████████▋| 6389/6553 [02:49<00:04, 37.70it/s, accuracy=0.0547, train_loss=5.69]\n",
            "Evaluation:  33%|███▎      | 146/447 [03:23<06:59,  1.39s/it]"
          ]
        },
        {
          "output_type": "stream",
          "name": "stdout",
          "text": [
            "\t - Recall@20 epoch 5: 0.343161\n",
            "\t - MRR@20    epoch 5: 0.105194\n",
            "\n"
          ]
        },
        {
          "output_type": "stream",
          "name": "stderr",
          "text": [
            "\n"
          ]
        }
      ]
    },
    {
      "cell_type": "markdown",
      "source": [
        "### Drop_out 변경해서 Train\n",
        "이전 모델에 비해 정확도가 올라갔지만 loss는 변화가 거의 없는 현상이 나타나 dropout 수정하여 다시 실행"
      ],
      "metadata": {
        "id": "P_RB6HMugRZo"
      },
      "id": "P_RB6HMugRZo"
    },
    {
      "cell_type": "code",
      "source": [
        "args_drop = Args(tr, val, test, batch_size=128, hsz=50, drop_rate=0.01, lr=0.01, epochs=5, k=20)\n",
        "model_drop = create_model(args)\n",
        "train_model(model_drop, args)"
      ],
      "metadata": {
        "colab": {
          "base_uri": "https://localhost:8080/"
        },
        "id": "E2nGvt_ygNje",
        "outputId": "73381405-ee1c-4806-cb21-a1c2886f9530"
      },
      "id": "E2nGvt_ygNje",
      "execution_count": 50,
      "outputs": [
        {
          "output_type": "stream",
          "name": "stdout",
          "text": [
            "Model: \"model_2\"\n",
            "_________________________________________________________________\n",
            " Layer (type)                Output Shape              Param #   \n",
            "=================================================================\n",
            " input_3 (InputLayer)        [(128, 1, 3416)]          0         \n",
            "                                                                 \n",
            " GRU (GRU)                   [(128, 50),               520200    \n",
            "                              (128, 50)]                         \n",
            "                                                                 \n",
            " dropout_2 (Dropout)         (128, 50)                 0         \n",
            "                                                                 \n",
            " dense_2 (Dense)             (128, 3416)               174216    \n",
            "                                                                 \n",
            "=================================================================\n",
            "Total params: 694,416\n",
            "Trainable params: 694,416\n",
            "Non-trainable params: 0\n",
            "_________________________________________________________________\n"
          ]
        },
        {
          "output_type": "stream",
          "name": "stderr",
          "text": [
            "\rTrain:   0%|          | 0/6553 [00:00<?, ?it/s]"
          ]
        },
        {
          "output_type": "stream",
          "name": "stdout",
          "text": [
            ".......\n",
            "838877\n"
          ]
        },
        {
          "output_type": "stream",
          "name": "stderr",
          "text": [
            "Train:  97%|█████████▋| 6389/6553 [02:50<00:04, 37.45it/s, accuracy=0.0156, train_loss=6.25]\n",
            "Evaluation:  33%|███▎      | 146/447 [03:38<07:30,  1.50s/it]\n"
          ]
        },
        {
          "output_type": "stream",
          "name": "stdout",
          "text": [
            "\t - Recall@20 epoch 1: 0.236462\n",
            "\t - MRR@20    epoch 1: 0.061035\n",
            "\n"
          ]
        },
        {
          "output_type": "stream",
          "name": "stderr",
          "text": [
            "Train:   0%|          | 0/6553 [00:00<?, ?it/s, accuracy=0.0469, train_loss=6.48]"
          ]
        },
        {
          "output_type": "stream",
          "name": "stdout",
          "text": [
            ".......\n",
            "838877\n"
          ]
        },
        {
          "output_type": "stream",
          "name": "stderr",
          "text": [
            "Train:  97%|█████████▋| 6389/6553 [02:41<00:04, 39.60it/s, accuracy=0.0391, train_loss=5.83]\n",
            "Evaluation:  33%|███▎      | 146/447 [03:29<07:11,  1.43s/it]\n"
          ]
        },
        {
          "output_type": "stream",
          "name": "stdout",
          "text": [
            "\t - Recall@20 epoch 2: 0.296661\n",
            "\t - MRR@20    epoch 2: 0.084421\n",
            "\n"
          ]
        },
        {
          "output_type": "stream",
          "name": "stderr",
          "text": [
            "Train:   0%|          | 0/6553 [00:00<?, ?it/s, accuracy=0.0703, train_loss=6.25]"
          ]
        },
        {
          "output_type": "stream",
          "name": "stdout",
          "text": [
            ".......\n",
            "838877\n"
          ]
        },
        {
          "output_type": "stream",
          "name": "stderr",
          "text": [
            "Train:  97%|█████████▋| 6389/6553 [02:42<00:04, 39.30it/s, accuracy=0.0625, train_loss=5.64]\n",
            "Evaluation:  33%|███▎      | 146/447 [03:25<07:03,  1.41s/it]\n"
          ]
        },
        {
          "output_type": "stream",
          "name": "stdout",
          "text": [
            "\t - Recall@20 epoch 3: 0.321169\n",
            "\t - MRR@20    epoch 3: 0.095443\n",
            "\n"
          ]
        },
        {
          "output_type": "stream",
          "name": "stderr",
          "text": [
            "Train:   0%|          | 0/6553 [00:00<?, ?it/s, accuracy=0.0625, train_loss=6.14]"
          ]
        },
        {
          "output_type": "stream",
          "name": "stdout",
          "text": [
            ".......\n",
            "838877\n"
          ]
        },
        {
          "output_type": "stream",
          "name": "stderr",
          "text": [
            "Train:  97%|█████████▋| 6389/6553 [02:42<00:04, 39.38it/s, accuracy=0.0547, train_loss=5.58]\n",
            "Evaluation:  33%|███▎      | 146/447 [03:23<07:00,  1.40s/it]\n"
          ]
        },
        {
          "output_type": "stream",
          "name": "stdout",
          "text": [
            "\t - Recall@20 epoch 4: 0.333637\n",
            "\t - MRR@20    epoch 4: 0.101343\n",
            "\n"
          ]
        },
        {
          "output_type": "stream",
          "name": "stderr",
          "text": [
            "Train:   0%|          | 0/6553 [00:00<?, ?it/s, accuracy=0.0703, train_loss=6.1] "
          ]
        },
        {
          "output_type": "stream",
          "name": "stdout",
          "text": [
            ".......\n",
            "838877\n"
          ]
        },
        {
          "output_type": "stream",
          "name": "stderr",
          "text": [
            "Train:  97%|█████████▋| 6389/6553 [02:42<00:04, 39.35it/s, accuracy=0.0625, train_loss=5.52]\n",
            "Evaluation:  33%|███▎      | 146/447 [03:25<07:02,  1.40s/it]"
          ]
        },
        {
          "output_type": "stream",
          "name": "stdout",
          "text": [
            "\t - Recall@20 epoch 5: 0.340539\n",
            "\t - MRR@20    epoch 5: 0.103645\n",
            "\n"
          ]
        },
        {
          "output_type": "stream",
          "name": "stderr",
          "text": [
            "\n"
          ]
        }
      ]
    },
    {
      "cell_type": "markdown",
      "source": [
        "### batch size 변경\n",
        "dropput 수정으로 accuracy와 loss가 많이 개선되었음. 마지막으로 batch size 조정헤보기"
      ],
      "metadata": {
        "id": "s7QrfPPggf8C"
      },
      "id": "s7QrfPPggf8C"
    },
    {
      "cell_type": "code",
      "source": [
        "args_batch = Args(tr, val, test, batch_size=256, hsz=50, drop_rate=0.01, lr=0.01, epochs=5, k=20)\n",
        "model_batch= create_model(args)\n",
        "train_model(model_batch, args)"
      ],
      "metadata": {
        "colab": {
          "base_uri": "https://localhost:8080/"
        },
        "id": "N39SRLFogjz_",
        "outputId": "04cf6529-da76-4696-825e-70ea749250cc"
      },
      "id": "N39SRLFogjz_",
      "execution_count": 51,
      "outputs": [
        {
          "output_type": "stream",
          "name": "stdout",
          "text": [
            "Model: \"model_3\"\n",
            "_________________________________________________________________\n",
            " Layer (type)                Output Shape              Param #   \n",
            "=================================================================\n",
            " input_4 (InputLayer)        [(128, 1, 3416)]          0         \n",
            "                                                                 \n",
            " GRU (GRU)                   [(128, 50),               520200    \n",
            "                              (128, 50)]                         \n",
            "                                                                 \n",
            " dropout_3 (Dropout)         (128, 50)                 0         \n",
            "                                                                 \n",
            " dense_3 (Dense)             (128, 3416)               174216    \n",
            "                                                                 \n",
            "=================================================================\n",
            "Total params: 694,416\n",
            "Trainable params: 694,416\n",
            "Non-trainable params: 0\n",
            "_________________________________________________________________\n"
          ]
        },
        {
          "output_type": "stream",
          "name": "stderr",
          "text": [
            "\rTrain:   0%|          | 0/6553 [00:00<?, ?it/s]"
          ]
        },
        {
          "output_type": "stream",
          "name": "stdout",
          "text": [
            ".......\n",
            "838877\n"
          ]
        },
        {
          "output_type": "stream",
          "name": "stderr",
          "text": [
            "Train:  97%|█████████▋| 6389/6553 [02:42<00:04, 39.40it/s, accuracy=0.00781, train_loss=6.16]\n",
            "Evaluation:  33%|███▎      | 146/447 [03:38<07:31,  1.50s/it]\n"
          ]
        },
        {
          "output_type": "stream",
          "name": "stdout",
          "text": [
            "\t - Recall@20 epoch 1: 0.234107\n",
            "\t - MRR@20    epoch 1: 0.061577\n",
            "\n"
          ]
        },
        {
          "output_type": "stream",
          "name": "stderr",
          "text": [
            "Train:   0%|          | 0/6553 [00:00<?, ?it/s, accuracy=0.0469, train_loss=6.49]"
          ]
        },
        {
          "output_type": "stream",
          "name": "stdout",
          "text": [
            ".......\n",
            "838877\n"
          ]
        },
        {
          "output_type": "stream",
          "name": "stderr",
          "text": [
            "Train:  97%|█████████▋| 6389/6553 [02:42<00:04, 39.28it/s, accuracy=0.0391, train_loss=5.87]\n",
            "Evaluation:  33%|███▎      | 146/447 [03:30<07:14,  1.44s/it]\n"
          ]
        },
        {
          "output_type": "stream",
          "name": "stdout",
          "text": [
            "\t - Recall@20 epoch 2: 0.301851\n",
            "\t - MRR@20    epoch 2: 0.085910\n",
            "\n"
          ]
        },
        {
          "output_type": "stream",
          "name": "stderr",
          "text": [
            "Train:   0%|          | 0/6553 [00:00<?, ?it/s, accuracy=0.0781, train_loss=6.15]"
          ]
        },
        {
          "output_type": "stream",
          "name": "stdout",
          "text": [
            ".......\n",
            "838877\n"
          ]
        },
        {
          "output_type": "stream",
          "name": "stderr",
          "text": [
            "Train:  97%|█████████▋| 6389/6553 [02:41<00:04, 39.65it/s, accuracy=0.0469, train_loss=5.74]\n",
            "Evaluation:  33%|███▎      | 146/447 [03:26<07:05,  1.41s/it]\n"
          ]
        },
        {
          "output_type": "stream",
          "name": "stdout",
          "text": [
            "\t - Recall@20 epoch 3: 0.326680\n",
            "\t - MRR@20    epoch 3: 0.097099\n",
            "\n"
          ]
        },
        {
          "output_type": "stream",
          "name": "stderr",
          "text": [
            "Train:   0%|          | 0/6553 [00:00<?, ?it/s, accuracy=0.0469, train_loss=6.47]"
          ]
        },
        {
          "output_type": "stream",
          "name": "stdout",
          "text": [
            ".......\n",
            "838877\n"
          ]
        },
        {
          "output_type": "stream",
          "name": "stderr",
          "text": [
            "Train:  97%|█████████▋| 6389/6553 [02:41<00:04, 39.57it/s, accuracy=0.0469, train_loss=5.61]\n",
            "Evaluation:  33%|███▎      | 146/447 [03:23<07:00,  1.40s/it]\n"
          ]
        },
        {
          "output_type": "stream",
          "name": "stdout",
          "text": [
            "\t - Recall@20 epoch 4: 0.338988\n",
            "\t - MRR@20    epoch 4: 0.102516\n",
            "\n"
          ]
        },
        {
          "output_type": "stream",
          "name": "stderr",
          "text": [
            "Train:   0%|          | 0/6553 [00:00<?, ?it/s, accuracy=0.0391, train_loss=5.96]"
          ]
        },
        {
          "output_type": "stream",
          "name": "stdout",
          "text": [
            ".......\n",
            "838877\n"
          ]
        },
        {
          "output_type": "stream",
          "name": "stderr",
          "text": [
            "Train:  97%|█████████▋| 6389/6553 [02:41<00:04, 39.45it/s, accuracy=0.0391, train_loss=5.52]\n",
            "Evaluation:  33%|███▎      | 146/447 [03:22<06:57,  1.39s/it]"
          ]
        },
        {
          "output_type": "stream",
          "name": "stdout",
          "text": [
            "\t - Recall@20 epoch 5: 0.343054\n",
            "\t - MRR@20    epoch 5: 0.105503\n",
            "\n"
          ]
        },
        {
          "output_type": "stream",
          "name": "stderr",
          "text": [
            "\n"
          ]
        }
      ]
    },
    {
      "cell_type": "markdown",
      "source": [
        "## Model 평가하기"
      ],
      "metadata": {
        "id": "M2Sbz77Wgvov"
      },
      "id": "M2Sbz77Wgvov"
    },
    {
      "cell_type": "code",
      "execution_count": 52,
      "id": "65b787c9",
      "metadata": {
        "id": "65b787c9"
      },
      "outputs": [],
      "source": [
        "def test_model(model, args, test):\n",
        "    test_recall, test_mrr = get_metrics(test, model, args, 20)\n",
        "    print(f\"\\t - Recall@{args.k}: {test_recall:3f}\")\n",
        "    print(f\"\\t - MRR@{args.k}: {test_mrr:3f}\\n\")\n"
      ]
    },
    {
      "cell_type": "code",
      "execution_count": 53,
      "id": "2d818ae4",
      "metadata": {
        "colab": {
          "base_uri": "https://localhost:8080/"
        },
        "id": "2d818ae4",
        "outputId": "b9312727-bfff-469c-bebf-30383189272e"
      },
      "outputs": [
        {
          "output_type": "stream",
          "name": "stderr",
          "text": [
            "Evaluation:  57%|█████▋    | 431/761 [10:23<07:57,  1.45s/it]"
          ]
        },
        {
          "output_type": "stream",
          "name": "stdout",
          "text": [
            "\t - Recall@20: 0.289951\n",
            "\t - MRR@20: 0.083740\n",
            "\n"
          ]
        },
        {
          "output_type": "stream",
          "name": "stderr",
          "text": [
            "\n"
          ]
        }
      ],
      "source": [
        "test_model(model, args, test)"
      ]
    },
    {
      "cell_type": "code",
      "source": [
        "test_model(model_lr, args_lr, test)"
      ],
      "metadata": {
        "colab": {
          "base_uri": "https://localhost:8080/"
        },
        "id": "JaJfGXWLhFDP",
        "outputId": "b86cbb4b-decf-487a-e776-9671e102b1b1"
      },
      "id": "JaJfGXWLhFDP",
      "execution_count": 54,
      "outputs": [
        {
          "output_type": "stream",
          "name": "stderr",
          "text": [
            "Evaluation:  57%|█████▋    | 431/761 [10:23<07:57,  1.45s/it]"
          ]
        },
        {
          "output_type": "stream",
          "name": "stdout",
          "text": [
            "\t - Recall@20: 0.289769\n",
            "\t - MRR@20: 0.083986\n",
            "\n"
          ]
        },
        {
          "output_type": "stream",
          "name": "stderr",
          "text": [
            "\n"
          ]
        }
      ]
    },
    {
      "cell_type": "code",
      "source": [
        "test_model(model_drop, args_drop, test)"
      ],
      "metadata": {
        "colab": {
          "base_uri": "https://localhost:8080/"
        },
        "id": "idU8ym5jg1SE",
        "outputId": "29412957-dd3c-48a6-bcbd-cef0aff030fb"
      },
      "id": "idU8ym5jg1SE",
      "execution_count": 55,
      "outputs": [
        {
          "output_type": "stream",
          "name": "stderr",
          "text": [
            "Evaluation:  57%|█████▋    | 431/761 [10:21<07:55,  1.44s/it]"
          ]
        },
        {
          "output_type": "stream",
          "name": "stdout",
          "text": [
            "\t - Recall@20: 0.289026\n",
            "\t - MRR@20: 0.084849\n",
            "\n"
          ]
        },
        {
          "output_type": "stream",
          "name": "stderr",
          "text": [
            "\n"
          ]
        }
      ]
    },
    {
      "cell_type": "markdown",
      "source": [
        "### 회고\n",
        "처음 Time 시간대가 UTC로 표기되어 있어 학습 진행에 힘들어 datetime으로 변경해주는 작업하여 실행하였지만 알수 없는 오류 발생으로 생각보다 작업이 오래걸렸다. 해당 오류를 수정하기 위해 다양한 방법으로 변경하거나 환경을 바꿔보았지만 그래도 수정되지 않아 새로 환경을 구성하여 실행하였다.\n",
        "<br/>\n",
        "처음 arg로 설정한 결과에 비해 learning rate와 dropout 범위를 조정한 값이 조금 더 좋은 결과가 나타났다.\n",
        "하지만 최종 평가지표를 확인해보면 학습 결과에 비해 MRR@k과 Recall@k 값이 크게 변화되지 않았다.\n",
        "<br/>\n",
        "추천 시스템에서는 정확도도 중요하지만 얼만큼 사용자의 취향에 맞는 물품이나 컨텐츠를 순서에 맞게 추천해주는냐도 중요하다.\n",
        "<br/>\n",
        "최종적인 평가지표를 높이기 위해서는 정확도를 조금 더 높이기 위해 arg tuning 뿐만 아니라 데이터도 더 필요할 것 같다.\n",
        "<br/>\n"
      ],
      "metadata": {
        "id": "eh5JUcM8vj1r"
      },
      "id": "eh5JUcM8vj1r"
    }
  ],
  "metadata": {
    "kernelspec": {
      "display_name": "Python 3 (ipykernel)",
      "language": "python",
      "name": "python3"
    },
    "language_info": {
      "codemirror_mode": {
        "name": "ipython",
        "version": 3
      },
      "file_extension": ".py",
      "mimetype": "text/x-python",
      "name": "python",
      "nbconvert_exporter": "python",
      "pygments_lexer": "ipython3",
      "version": "3.9.7"
    },
    "colab": {
      "name": "Movielens 추천 시스템 구성-Copy1.ipynb",
      "provenance": [],
      "collapsed_sections": [
        "a175784a",
        "c0305a1c",
        "784de54e",
        "868874be",
        "c72a3ee6",
        "0b98aba8"
      ]
    },
    "accelerator": "GPU"
  },
  "nbformat": 4,
  "nbformat_minor": 5
}
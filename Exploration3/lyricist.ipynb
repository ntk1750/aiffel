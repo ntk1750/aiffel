{
 "cells": [
  {
   "cell_type": "code",
   "execution_count": 1,
   "id": "98c29215",
   "metadata": {},
   "outputs": [],
   "source": [
    "import os, re \n",
    "import numpy as np\n",
    "import tensorflow as tf\n",
    "\n",
    "import glob\n",
    "import os"
   ]
  },
  {
   "cell_type": "code",
   "execution_count": 2,
   "id": "2fe9ad6e",
   "metadata": {},
   "outputs": [
    {
     "name": "stdout",
     "output_type": "stream",
     "text": [
      "데이터 크기: 187088\n",
      "Examples:\n",
      " [\"Now I've heard there was a secret chord\", 'That David played, and it pleased the Lord', \"But you don't really care for music, do you?\"]\n"
     ]
    }
   ],
   "source": [
    "\n",
    "txt_file_path = os.getenv('HOME')+'/aiffel/lyricist/data/lyrics/*'\n",
    "\n",
    "txt_list = glob.glob(txt_file_path)\n",
    "\n",
    "raw_corpus = []\n",
    "\n",
    "# 여러개의 txt 파일을 모두 읽어서 raw_corpus 에 담습니다.\n",
    "for txt_file in txt_list:\n",
    "    with open(txt_file, \"r\") as f:\n",
    "        raw = f.read().splitlines()\n",
    "        raw_corpus.extend(raw)\n",
    "\n",
    "print(\"데이터 크기:\", len(raw_corpus))\n",
    "print(\"Examples:\\n\", raw_corpus[:3])"
   ]
  },
  {
   "cell_type": "markdown",
   "id": "90dcd089",
   "metadata": {},
   "source": [
    "### 데이터 정제하기"
   ]
  },
  {
   "cell_type": "markdown",
   "id": "d2deb929",
   "metadata": {},
   "source": [
    "공백 제거 및 일정 길이 이상 문장 제외하기"
   ]
  },
  {
   "cell_type": "code",
   "execution_count": 3,
   "id": "f1ccb6e7",
   "metadata": {
    "scrolled": true
   },
   "outputs": [
    {
     "name": "stdout",
     "output_type": "stream",
     "text": [
      "Now I've heard there was a secret chord\n",
      "That David played, and it pleased the Lord\n",
      "But you don't really care for music, do you?\n",
      "It goes like this\n",
      "The fourth, the fifth\n",
      "The minor fall, the major lift\n",
      "The baffled king composing Hallelujah Hallelujah\n",
      "Hallelujah\n",
      "Hallelujah\n",
      "Hallelujah Your faith was strong but you needed proof\n"
     ]
    }
   ],
   "source": [
    "for idx, sentence in enumerate(raw_corpus):\n",
    "    if len(sentence) == 0: continue   # 길이가 0인 문장은 건너뜁니다.\n",
    "    if idx > 9: break   # 일단 문장 10개만 확인해 볼 겁니다.\n",
    "        \n",
    "    print(sentence)"
   ]
  },
  {
   "cell_type": "code",
   "execution_count": 4,
   "id": "a4ac5bde",
   "metadata": {},
   "outputs": [
    {
     "name": "stdout",
     "output_type": "stream",
     "text": [
      "<start> this is sample sentence . <end>\n"
     ]
    }
   ],
   "source": [
    "# 입력된 문장을\n",
    "#     1. 소문자로 바꾸고, 양쪽 공백을 지웁니다\n",
    "#     2. 특수문자 양쪽에 공백을 넣고\n",
    "#     3. 여러개의 공백은 하나의 공백으로 바꿉니다\n",
    "#     4. a-zA-Z?.!,¿가 아닌 모든 문자를 하나의 공백으로 바꿉니다\n",
    "#     5. 다시 양쪽 공백을 지웁니다\n",
    "#     6. 문장 시작에는 <start>, 끝에는 <end>를 추가합니다\n",
    "\n",
    "def preprocess_sentence(sentence):\n",
    "    sentence = sentence.lower().strip() # 1\n",
    "    sentence = re.sub(r\"([?.!,¿])\", r\" \\1 \", sentence) # 2\n",
    "    sentence = re.sub(r'[\" \"]+', \" \", sentence) # 3\n",
    "    sentence = re.sub(r\"[^a-zA-Z?.!,¿]+\", \" \", sentence) # 4\n",
    "    sentence = sentence.strip() # 5\n",
    "    sentence = '<start> ' + sentence + ' <end>' # 6\n",
    "    return sentence\n",
    "\n",
    "\n",
    "print(preprocess_sentence(\"This @_is ;;;sample        sentence.\"))"
   ]
  },
  {
   "cell_type": "code",
   "execution_count": 5,
   "id": "2e33d39c",
   "metadata": {},
   "outputs": [
    {
     "name": "stdout",
     "output_type": "stream",
     "text": [
      "['<start> now i ve heard there was a secret chord <end>', '<start> that david played , and it pleased the lord <end>', '<start> but you don t really care for music , do you ? <end>', '<start> it goes like this <end>', '<start> the fourth , the fifth <end>', '<start> the minor fall , the major lift <end>', '<start> the baffled king composing hallelujah hallelujah <end>', '<start> hallelujah <end>', '<start> hallelujah <end>', '<start> hallelujah your faith was strong but you needed proof <end>']\n",
      "175986\n"
     ]
    }
   ],
   "source": [
    "# 여기에 정제된 문장을 모을겁니다\n",
    "corpus = []\n",
    "\n",
    "for sentence in raw_corpus:\n",
    "    # 우리가 원하지 않는 문장은 건너뜁니다\n",
    "    if len(sentence) == 0: continue\n",
    "    \n",
    "    # 정제를 하고 담아주세요\n",
    "    preprocessed_sentence = preprocess_sentence(sentence)\n",
    "    corpus.append(preprocessed_sentence)\n",
    "        \n",
    "# 정제된 결과를 10개만 확인해보죠\n",
    "print(corpus[:10])\n",
    "\n",
    "print(len(corpus))"
   ]
  },
  {
   "cell_type": "code",
   "execution_count": 6,
   "id": "37351856",
   "metadata": {},
   "outputs": [
    {
     "data": {
      "text/plain": [
       "'<start> you know , i love you <end>'"
      ]
     },
     "execution_count": 6,
     "metadata": {},
     "output_type": "execute_result"
    }
   ],
   "source": [
    "corpus[-1]"
   ]
  },
  {
   "cell_type": "code",
   "execution_count": 7,
   "id": "cfa88701",
   "metadata": {},
   "outputs": [
    {
     "name": "stdout",
     "output_type": "stream",
     "text": [
      "[2, 8, 36, 46, 7, 243, 10, 92, 69, 17, 7, 76, 38, 33, 10, 114, 69, 3]\n",
      "156227\n"
     ]
    }
   ],
   "source": [
    "# 토큰화 할 때 텐서플로우의 Tokenizer와 pad_sequences를 사용합니다\n",
    " \n",
    "def tokenize(corpus):\n",
    "    # 12000단어를 기억할 수 있는 tokenizer를 만들겁니다\n",
    "    # 12000단어를 포함되지 못한 단어는 '<unk>'로 바꿈\n",
    "    tokenizer = tf.keras.preprocessing.text.Tokenizer(\n",
    "        num_words=12000, \n",
    "        filters=' ',\n",
    "        oov_token=\"<unk>\"\n",
    "    )\n",
    "    # corpus를 이용해 tokenizer 내부의 단어장을 완성합니다\n",
    "    tokenizer.fit_on_texts(corpus)\n",
    "    # 준비한 tokenizer를 이용해 corpus를 Tensor로 변환합니다\n",
    "    tensor = tokenizer.texts_to_sequences(corpus) \n",
    "    print(tensor[50])\n",
    "    \n",
    "    check_tensor=[]\n",
    "    for temp in tensor:\n",
    "        if len(temp)<=15 and len(temp)!=0:\n",
    "            check_tensor.append(temp)\n",
    "    \n",
    "    print(len(check_tensor))\n",
    "        \n",
    "    \n",
    "    check_tensor = tf.keras.preprocessing.sequence.pad_sequences(check_tensor, padding='post')  \n",
    "    \n",
    "   #print(tensor,tokenizer)\n",
    "    return check_tensor, tokenizer\n",
    "\n",
    "tensor, tokenizer = tokenize(corpus)\n"
   ]
  },
  {
   "cell_type": "code",
   "execution_count": 8,
   "id": "617af7bd",
   "metadata": {},
   "outputs": [
    {
     "name": "stdout",
     "output_type": "stream",
     "text": [
      "156227\n",
      "15\n"
     ]
    }
   ],
   "source": [
    "print(len(tensor))\n",
    "print(len(tensor[50]))"
   ]
  },
  {
   "cell_type": "code",
   "execution_count": 9,
   "id": "634f92df",
   "metadata": {},
   "outputs": [
    {
     "name": "stdout",
     "output_type": "stream",
     "text": [
      "[   2   50    5   91  297   64   57    9  970 6048    3    0    0    0]\n",
      "[  50    5   91  297   64   57    9  970 6048    3    0    0    0    0]\n"
     ]
    }
   ],
   "source": [
    "\n",
    "# 마지막 토큰은 <end>가 아니라 <pad>일 가능성이 높습니다.\n",
    "src_input = tensor[:, :-1]  \n",
    "# tensor에서 <start>를 잘라내서 타겟 문장을 생성합니다.\n",
    "tgt_input = tensor[:, 1:]    \n",
    "\n",
    "print(src_input[0]) # 2<start>에서 시작해서 3<enc>으로 끝난 후 0<pad>로 채워져있음\n",
    "print(tgt_input[0]) # 타겟은 2로 시작하지 않고 소스를 왼쪽으로 한 칸 시프트 한 형태를 가짐"
   ]
  },
  {
   "cell_type": "markdown",
   "id": "9aa725ac",
   "metadata": {},
   "source": [
    "### dataset 생성 후 train, validation, test 분리"
   ]
  },
  {
   "cell_type": "code",
   "execution_count": 10,
   "id": "aabb1d81",
   "metadata": {},
   "outputs": [
    {
     "name": "stdout",
     "output_type": "stream",
     "text": [
      "enc_train 개수:  124981 , enc_val 개수:  31246\n"
     ]
    }
   ],
   "source": [
    "from sklearn.model_selection import train_test_split\n",
    "enc_train, enc_val, dec_train, dec_val =  train_test_split(src_input,tgt_input, \n",
    "                                                    test_size=0.2, \n",
    "                                                    random_state=7)\n",
    "\n",
    "print('enc_train 개수: ', len(enc_train),', enc_val 개수: ', len(dec_train))"
   ]
  },
  {
   "cell_type": "code",
   "execution_count": 11,
   "id": "130d4e6f",
   "metadata": {},
   "outputs": [
    {
     "data": {
      "text/plain": [
       "(124981, 14)"
      ]
     },
     "execution_count": 11,
     "metadata": {},
     "output_type": "execute_result"
    }
   ],
   "source": [
    "dec_train.shape"
   ]
  },
  {
   "cell_type": "code",
   "execution_count": 12,
   "id": "d0b04d6c",
   "metadata": {},
   "outputs": [
    {
     "data": {
      "text/plain": [
       "<BatchDataset shapes: ((256, 14), (256, 14)), types: (tf.int32, tf.int32)>"
      ]
     },
     "execution_count": 12,
     "metadata": {},
     "output_type": "execute_result"
    }
   ],
   "source": [
    "BUFFER_SIZE = len(dec_train)\n",
    "BATCH_SIZE = 256\n",
    "steps_per_epoch = len(dec_train) // BATCH_SIZE\n",
    "\n",
    " # tokenizer가 구축한 단어사전 내 7000개와, 여기 포함되지 않은 0:<pad>를 포함하여 7001개\n",
    "VOCAB_SIZE = tokenizer.num_words + 1   \n",
    "\n",
    "# 준비한 데이터 소스로부터 데이터셋을 만듭니다\n",
    "# 데이터셋에 대해서는 아래 문서를 참고하세요\n",
    "# 자세히 알아둘수록 도움이 많이 되는 중요한 문서입니다\n",
    "# https://www.tensorflow.org/api_docs/python/tf/data/Dataset\n",
    "dataset = tf.data.Dataset.from_tensor_slices((src_input, tgt_input))\n",
    "dataset = dataset.shuffle(BUFFER_SIZE)\n",
    "dataset = dataset.batch(BATCH_SIZE, drop_remainder=True)\n",
    "dataset"
   ]
  },
  {
   "cell_type": "code",
   "execution_count": 16,
   "id": "9571a74a",
   "metadata": {},
   "outputs": [],
   "source": [
    "class TextGenerator(tf.keras.Model):\n",
    "    def __init__(self, vocab_size, embedding_size, hidden_size):\n",
    "        super().__init__()\n",
    "        \n",
    "        self.embedding = tf.keras.layers.Embedding(vocab_size, embedding_size)\n",
    "        self.rnn_1 = tf.keras.layers.LSTM(hidden_size, return_sequences=True)\n",
    "        self.rnn_2 = tf.keras.layers.LSTM(hidden_size, return_sequences=True)\n",
    "        self.linear = tf.keras.layers.Dense(vocab_size)\n",
    "        \n",
    "    def call(self, x):\n",
    "        out = self.embedding(x)\n",
    "        out = self.rnn_1(out)\n",
    "        out = self.rnn_2(out)\n",
    "        out = self.linear(out)\n",
    "        \n",
    "        return out\n",
    "    \n",
    "embedding_size = 256\n",
    "hidden_size = 1024\n",
    "model = TextGenerator(tokenizer.num_words + 1, embedding_size , hidden_size)"
   ]
  },
  {
   "cell_type": "code",
   "execution_count": 18,
   "id": "4d4052cb",
   "metadata": {},
   "outputs": [
    {
     "data": {
      "text/plain": [
       "<tf.Tensor: shape=(256, 14, 12001), dtype=float32, numpy=\n",
       "array([[[ 2.0429641e-05, -1.4360924e-04,  2.4599309e-05, ...,\n",
       "         -2.7488417e-04,  2.6435123e-06,  1.5015624e-04],\n",
       "        [ 7.5417556e-06,  1.5241770e-06,  1.2106828e-04, ...,\n",
       "         -3.8726590e-04,  3.9834144e-05,  3.1748426e-04],\n",
       "        [ 1.2329988e-04,  3.3919339e-05,  1.6426327e-04, ...,\n",
       "         -3.6112964e-04,  3.6226975e-05,  4.2849442e-04],\n",
       "        ...,\n",
       "        [-1.2370163e-04,  1.0195761e-04, -1.4808911e-04, ...,\n",
       "          3.4373658e-04,  2.4755215e-04,  6.3600997e-04],\n",
       "        [-3.3638594e-04,  5.1374675e-05, -4.4791683e-04, ...,\n",
       "          5.7998383e-05,  5.2318932e-04,  2.9383009e-04],\n",
       "        [-4.4595121e-04, -2.6003077e-05, -7.1282295e-04, ...,\n",
       "         -2.6101634e-04,  7.6508662e-04, -8.8591936e-05]],\n",
       "\n",
       "       [[ 2.0429641e-05, -1.4360924e-04,  2.4599309e-05, ...,\n",
       "         -2.7488417e-04,  2.6435123e-06,  1.5015624e-04],\n",
       "        [-9.9516605e-05, -1.6241649e-05,  1.5214898e-04, ...,\n",
       "         -2.6733731e-04, -6.1082079e-05, -5.3549065e-05],\n",
       "        [-2.9442197e-04,  1.4057079e-04,  2.2756780e-04, ...,\n",
       "         -2.0944177e-04,  1.6552107e-04, -2.3543880e-04],\n",
       "        ...,\n",
       "        [-3.4486098e-04, -5.2858092e-04, -1.3162732e-03, ...,\n",
       "         -1.6812992e-03,  1.2380917e-03, -1.6310780e-03],\n",
       "        [-1.8836028e-04, -6.7605695e-04, -1.3262999e-03, ...,\n",
       "         -1.8914216e-03,  1.2344213e-03, -1.7504544e-03],\n",
       "        [-4.4266413e-05, -8.2178804e-04, -1.2989177e-03, ...,\n",
       "         -2.0857360e-03,  1.2057106e-03, -1.8330147e-03]],\n",
       "\n",
       "       [[ 2.0429641e-05, -1.4360924e-04,  2.4599309e-05, ...,\n",
       "         -2.7488417e-04,  2.6435123e-06,  1.5015624e-04],\n",
       "        [-4.5189456e-05, -2.2644781e-04,  2.4042625e-05, ...,\n",
       "         -2.2348092e-04, -1.1491227e-04,  3.5301564e-04],\n",
       "        [-7.4329211e-05, -3.0248542e-04,  2.5503867e-04, ...,\n",
       "         -1.0627997e-04, -3.6038220e-04,  4.0226465e-04],\n",
       "        ...,\n",
       "        [-3.6218468e-04, -2.4632097e-04, -1.1503020e-03, ...,\n",
       "         -1.8139535e-03,  1.4220069e-03, -1.2479295e-03],\n",
       "        [-2.5611927e-04, -4.1813677e-04, -1.1164978e-03, ...,\n",
       "         -2.0403019e-03,  1.4036103e-03, -1.4174819e-03],\n",
       "        [-1.5260906e-04, -5.9142133e-04, -1.0633894e-03, ...,\n",
       "         -2.2421959e-03,  1.3578387e-03, -1.5462886e-03]],\n",
       "\n",
       "       ...,\n",
       "\n",
       "       [[ 2.0429641e-05, -1.4360924e-04,  2.4599309e-05, ...,\n",
       "         -2.7488417e-04,  2.6435123e-06,  1.5015624e-04],\n",
       "        [ 1.5119881e-04, -6.1153574e-04,  1.2559954e-04, ...,\n",
       "         -4.2778347e-04,  1.0262813e-04,  1.5635428e-04],\n",
       "        [ 2.2494101e-05, -1.0039272e-03,  2.7870828e-05, ...,\n",
       "         -7.6603564e-04, -1.0001227e-04, -2.5304142e-05],\n",
       "        ...,\n",
       "        [-9.6923322e-04, -1.1869883e-03, -1.6512105e-03, ...,\n",
       "         -1.5678605e-03,  1.2842664e-03, -6.6226465e-04],\n",
       "        [-7.9108623e-04, -1.1086240e-03, -1.6949330e-03, ...,\n",
       "         -1.6910094e-03,  1.4228445e-03, -8.7740232e-04],\n",
       "        [-6.0013501e-04, -1.0803792e-03, -1.6948672e-03, ...,\n",
       "         -1.8289095e-03,  1.4884793e-03, -1.0664568e-03]],\n",
       "\n",
       "       [[ 2.0429641e-05, -1.4360924e-04,  2.4599309e-05, ...,\n",
       "         -2.7488417e-04,  2.6435123e-06,  1.5015624e-04],\n",
       "        [ 2.7739196e-04, -2.9180528e-04, -8.5171545e-05, ...,\n",
       "         -3.1797908e-04,  6.0364175e-05,  3.1227514e-04],\n",
       "        [ 5.7271688e-04, -1.7265628e-04, -3.0523719e-04, ...,\n",
       "         -1.8059711e-04, -2.3398814e-05,  3.2096097e-04],\n",
       "        ...,\n",
       "        [ 5.4755236e-04, -4.7513889e-04, -1.0129297e-03, ...,\n",
       "         -1.2770728e-03,  1.6395964e-04, -5.8333261e-04],\n",
       "        [ 5.3393486e-04, -5.7823089e-04, -1.0940757e-03, ...,\n",
       "         -1.5473652e-03,  3.9219816e-04, -8.4544491e-04],\n",
       "        [ 5.3894427e-04, -6.9848110e-04, -1.1327730e-03, ...,\n",
       "         -1.8022195e-03,  5.5857486e-04, -1.0616094e-03]],\n",
       "\n",
       "       [[ 2.0429641e-05, -1.4360924e-04,  2.4599309e-05, ...,\n",
       "         -2.7488417e-04,  2.6435123e-06,  1.5015624e-04],\n",
       "        [ 2.7739196e-04, -2.9180528e-04, -8.5171545e-05, ...,\n",
       "         -3.1797908e-04,  6.0364175e-05,  3.1227514e-04],\n",
       "        [ 2.8869329e-04, -4.1338828e-04, -7.0827286e-05, ...,\n",
       "         -2.8717562e-04,  1.2681243e-04,  2.0728083e-04],\n",
       "        ...,\n",
       "        [ 9.4914099e-04, -5.0003541e-04, -1.1397438e-03, ...,\n",
       "         -5.1664276e-04,  4.1532159e-04, -5.3943222e-04],\n",
       "        [ 8.2739181e-04, -5.1353459e-04, -1.2051569e-03, ...,\n",
       "         -6.9277798e-04,  6.9759716e-04, -8.1344752e-04],\n",
       "        [ 7.4089563e-04, -5.7195086e-04, -1.2407888e-03, ...,\n",
       "         -8.9505862e-04,  8.9575979e-04, -1.0406650e-03]]], dtype=float32)>"
      ]
     },
     "execution_count": 18,
     "metadata": {},
     "output_type": "execute_result"
    }
   ],
   "source": [
    "\n",
    "for src_sample, tgt_sample in dataset.take(1): break\n",
    "\n",
    "# 한 배치만 불러온 데이터를 모델에 넣어봅니다\n",
    "model(src_sample)"
   ]
  },
  {
   "cell_type": "code",
   "execution_count": 19,
   "id": "02a72e9b",
   "metadata": {},
   "outputs": [
    {
     "name": "stdout",
     "output_type": "stream",
     "text": [
      "Model: \"text_generator_1\"\n",
      "_________________________________________________________________\n",
      "Layer (type)                 Output Shape              Param #   \n",
      "=================================================================\n",
      "embedding_1 (Embedding)      multiple                  3072256   \n",
      "_________________________________________________________________\n",
      "lstm_2 (LSTM)                multiple                  5246976   \n",
      "_________________________________________________________________\n",
      "lstm_3 (LSTM)                multiple                  8392704   \n",
      "_________________________________________________________________\n",
      "dense_1 (Dense)              multiple                  12301025  \n",
      "=================================================================\n",
      "Total params: 29,012,961\n",
      "Trainable params: 29,012,961\n",
      "Non-trainable params: 0\n",
      "_________________________________________________________________\n"
     ]
    }
   ],
   "source": [
    "model.summary()"
   ]
  },
  {
   "cell_type": "code",
   "execution_count": 20,
   "id": "e69905ac",
   "metadata": {},
   "outputs": [],
   "source": [
    "optimizer = tf.keras.optimizers.Adam()\n",
    "loss = tf.keras.losses.SparseCategoricalCrossentropy(\n",
    "    from_logits=True, reduction='none')"
   ]
  },
  {
   "cell_type": "code",
   "execution_count": 21,
   "id": "bd48b9c8",
   "metadata": {},
   "outputs": [
    {
     "name": "stdout",
     "output_type": "stream",
     "text": [
      "Epoch 1/10\n",
      "610/610 [==============================] - 103s 165ms/step - loss: 3.4192\n",
      "Epoch 2/10\n",
      "610/610 [==============================] - 104s 170ms/step - loss: 2.9690\n",
      "Epoch 3/10\n",
      "610/610 [==============================] - 104s 170ms/step - loss: 2.7944\n",
      "Epoch 4/10\n",
      "610/610 [==============================] - 104s 170ms/step - loss: 2.6638\n",
      "Epoch 5/10\n",
      "610/610 [==============================] - 104s 171ms/step - loss: 2.5539\n",
      "Epoch 6/10\n",
      "610/610 [==============================] - 104s 171ms/step - loss: 2.4556\n",
      "Epoch 7/10\n",
      "610/610 [==============================] - 104s 171ms/step - loss: 2.3653\n",
      "Epoch 8/10\n",
      "610/610 [==============================] - 104s 171ms/step - loss: 2.2810\n",
      "Epoch 9/10\n",
      "610/610 [==============================] - 104s 171ms/step - loss: 2.2017\n",
      "Epoch 10/10\n",
      "610/610 [==============================] - 104s 171ms/step - loss: 2.1268\n"
     ]
    },
    {
     "data": {
      "text/plain": [
       "<keras.callbacks.History at 0x7f1c907a54c0>"
      ]
     },
     "execution_count": 21,
     "metadata": {},
     "output_type": "execute_result"
    }
   ],
   "source": [
    "model.compile(loss=loss, optimizer=optimizer)\n",
    "model.fit(dataset, epochs=10)"
   ]
  },
  {
   "cell_type": "code",
   "execution_count": 22,
   "id": "5cd8c379",
   "metadata": {},
   "outputs": [],
   "source": [
    "# 모델이 시작 문장을 전달하면 모델이 시작 문장을 바탕으로 작문\n",
    "def generate_text(model, tokenizer, init_sentence=\"<start>\", max_len=20):\n",
    "    # 테스트를 위해서 입력받은 init_sentence도 텐서로 변환합니다\n",
    "    test_input = tokenizer.texts_to_sequences([init_sentence])\n",
    "    test_tensor = tf.convert_to_tensor(test_input, dtype=tf.int64)\n",
    "    end_token = tokenizer.word_index[\"<end>\"]\n",
    "\n",
    "    # 단어 하나씩 예측해 문장을 만듭니다\n",
    "    #    1. 입력받은 문장의 텐서를 입력합니다\n",
    "    #    2. 예측된 값 중 가장 높은 확률인 word index를 뽑아냅니다\n",
    "    #    3. 2에서 예측된 word index를 문장 뒤에 붙입니다\n",
    "    #    4. 모델이 <end>를 예측했거나, max_len에 도달했다면 문장 생성을 마칩니다\n",
    "    while True:\n",
    "        # 1\n",
    "        predict = model(test_tensor) \n",
    "        # 2\n",
    "        predict_word = tf.argmax(tf.nn.softmax(predict, axis=-1), axis=-1)[:, -1] \n",
    "        # 3 \n",
    "        test_tensor = tf.concat([test_tensor, tf.expand_dims(predict_word, axis=0)], axis=-1)\n",
    "        # 4\n",
    "        if predict_word.numpy()[0] == end_token: break\n",
    "        if test_tensor.shape[1] >= max_len: break\n",
    "\n",
    "    generated = \"\"\n",
    "    # tokenizer를 이용해 word index를 단어로 하나씩 변환합니다 \n",
    "    for word_index in test_tensor[0].numpy():\n",
    "        generated += tokenizer.index_word[word_index] + \" \"\n",
    "\n",
    "    return generated"
   ]
  },
  {
   "cell_type": "code",
   "execution_count": 24,
   "id": "1dcba98f",
   "metadata": {},
   "outputs": [
    {
     "data": {
      "text/plain": [
       "'<start> i love you , liberian girl <end> '"
      ]
     },
     "execution_count": 24,
     "metadata": {},
     "output_type": "execute_result"
    }
   ],
   "source": [
    "generate_text(model, tokenizer, init_sentence=\"<start> i love\", max_len=20)"
   ]
  },
  {
   "cell_type": "code",
   "execution_count": null,
   "id": "d6c30e8f",
   "metadata": {},
   "outputs": [],
   "source": []
  }
 ],
 "metadata": {
  "kernelspec": {
   "display_name": "Python 3 (ipykernel)",
   "language": "python",
   "name": "python3"
  },
  "language_info": {
   "codemirror_mode": {
    "name": "ipython",
    "version": 3
   },
   "file_extension": ".py",
   "mimetype": "text/x-python",
   "name": "python",
   "nbconvert_exporter": "python",
   "pygments_lexer": "ipython3",
   "version": "3.9.7"
  }
 },
 "nbformat": 4,
 "nbformat_minor": 5
}

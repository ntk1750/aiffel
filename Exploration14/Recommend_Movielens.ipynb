{
 "cells": [
  {
   "cell_type": "markdown",
   "id": "5436571a",
   "metadata": {},
   "source": [
    "## 데이터 불러오기 "
   ]
  },
  {
   "cell_type": "code",
   "execution_count": 31,
   "id": "46ab524a",
   "metadata": {},
   "outputs": [
    {
     "data": {
      "text/html": [
       "<div>\n",
       "<style scoped>\n",
       "    .dataframe tbody tr th:only-of-type {\n",
       "        vertical-align: middle;\n",
       "    }\n",
       "\n",
       "    .dataframe tbody tr th {\n",
       "        vertical-align: top;\n",
       "    }\n",
       "\n",
       "    .dataframe thead th {\n",
       "        text-align: right;\n",
       "    }\n",
       "</style>\n",
       "<table border=\"1\" class=\"dataframe\">\n",
       "  <thead>\n",
       "    <tr style=\"text-align: right;\">\n",
       "      <th></th>\n",
       "      <th>user_id</th>\n",
       "      <th>movie_id</th>\n",
       "      <th>ratings</th>\n",
       "      <th>timestamp</th>\n",
       "    </tr>\n",
       "  </thead>\n",
       "  <tbody>\n",
       "    <tr>\n",
       "      <th>0</th>\n",
       "      <td>1</td>\n",
       "      <td>1193</td>\n",
       "      <td>5</td>\n",
       "      <td>978300760</td>\n",
       "    </tr>\n",
       "    <tr>\n",
       "      <th>1</th>\n",
       "      <td>1</td>\n",
       "      <td>661</td>\n",
       "      <td>3</td>\n",
       "      <td>978302109</td>\n",
       "    </tr>\n",
       "    <tr>\n",
       "      <th>2</th>\n",
       "      <td>1</td>\n",
       "      <td>914</td>\n",
       "      <td>3</td>\n",
       "      <td>978301968</td>\n",
       "    </tr>\n",
       "    <tr>\n",
       "      <th>3</th>\n",
       "      <td>1</td>\n",
       "      <td>3408</td>\n",
       "      <td>4</td>\n",
       "      <td>978300275</td>\n",
       "    </tr>\n",
       "    <tr>\n",
       "      <th>4</th>\n",
       "      <td>1</td>\n",
       "      <td>2355</td>\n",
       "      <td>5</td>\n",
       "      <td>978824291</td>\n",
       "    </tr>\n",
       "  </tbody>\n",
       "</table>\n",
       "</div>"
      ],
      "text/plain": [
       "   user_id  movie_id  ratings  timestamp\n",
       "0        1      1193        5  978300760\n",
       "1        1       661        3  978302109\n",
       "2        1       914        3  978301968\n",
       "3        1      3408        4  978300275\n",
       "4        1      2355        5  978824291"
      ]
     },
     "execution_count": 31,
     "metadata": {},
     "output_type": "execute_result"
    }
   ],
   "source": [
    "import pandas as pd\n",
    "import os\n",
    "rating_file_path=os.getenv('HOME') + '/aiffel/recommendata_iu/data/ml-1m/ratings.dat'\n",
    "ratings_cols = ['user_id', 'movie_id', 'ratings', 'timestamp']\n",
    "ratings = pd.read_csv(rating_file_path, sep='::', names=ratings_cols, engine='python', encoding = \"ISO-8859-1\")\n",
    "orginal_data_size = len(ratings)\n",
    "ratings.head()"
   ]
  },
  {
   "cell_type": "code",
   "execution_count": 32,
   "id": "9fbc1f78",
   "metadata": {},
   "outputs": [
    {
     "data": {
      "text/html": [
       "<div>\n",
       "<style scoped>\n",
       "    .dataframe tbody tr th:only-of-type {\n",
       "        vertical-align: middle;\n",
       "    }\n",
       "\n",
       "    .dataframe tbody tr th {\n",
       "        vertical-align: top;\n",
       "    }\n",
       "\n",
       "    .dataframe thead th {\n",
       "        text-align: right;\n",
       "    }\n",
       "</style>\n",
       "<table border=\"1\" class=\"dataframe\">\n",
       "  <thead>\n",
       "    <tr style=\"text-align: right;\">\n",
       "      <th></th>\n",
       "      <th>movie_id</th>\n",
       "      <th>title</th>\n",
       "      <th>genre</th>\n",
       "    </tr>\n",
       "  </thead>\n",
       "  <tbody>\n",
       "    <tr>\n",
       "      <th>0</th>\n",
       "      <td>1</td>\n",
       "      <td>Toy Story (1995)</td>\n",
       "      <td>Animation|Children's|Comedy</td>\n",
       "    </tr>\n",
       "    <tr>\n",
       "      <th>1</th>\n",
       "      <td>2</td>\n",
       "      <td>Jumanji (1995)</td>\n",
       "      <td>Adventure|Children's|Fantasy</td>\n",
       "    </tr>\n",
       "    <tr>\n",
       "      <th>2</th>\n",
       "      <td>3</td>\n",
       "      <td>Grumpier Old Men (1995)</td>\n",
       "      <td>Comedy|Romance</td>\n",
       "    </tr>\n",
       "    <tr>\n",
       "      <th>3</th>\n",
       "      <td>4</td>\n",
       "      <td>Waiting to Exhale (1995)</td>\n",
       "      <td>Comedy|Drama</td>\n",
       "    </tr>\n",
       "    <tr>\n",
       "      <th>4</th>\n",
       "      <td>5</td>\n",
       "      <td>Father of the Bride Part II (1995)</td>\n",
       "      <td>Comedy</td>\n",
       "    </tr>\n",
       "  </tbody>\n",
       "</table>\n",
       "</div>"
      ],
      "text/plain": [
       "   movie_id                               title                         genre\n",
       "0         1                    Toy Story (1995)   Animation|Children's|Comedy\n",
       "1         2                      Jumanji (1995)  Adventure|Children's|Fantasy\n",
       "2         3             Grumpier Old Men (1995)                Comedy|Romance\n",
       "3         4            Waiting to Exhale (1995)                  Comedy|Drama\n",
       "4         5  Father of the Bride Part II (1995)                        Comedy"
      ]
     },
     "execution_count": 32,
     "metadata": {},
     "output_type": "execute_result"
    }
   ],
   "source": [
    "# 영화 제목을 보기 위해 메타 데이터를 읽어옵니다.\n",
    "movie_file_path=os.getenv('HOME') + '/aiffel/recommendata_iu/data/ml-1m/movies.dat'\n",
    "cols = ['movie_id', 'title', 'genre'] \n",
    "movies = pd.read_csv(movie_file_path, sep='::', names=cols, engine='python', encoding='ISO-8859-1')\n",
    "movies.head()"
   ]
  },
  {
   "cell_type": "markdown",
   "id": "c22b85d3",
   "metadata": {},
   "source": [
    "#### 사용할 데이터만 남기기"
   ]
  },
  {
   "cell_type": "markdown",
   "id": "aca9963b",
   "metadata": {},
   "source": [
    "추천시스템 구성 시 timestamp데이터는 필요없기 때문에 데이터 제거"
   ]
  },
  {
   "cell_type": "code",
   "execution_count": 33,
   "id": "56b5e9bf",
   "metadata": {},
   "outputs": [
    {
     "data": {
      "text/html": [
       "<div>\n",
       "<style scoped>\n",
       "    .dataframe tbody tr th:only-of-type {\n",
       "        vertical-align: middle;\n",
       "    }\n",
       "\n",
       "    .dataframe tbody tr th {\n",
       "        vertical-align: top;\n",
       "    }\n",
       "\n",
       "    .dataframe thead th {\n",
       "        text-align: right;\n",
       "    }\n",
       "</style>\n",
       "<table border=\"1\" class=\"dataframe\">\n",
       "  <thead>\n",
       "    <tr style=\"text-align: right;\">\n",
       "      <th></th>\n",
       "      <th>user_id</th>\n",
       "      <th>movie_id</th>\n",
       "      <th>ratings</th>\n",
       "    </tr>\n",
       "  </thead>\n",
       "  <tbody>\n",
       "    <tr>\n",
       "      <th>0</th>\n",
       "      <td>1</td>\n",
       "      <td>1193</td>\n",
       "      <td>5</td>\n",
       "    </tr>\n",
       "    <tr>\n",
       "      <th>1</th>\n",
       "      <td>1</td>\n",
       "      <td>661</td>\n",
       "      <td>3</td>\n",
       "    </tr>\n",
       "    <tr>\n",
       "      <th>2</th>\n",
       "      <td>1</td>\n",
       "      <td>914</td>\n",
       "      <td>3</td>\n",
       "    </tr>\n",
       "    <tr>\n",
       "      <th>3</th>\n",
       "      <td>1</td>\n",
       "      <td>3408</td>\n",
       "      <td>4</td>\n",
       "    </tr>\n",
       "    <tr>\n",
       "      <th>4</th>\n",
       "      <td>1</td>\n",
       "      <td>2355</td>\n",
       "      <td>5</td>\n",
       "    </tr>\n",
       "    <tr>\n",
       "      <th>5</th>\n",
       "      <td>1</td>\n",
       "      <td>1197</td>\n",
       "      <td>3</td>\n",
       "    </tr>\n",
       "    <tr>\n",
       "      <th>6</th>\n",
       "      <td>1</td>\n",
       "      <td>1287</td>\n",
       "      <td>5</td>\n",
       "    </tr>\n",
       "    <tr>\n",
       "      <th>7</th>\n",
       "      <td>1</td>\n",
       "      <td>2804</td>\n",
       "      <td>5</td>\n",
       "    </tr>\n",
       "    <tr>\n",
       "      <th>8</th>\n",
       "      <td>1</td>\n",
       "      <td>594</td>\n",
       "      <td>4</td>\n",
       "    </tr>\n",
       "    <tr>\n",
       "      <th>9</th>\n",
       "      <td>1</td>\n",
       "      <td>919</td>\n",
       "      <td>4</td>\n",
       "    </tr>\n",
       "  </tbody>\n",
       "</table>\n",
       "</div>"
      ],
      "text/plain": [
       "   user_id  movie_id  ratings\n",
       "0        1      1193        5\n",
       "1        1       661        3\n",
       "2        1       914        3\n",
       "3        1      3408        4\n",
       "4        1      2355        5\n",
       "5        1      1197        3\n",
       "6        1      1287        5\n",
       "7        1      2804        5\n",
       "8        1       594        4\n",
       "9        1       919        4"
      ]
     },
     "execution_count": 33,
     "metadata": {},
     "output_type": "execute_result"
    }
   ],
   "source": [
    "cols = ['user_id', 'movie_id', 'ratings'] \n",
    "ratings = ratings[cols]\n",
    "ratings.head(10)"
   ]
  },
  {
   "cell_type": "markdown",
   "id": "f86bc1e0",
   "metadata": {},
   "source": [
    "#### 3점 이상 데이터만 남기기"
   ]
  },
  {
   "cell_type": "markdown",
   "id": "b6a870d8",
   "metadata": {},
   "source": [
    "별점을 시청횟수로 해석한다.\n",
    "<br/>\n",
    "유저가 3점 미만으로 준 데이터는 선호하지 않는다고 가정하고 제외"
   ]
  },
  {
   "cell_type": "code",
   "execution_count": 34,
   "id": "1d078e8d",
   "metadata": {},
   "outputs": [
    {
     "name": "stdout",
     "output_type": "stream",
     "text": [
      "orginal_data_size: 1000209, filtered_data_size: 836478\n",
      "Ratio of Remaining Data is 83.63%\n"
     ]
    }
   ],
   "source": [
    "# 3점 이상만 남깁니다.\n",
    "ratings = ratings[ratings['ratings']>=3]\n",
    "filtered_data_size = len(ratings)\n",
    "\n",
    "print(f'orginal_data_size: {orginal_data_size}, filtered_data_size: {filtered_data_size}')\n",
    "print(f'Ratio of Remaining Data is {filtered_data_size / orginal_data_size:.2%}')"
   ]
  },
  {
   "cell_type": "code",
   "execution_count": 35,
   "id": "5d7638ea",
   "metadata": {},
   "outputs": [],
   "source": [
    "# ratings 컬럼의 이름을 counts로 바꿉니다.\n",
    "ratings.rename(columns={'ratings':'counts'}, inplace=True)"
   ]
  },
  {
   "cell_type": "code",
   "execution_count": 36,
   "id": "c9ab5e0a",
   "metadata": {},
   "outputs": [
    {
     "data": {
      "text/html": [
       "<div>\n",
       "<style scoped>\n",
       "    .dataframe tbody tr th:only-of-type {\n",
       "        vertical-align: middle;\n",
       "    }\n",
       "\n",
       "    .dataframe tbody tr th {\n",
       "        vertical-align: top;\n",
       "    }\n",
       "\n",
       "    .dataframe thead th {\n",
       "        text-align: right;\n",
       "    }\n",
       "</style>\n",
       "<table border=\"1\" class=\"dataframe\">\n",
       "  <thead>\n",
       "    <tr style=\"text-align: right;\">\n",
       "      <th></th>\n",
       "      <th>user_id</th>\n",
       "      <th>movie_id</th>\n",
       "      <th>counts</th>\n",
       "    </tr>\n",
       "  </thead>\n",
       "  <tbody>\n",
       "    <tr>\n",
       "      <th>0</th>\n",
       "      <td>1</td>\n",
       "      <td>1193</td>\n",
       "      <td>5</td>\n",
       "    </tr>\n",
       "    <tr>\n",
       "      <th>1</th>\n",
       "      <td>1</td>\n",
       "      <td>661</td>\n",
       "      <td>3</td>\n",
       "    </tr>\n",
       "    <tr>\n",
       "      <th>2</th>\n",
       "      <td>1</td>\n",
       "      <td>914</td>\n",
       "      <td>3</td>\n",
       "    </tr>\n",
       "    <tr>\n",
       "      <th>3</th>\n",
       "      <td>1</td>\n",
       "      <td>3408</td>\n",
       "      <td>4</td>\n",
       "    </tr>\n",
       "    <tr>\n",
       "      <th>4</th>\n",
       "      <td>1</td>\n",
       "      <td>2355</td>\n",
       "      <td>5</td>\n",
       "    </tr>\n",
       "  </tbody>\n",
       "</table>\n",
       "</div>"
      ],
      "text/plain": [
       "   user_id  movie_id  counts\n",
       "0        1      1193       5\n",
       "1        1       661       3\n",
       "2        1       914       3\n",
       "3        1      3408       4\n",
       "4        1      2355       5"
      ]
     },
     "execution_count": 36,
     "metadata": {},
     "output_type": "execute_result"
    }
   ],
   "source": [
    "ratings.head()"
   ]
  },
  {
   "cell_type": "markdown",
   "id": "b92523e4",
   "metadata": {},
   "source": [
    "별점의 column name이 counts로 변경된 것을 볼 수 있다."
   ]
  },
  {
   "cell_type": "markdown",
   "id": "00dbcc54",
   "metadata": {},
   "source": [
    "### movie와 rating데이터 합치기"
   ]
  },
  {
   "cell_type": "markdown",
   "id": "2fe35a7d",
   "metadata": {},
   "source": [
    "사용하기 편하게 하기 위해 movie_id 이용 데이터 합침"
   ]
  },
  {
   "cell_type": "code",
   "execution_count": 37,
   "id": "4511a9ae",
   "metadata": {},
   "outputs": [
    {
     "data": {
      "text/html": [
       "<div>\n",
       "<style scoped>\n",
       "    .dataframe tbody tr th:only-of-type {\n",
       "        vertical-align: middle;\n",
       "    }\n",
       "\n",
       "    .dataframe tbody tr th {\n",
       "        vertical-align: top;\n",
       "    }\n",
       "\n",
       "    .dataframe thead th {\n",
       "        text-align: right;\n",
       "    }\n",
       "</style>\n",
       "<table border=\"1\" class=\"dataframe\">\n",
       "  <thead>\n",
       "    <tr style=\"text-align: right;\">\n",
       "      <th></th>\n",
       "      <th>user_id</th>\n",
       "      <th>movie_id</th>\n",
       "      <th>counts</th>\n",
       "      <th>title</th>\n",
       "      <th>genre</th>\n",
       "    </tr>\n",
       "  </thead>\n",
       "  <tbody>\n",
       "    <tr>\n",
       "      <th>0</th>\n",
       "      <td>1</td>\n",
       "      <td>1193</td>\n",
       "      <td>5</td>\n",
       "      <td>One Flew Over the Cuckoo's Nest (1975)</td>\n",
       "      <td>Drama</td>\n",
       "    </tr>\n",
       "    <tr>\n",
       "      <th>1</th>\n",
       "      <td>2</td>\n",
       "      <td>1193</td>\n",
       "      <td>5</td>\n",
       "      <td>One Flew Over the Cuckoo's Nest (1975)</td>\n",
       "      <td>Drama</td>\n",
       "    </tr>\n",
       "    <tr>\n",
       "      <th>2</th>\n",
       "      <td>12</td>\n",
       "      <td>1193</td>\n",
       "      <td>4</td>\n",
       "      <td>One Flew Over the Cuckoo's Nest (1975)</td>\n",
       "      <td>Drama</td>\n",
       "    </tr>\n",
       "    <tr>\n",
       "      <th>3</th>\n",
       "      <td>15</td>\n",
       "      <td>1193</td>\n",
       "      <td>4</td>\n",
       "      <td>One Flew Over the Cuckoo's Nest (1975)</td>\n",
       "      <td>Drama</td>\n",
       "    </tr>\n",
       "    <tr>\n",
       "      <th>4</th>\n",
       "      <td>17</td>\n",
       "      <td>1193</td>\n",
       "      <td>5</td>\n",
       "      <td>One Flew Over the Cuckoo's Nest (1975)</td>\n",
       "      <td>Drama</td>\n",
       "    </tr>\n",
       "  </tbody>\n",
       "</table>\n",
       "</div>"
      ],
      "text/plain": [
       "   user_id  movie_id  counts                                   title  genre\n",
       "0        1      1193       5  One Flew Over the Cuckoo's Nest (1975)  Drama\n",
       "1        2      1193       5  One Flew Over the Cuckoo's Nest (1975)  Drama\n",
       "2       12      1193       4  One Flew Over the Cuckoo's Nest (1975)  Drama\n",
       "3       15      1193       4  One Flew Over the Cuckoo's Nest (1975)  Drama\n",
       "4       17      1193       5  One Flew Over the Cuckoo's Nest (1975)  Drama"
      ]
     },
     "execution_count": 37,
     "metadata": {},
     "output_type": "execute_result"
    }
   ],
   "source": [
    "total_ratings = pd.merge(ratings,movies, on='movie_id')\n",
    "total_ratings.head()"
   ]
  },
  {
   "cell_type": "markdown",
   "id": "b4a0f28e",
   "metadata": {},
   "source": [
    "#### 검색하기 쉽게 소문자로 변경"
   ]
  },
  {
   "cell_type": "code",
   "execution_count": 38,
   "id": "63531bd0",
   "metadata": {},
   "outputs": [
    {
     "data": {
      "text/html": [
       "<div>\n",
       "<style scoped>\n",
       "    .dataframe tbody tr th:only-of-type {\n",
       "        vertical-align: middle;\n",
       "    }\n",
       "\n",
       "    .dataframe tbody tr th {\n",
       "        vertical-align: top;\n",
       "    }\n",
       "\n",
       "    .dataframe thead th {\n",
       "        text-align: right;\n",
       "    }\n",
       "</style>\n",
       "<table border=\"1\" class=\"dataframe\">\n",
       "  <thead>\n",
       "    <tr style=\"text-align: right;\">\n",
       "      <th></th>\n",
       "      <th>user_id</th>\n",
       "      <th>movie_id</th>\n",
       "      <th>counts</th>\n",
       "      <th>title</th>\n",
       "      <th>genre</th>\n",
       "    </tr>\n",
       "  </thead>\n",
       "  <tbody>\n",
       "    <tr>\n",
       "      <th>0</th>\n",
       "      <td>1</td>\n",
       "      <td>1193</td>\n",
       "      <td>5</td>\n",
       "      <td>one flew over the cuckoo's nest (1975)</td>\n",
       "      <td>Drama</td>\n",
       "    </tr>\n",
       "    <tr>\n",
       "      <th>1</th>\n",
       "      <td>2</td>\n",
       "      <td>1193</td>\n",
       "      <td>5</td>\n",
       "      <td>one flew over the cuckoo's nest (1975)</td>\n",
       "      <td>Drama</td>\n",
       "    </tr>\n",
       "    <tr>\n",
       "      <th>2</th>\n",
       "      <td>12</td>\n",
       "      <td>1193</td>\n",
       "      <td>4</td>\n",
       "      <td>one flew over the cuckoo's nest (1975)</td>\n",
       "      <td>Drama</td>\n",
       "    </tr>\n",
       "    <tr>\n",
       "      <th>3</th>\n",
       "      <td>15</td>\n",
       "      <td>1193</td>\n",
       "      <td>4</td>\n",
       "      <td>one flew over the cuckoo's nest (1975)</td>\n",
       "      <td>Drama</td>\n",
       "    </tr>\n",
       "    <tr>\n",
       "      <th>4</th>\n",
       "      <td>17</td>\n",
       "      <td>1193</td>\n",
       "      <td>5</td>\n",
       "      <td>one flew over the cuckoo's nest (1975)</td>\n",
       "      <td>Drama</td>\n",
       "    </tr>\n",
       "    <tr>\n",
       "      <th>5</th>\n",
       "      <td>18</td>\n",
       "      <td>1193</td>\n",
       "      <td>4</td>\n",
       "      <td>one flew over the cuckoo's nest (1975)</td>\n",
       "      <td>Drama</td>\n",
       "    </tr>\n",
       "    <tr>\n",
       "      <th>6</th>\n",
       "      <td>19</td>\n",
       "      <td>1193</td>\n",
       "      <td>5</td>\n",
       "      <td>one flew over the cuckoo's nest (1975)</td>\n",
       "      <td>Drama</td>\n",
       "    </tr>\n",
       "    <tr>\n",
       "      <th>7</th>\n",
       "      <td>24</td>\n",
       "      <td>1193</td>\n",
       "      <td>5</td>\n",
       "      <td>one flew over the cuckoo's nest (1975)</td>\n",
       "      <td>Drama</td>\n",
       "    </tr>\n",
       "    <tr>\n",
       "      <th>8</th>\n",
       "      <td>28</td>\n",
       "      <td>1193</td>\n",
       "      <td>3</td>\n",
       "      <td>one flew over the cuckoo's nest (1975)</td>\n",
       "      <td>Drama</td>\n",
       "    </tr>\n",
       "    <tr>\n",
       "      <th>9</th>\n",
       "      <td>33</td>\n",
       "      <td>1193</td>\n",
       "      <td>5</td>\n",
       "      <td>one flew over the cuckoo's nest (1975)</td>\n",
       "      <td>Drama</td>\n",
       "    </tr>\n",
       "  </tbody>\n",
       "</table>\n",
       "</div>"
      ],
      "text/plain": [
       "   user_id  movie_id  counts                                   title  genre\n",
       "0        1      1193       5  one flew over the cuckoo's nest (1975)  Drama\n",
       "1        2      1193       5  one flew over the cuckoo's nest (1975)  Drama\n",
       "2       12      1193       4  one flew over the cuckoo's nest (1975)  Drama\n",
       "3       15      1193       4  one flew over the cuckoo's nest (1975)  Drama\n",
       "4       17      1193       5  one flew over the cuckoo's nest (1975)  Drama\n",
       "5       18      1193       4  one flew over the cuckoo's nest (1975)  Drama\n",
       "6       19      1193       5  one flew over the cuckoo's nest (1975)  Drama\n",
       "7       24      1193       5  one flew over the cuckoo's nest (1975)  Drama\n",
       "8       28      1193       3  one flew over the cuckoo's nest (1975)  Drama\n",
       "9       33      1193       5  one flew over the cuckoo's nest (1975)  Drama"
      ]
     },
     "execution_count": 38,
     "metadata": {},
     "output_type": "execute_result"
    }
   ],
   "source": [
    "total_ratings['title'] = total_ratings['title'].str.lower() # 검색을 쉽게 하기 위해 아티스트 문자열을 소문자로 바꿔줍시다.\n",
    "total_ratings.head(10)"
   ]
  },
  {
   "cell_type": "code",
   "execution_count": 39,
   "id": "40daa55e",
   "metadata": {},
   "outputs": [
    {
     "data": {
      "text/html": [
       "<div>\n",
       "<style scoped>\n",
       "    .dataframe tbody tr th:only-of-type {\n",
       "        vertical-align: middle;\n",
       "    }\n",
       "\n",
       "    .dataframe tbody tr th {\n",
       "        vertical-align: top;\n",
       "    }\n",
       "\n",
       "    .dataframe thead th {\n",
       "        text-align: right;\n",
       "    }\n",
       "</style>\n",
       "<table border=\"1\" class=\"dataframe\">\n",
       "  <thead>\n",
       "    <tr style=\"text-align: right;\">\n",
       "      <th></th>\n",
       "      <th>user_id</th>\n",
       "      <th>movie_id</th>\n",
       "      <th>counts</th>\n",
       "      <th>title</th>\n",
       "      <th>genre</th>\n",
       "    </tr>\n",
       "  </thead>\n",
       "  <tbody>\n",
       "    <tr>\n",
       "      <th>38620</th>\n",
       "      <td>1</td>\n",
       "      <td>1</td>\n",
       "      <td>5</td>\n",
       "      <td>toy story (1995)</td>\n",
       "      <td>Animation|Children's|Comedy</td>\n",
       "    </tr>\n",
       "    <tr>\n",
       "      <th>38621</th>\n",
       "      <td>6</td>\n",
       "      <td>1</td>\n",
       "      <td>4</td>\n",
       "      <td>toy story (1995)</td>\n",
       "      <td>Animation|Children's|Comedy</td>\n",
       "    </tr>\n",
       "    <tr>\n",
       "      <th>38622</th>\n",
       "      <td>8</td>\n",
       "      <td>1</td>\n",
       "      <td>4</td>\n",
       "      <td>toy story (1995)</td>\n",
       "      <td>Animation|Children's|Comedy</td>\n",
       "    </tr>\n",
       "    <tr>\n",
       "      <th>38623</th>\n",
       "      <td>9</td>\n",
       "      <td>1</td>\n",
       "      <td>5</td>\n",
       "      <td>toy story (1995)</td>\n",
       "      <td>Animation|Children's|Comedy</td>\n",
       "    </tr>\n",
       "    <tr>\n",
       "      <th>38624</th>\n",
       "      <td>10</td>\n",
       "      <td>1</td>\n",
       "      <td>5</td>\n",
       "      <td>toy story (1995)</td>\n",
       "      <td>Animation|Children's|Comedy</td>\n",
       "    </tr>\n",
       "    <tr>\n",
       "      <th>...</th>\n",
       "      <td>...</td>\n",
       "      <td>...</td>\n",
       "      <td>...</td>\n",
       "      <td>...</td>\n",
       "      <td>...</td>\n",
       "    </tr>\n",
       "    <tr>\n",
       "      <th>40615</th>\n",
       "      <td>6022</td>\n",
       "      <td>1</td>\n",
       "      <td>5</td>\n",
       "      <td>toy story (1995)</td>\n",
       "      <td>Animation|Children's|Comedy</td>\n",
       "    </tr>\n",
       "    <tr>\n",
       "      <th>40616</th>\n",
       "      <td>6025</td>\n",
       "      <td>1</td>\n",
       "      <td>5</td>\n",
       "      <td>toy story (1995)</td>\n",
       "      <td>Animation|Children's|Comedy</td>\n",
       "    </tr>\n",
       "    <tr>\n",
       "      <th>40617</th>\n",
       "      <td>6032</td>\n",
       "      <td>1</td>\n",
       "      <td>4</td>\n",
       "      <td>toy story (1995)</td>\n",
       "      <td>Animation|Children's|Comedy</td>\n",
       "    </tr>\n",
       "    <tr>\n",
       "      <th>40618</th>\n",
       "      <td>6035</td>\n",
       "      <td>1</td>\n",
       "      <td>4</td>\n",
       "      <td>toy story (1995)</td>\n",
       "      <td>Animation|Children's|Comedy</td>\n",
       "    </tr>\n",
       "    <tr>\n",
       "      <th>40619</th>\n",
       "      <td>6040</td>\n",
       "      <td>1</td>\n",
       "      <td>3</td>\n",
       "      <td>toy story (1995)</td>\n",
       "      <td>Animation|Children's|Comedy</td>\n",
       "    </tr>\n",
       "  </tbody>\n",
       "</table>\n",
       "<p>2000 rows × 5 columns</p>\n",
       "</div>"
      ],
      "text/plain": [
       "       user_id  movie_id  counts             title  \\\n",
       "38620        1         1       5  toy story (1995)   \n",
       "38621        6         1       4  toy story (1995)   \n",
       "38622        8         1       4  toy story (1995)   \n",
       "38623        9         1       5  toy story (1995)   \n",
       "38624       10         1       5  toy story (1995)   \n",
       "...        ...       ...     ...               ...   \n",
       "40615     6022         1       5  toy story (1995)   \n",
       "40616     6025         1       5  toy story (1995)   \n",
       "40617     6032         1       4  toy story (1995)   \n",
       "40618     6035         1       4  toy story (1995)   \n",
       "40619     6040         1       3  toy story (1995)   \n",
       "\n",
       "                             genre  \n",
       "38620  Animation|Children's|Comedy  \n",
       "38621  Animation|Children's|Comedy  \n",
       "38622  Animation|Children's|Comedy  \n",
       "38623  Animation|Children's|Comedy  \n",
       "38624  Animation|Children's|Comedy  \n",
       "...                            ...  \n",
       "40615  Animation|Children's|Comedy  \n",
       "40616  Animation|Children's|Comedy  \n",
       "40617  Animation|Children's|Comedy  \n",
       "40618  Animation|Children's|Comedy  \n",
       "40619  Animation|Children's|Comedy  \n",
       "\n",
       "[2000 rows x 5 columns]"
      ]
     },
     "execution_count": 39,
     "metadata": {},
     "output_type": "execute_result"
    }
   ],
   "source": [
    "condition = total_ratings['movie_id']==1\n",
    "total_ratings.loc[condition]"
   ]
  },
  {
   "cell_type": "markdown",
   "id": "ba562754",
   "metadata": {},
   "source": [
    "## 데이터 탐색하기"
   ]
  },
  {
   "cell_type": "markdown",
   "id": "d7607ee6",
   "metadata": {},
   "source": [
    "추천 모델 만들기 전에 데이터의 기본적인 정보 확인"
   ]
  },
  {
   "cell_type": "markdown",
   "id": "ee8446e3",
   "metadata": {},
   "source": [
    "1. 유저 수, 영화 수, 인기 많은 영화 수\n",
    "2. 유저들이 몇 개의 영화를 보고 있는지에 대한 통계\n",
    "3. 유저 count 횟수 중앙값에 대한 통계"
   ]
  },
  {
   "cell_type": "markdown",
   "id": "2e591e87",
   "metadata": {},
   "source": [
    "#### 유저 수 확인"
   ]
  },
  {
   "cell_type": "code",
   "execution_count": 40,
   "id": "c3fc013e",
   "metadata": {},
   "outputs": [
    {
     "data": {
      "text/plain": [
       "6039"
      ]
     },
     "execution_count": 40,
     "metadata": {},
     "output_type": "execute_result"
    }
   ],
   "source": [
    "total_ratings['user_id'].nunique()"
   ]
  },
  {
   "cell_type": "markdown",
   "id": "e831b888",
   "metadata": {},
   "source": [
    "#### 영화 수 확인"
   ]
  },
  {
   "cell_type": "code",
   "execution_count": 41,
   "id": "99d73fa7",
   "metadata": {},
   "outputs": [
    {
     "data": {
      "text/plain": [
       "3628"
      ]
     },
     "execution_count": 41,
     "metadata": {},
     "output_type": "execute_result"
    }
   ],
   "source": [
    "total_ratings['title'].nunique()"
   ]
  },
  {
   "cell_type": "markdown",
   "id": "42da8129",
   "metadata": {},
   "source": [
    "#### 인기많은 영화 수 "
   ]
  },
  {
   "cell_type": "code",
   "execution_count": 42,
   "id": "7b6cbc04",
   "metadata": {},
   "outputs": [
    {
     "data": {
      "text/plain": [
       "title\n",
       "american beauty (1999)                                   3211\n",
       "star wars: episode iv - a new hope (1977)                2910\n",
       "star wars: episode v - the empire strikes back (1980)    2885\n",
       "star wars: episode vi - return of the jedi (1983)        2716\n",
       "saving private ryan (1998)                               2561\n",
       "terminator 2: judgment day (1991)                        2509\n",
       "silence of the lambs, the (1991)                         2498\n",
       "raiders of the lost ark (1981)                           2473\n",
       "back to the future (1985)                                2460\n",
       "matrix, the (1999)                                       2434\n",
       "jurassic park (1993)                                     2413\n",
       "sixth sense, the (1999)                                  2385\n",
       "fargo (1996)                                             2371\n",
       "braveheart (1995)                                        2314\n",
       "men in black (1997)                                      2297\n",
       "schindler's list (1993)                                  2257\n",
       "princess bride, the (1987)                               2252\n",
       "shakespeare in love (1998)                               2213\n",
       "l.a. confidential (1997)                                 2210\n",
       "shawshank redemption, the (1994)                         2194\n",
       "godfather, the (1972)                                    2167\n",
       "groundhog day (1993)                                     2121\n",
       "e.t. the extra-terrestrial (1982)                        2102\n",
       "being john malkovich (1999)                              2066\n",
       "ghostbusters (1984)                                      2051\n",
       "pulp fiction (1994)                                      2030\n",
       "forrest gump (1994)                                      2022\n",
       "terminator, the (1984)                                   2019\n",
       "toy story (1995)                                         2000\n",
       "fugitive, the (1993)                                     1941\n",
       "Name: user_id, dtype: int64"
      ]
     },
     "execution_count": 42,
     "metadata": {},
     "output_type": "execute_result"
    }
   ],
   "source": [
    "movie_count = total_ratings.groupby('title')['user_id'].count()\n",
    "movie_count.sort_values(ascending=False).head(30)"
   ]
  },
  {
   "cell_type": "markdown",
   "id": "91dc0a75",
   "metadata": {},
   "source": [
    "#### 유저별 몇 개의 영화를 보고 있는지에 대한 통계"
   ]
  },
  {
   "cell_type": "code",
   "execution_count": 43,
   "id": "6f21e0db",
   "metadata": {},
   "outputs": [
    {
     "data": {
      "text/plain": [
       "count    6039.000000\n",
       "mean      138.512668\n",
       "std       156.241599\n",
       "min         1.000000\n",
       "25%        38.000000\n",
       "50%        81.000000\n",
       "75%       177.000000\n",
       "max      1968.000000\n",
       "Name: title, dtype: float64"
      ]
     },
     "execution_count": 43,
     "metadata": {},
     "output_type": "execute_result"
    }
   ],
   "source": [
    "user_count = total_ratings.groupby('user_id')['title'].count()\n",
    "user_count.describe()"
   ]
  },
  {
   "cell_type": "markdown",
   "id": "1f0d06c7",
   "metadata": {},
   "source": [
    "#### 유저별 count 횟수, 중앙값에 대한 통계"
   ]
  },
  {
   "cell_type": "code",
   "execution_count": 44,
   "id": "e028a2e9",
   "metadata": {},
   "outputs": [
    {
     "data": {
      "text/plain": [
       "count    6039.000000\n",
       "mean        4.055970\n",
       "std         0.432143\n",
       "min         3.000000\n",
       "25%         4.000000\n",
       "50%         4.000000\n",
       "75%         4.000000\n",
       "max         5.000000\n",
       "Name: counts, dtype: float64"
      ]
     },
     "execution_count": 44,
     "metadata": {},
     "output_type": "execute_result"
    }
   ],
   "source": [
    "# 유저별 play횟수 중앙값에 대한 통계\n",
    "user_median = total_ratings.groupby('user_id')['counts'].median()\n",
    "user_median.describe()"
   ]
  },
  {
   "cell_type": "markdown",
   "id": "b7e9efd8",
   "metadata": {},
   "source": [
    "### 모델 검증을 위한 사용자 초기 정보 세팅"
   ]
  },
  {
   "cell_type": "markdown",
   "id": "cfced5ee",
   "metadata": {},
   "source": [
    "영화취향에 가장 유사한 영화 추천받기\n",
    "<br/>\n",
    "추천 시스템의 검증 과정을 위해 영화 데이터셋에 5개 데이터 추가"
   ]
  },
  {
   "cell_type": "code",
   "execution_count": 45,
   "id": "df618154",
   "metadata": {
    "scrolled": true
   },
   "outputs": [
    {
     "data": {
      "text/html": [
       "<div>\n",
       "<style scoped>\n",
       "    .dataframe tbody tr th:only-of-type {\n",
       "        vertical-align: middle;\n",
       "    }\n",
       "\n",
       "    .dataframe tbody tr th {\n",
       "        vertical-align: top;\n",
       "    }\n",
       "\n",
       "    .dataframe thead th {\n",
       "        text-align: right;\n",
       "    }\n",
       "</style>\n",
       "<table border=\"1\" class=\"dataframe\">\n",
       "  <thead>\n",
       "    <tr style=\"text-align: right;\">\n",
       "      <th></th>\n",
       "      <th>user_id</th>\n",
       "      <th>movie_id</th>\n",
       "      <th>counts</th>\n",
       "      <th>title</th>\n",
       "      <th>genre</th>\n",
       "    </tr>\n",
       "  </thead>\n",
       "  <tbody>\n",
       "    <tr>\n",
       "      <th>13595</th>\n",
       "      <td>1</td>\n",
       "      <td>2918</td>\n",
       "      <td>4</td>\n",
       "      <td>ferris bueller's day off (1986)</td>\n",
       "      <td>Comedy</td>\n",
       "    </tr>\n",
       "    <tr>\n",
       "      <th>13596</th>\n",
       "      <td>10</td>\n",
       "      <td>2918</td>\n",
       "      <td>5</td>\n",
       "      <td>ferris bueller's day off (1986)</td>\n",
       "      <td>Comedy</td>\n",
       "    </tr>\n",
       "    <tr>\n",
       "      <th>13597</th>\n",
       "      <td>11</td>\n",
       "      <td>2918</td>\n",
       "      <td>5</td>\n",
       "      <td>ferris bueller's day off (1986)</td>\n",
       "      <td>Comedy</td>\n",
       "    </tr>\n",
       "    <tr>\n",
       "      <th>13598</th>\n",
       "      <td>19</td>\n",
       "      <td>2918</td>\n",
       "      <td>4</td>\n",
       "      <td>ferris bueller's day off (1986)</td>\n",
       "      <td>Comedy</td>\n",
       "    </tr>\n",
       "    <tr>\n",
       "      <th>13599</th>\n",
       "      <td>22</td>\n",
       "      <td>2918</td>\n",
       "      <td>4</td>\n",
       "      <td>ferris bueller's day off (1986)</td>\n",
       "      <td>Comedy</td>\n",
       "    </tr>\n",
       "    <tr>\n",
       "      <th>...</th>\n",
       "      <td>...</td>\n",
       "      <td>...</td>\n",
       "      <td>...</td>\n",
       "      <td>...</td>\n",
       "      <td>...</td>\n",
       "    </tr>\n",
       "    <tr>\n",
       "      <th>836434</th>\n",
       "      <td>4682</td>\n",
       "      <td>1553</td>\n",
       "      <td>5</td>\n",
       "      <td>late bloomers (1996)</td>\n",
       "      <td>Comedy</td>\n",
       "    </tr>\n",
       "    <tr>\n",
       "      <th>836456</th>\n",
       "      <td>5153</td>\n",
       "      <td>3463</td>\n",
       "      <td>3</td>\n",
       "      <td>last resort (1994)</td>\n",
       "      <td>Comedy</td>\n",
       "    </tr>\n",
       "    <tr>\n",
       "      <th>836458</th>\n",
       "      <td>5220</td>\n",
       "      <td>2543</td>\n",
       "      <td>3</td>\n",
       "      <td>six ways to sunday (1997)</td>\n",
       "      <td>Comedy</td>\n",
       "    </tr>\n",
       "    <tr>\n",
       "      <th>836459</th>\n",
       "      <td>5754</td>\n",
       "      <td>2543</td>\n",
       "      <td>4</td>\n",
       "      <td>six ways to sunday (1997)</td>\n",
       "      <td>Comedy</td>\n",
       "    </tr>\n",
       "    <tr>\n",
       "      <th>836468</th>\n",
       "      <td>5494</td>\n",
       "      <td>3530</td>\n",
       "      <td>4</td>\n",
       "      <td>smoking/no smoking (1993)</td>\n",
       "      <td>Comedy</td>\n",
       "    </tr>\n",
       "  </tbody>\n",
       "</table>\n",
       "<p>94264 rows × 5 columns</p>\n",
       "</div>"
      ],
      "text/plain": [
       "        user_id  movie_id  counts                            title   genre\n",
       "13595         1      2918       4  ferris bueller's day off (1986)  Comedy\n",
       "13596        10      2918       5  ferris bueller's day off (1986)  Comedy\n",
       "13597        11      2918       5  ferris bueller's day off (1986)  Comedy\n",
       "13598        19      2918       4  ferris bueller's day off (1986)  Comedy\n",
       "13599        22      2918       4  ferris bueller's day off (1986)  Comedy\n",
       "...         ...       ...     ...                              ...     ...\n",
       "836434     4682      1553       5             late bloomers (1996)  Comedy\n",
       "836456     5153      3463       3               last resort (1994)  Comedy\n",
       "836458     5220      2543       3        six ways to sunday (1997)  Comedy\n",
       "836459     5754      2543       4        six ways to sunday (1997)  Comedy\n",
       "836468     5494      3530       4        smoking/no smoking (1993)  Comedy\n",
       "\n",
       "[94264 rows x 5 columns]"
      ]
     },
     "execution_count": 45,
     "metadata": {},
     "output_type": "execute_result"
    }
   ],
   "source": [
    "condition = total_ratings['genre']=='Comedy'\n",
    "total_ratings.loc[condition]"
   ]
  },
  {
   "cell_type": "markdown",
   "id": "8017b2df",
   "metadata": {},
   "source": [
    "먼저 user와 movie가 indexing 되어 있기 때문에 추가하는 데이터에도 indexing 한 상태로 넣기"
   ]
  },
  {
   "cell_type": "code",
   "execution_count": 46,
   "id": "6aea4d4d",
   "metadata": {},
   "outputs": [
    {
     "data": {
      "text/html": [
       "<div>\n",
       "<style scoped>\n",
       "    .dataframe tbody tr th:only-of-type {\n",
       "        vertical-align: middle;\n",
       "    }\n",
       "\n",
       "    .dataframe tbody tr th {\n",
       "        vertical-align: top;\n",
       "    }\n",
       "\n",
       "    .dataframe thead th {\n",
       "        text-align: right;\n",
       "    }\n",
       "</style>\n",
       "<table border=\"1\" class=\"dataframe\">\n",
       "  <thead>\n",
       "    <tr style=\"text-align: right;\">\n",
       "      <th></th>\n",
       "      <th>user_id</th>\n",
       "      <th>movie_id</th>\n",
       "      <th>counts</th>\n",
       "      <th>title</th>\n",
       "      <th>genre</th>\n",
       "    </tr>\n",
       "  </thead>\n",
       "  <tbody>\n",
       "    <tr>\n",
       "      <th>836473</th>\n",
       "      <td>5851</td>\n",
       "      <td>3607</td>\n",
       "      <td>5</td>\n",
       "      <td>one little indian (1973)</td>\n",
       "      <td>Comedy|Drama|Western</td>\n",
       "    </tr>\n",
       "    <tr>\n",
       "      <th>836474</th>\n",
       "      <td>5854</td>\n",
       "      <td>3026</td>\n",
       "      <td>4</td>\n",
       "      <td>slaughterhouse (1987)</td>\n",
       "      <td>Horror</td>\n",
       "    </tr>\n",
       "    <tr>\n",
       "      <th>836475</th>\n",
       "      <td>5854</td>\n",
       "      <td>690</td>\n",
       "      <td>3</td>\n",
       "      <td>promise, the (versprechen, das) (1994)</td>\n",
       "      <td>Romance</td>\n",
       "    </tr>\n",
       "    <tr>\n",
       "      <th>836476</th>\n",
       "      <td>5938</td>\n",
       "      <td>2909</td>\n",
       "      <td>4</td>\n",
       "      <td>five wives, three secretaries and me (1998)</td>\n",
       "      <td>Documentary</td>\n",
       "    </tr>\n",
       "    <tr>\n",
       "      <th>836477</th>\n",
       "      <td>5948</td>\n",
       "      <td>1360</td>\n",
       "      <td>5</td>\n",
       "      <td>identification of a woman (identificazione di ...</td>\n",
       "      <td>Drama</td>\n",
       "    </tr>\n",
       "    <tr>\n",
       "      <th>0</th>\n",
       "      <td>roh</td>\n",
       "      <td>2918</td>\n",
       "      <td>30</td>\n",
       "      <td>ferris bueller's day off (1986)</td>\n",
       "      <td>Comedy</td>\n",
       "    </tr>\n",
       "    <tr>\n",
       "      <th>1</th>\n",
       "      <td>roh</td>\n",
       "      <td>1553</td>\n",
       "      <td>30</td>\n",
       "      <td>late bloomers (1996)</td>\n",
       "      <td>Comedy</td>\n",
       "    </tr>\n",
       "    <tr>\n",
       "      <th>2</th>\n",
       "      <td>roh</td>\n",
       "      <td>3463</td>\n",
       "      <td>30</td>\n",
       "      <td>last resort (1994)</td>\n",
       "      <td>Comedy</td>\n",
       "    </tr>\n",
       "    <tr>\n",
       "      <th>3</th>\n",
       "      <td>roh</td>\n",
       "      <td>2543</td>\n",
       "      <td>30</td>\n",
       "      <td>six ways to sunday (1997)</td>\n",
       "      <td>Comedy</td>\n",
       "    </tr>\n",
       "    <tr>\n",
       "      <th>4</th>\n",
       "      <td>roh</td>\n",
       "      <td>3530</td>\n",
       "      <td>30</td>\n",
       "      <td>smoking/no smoking (1993)</td>\n",
       "      <td>Comedy</td>\n",
       "    </tr>\n",
       "  </tbody>\n",
       "</table>\n",
       "</div>"
      ],
      "text/plain": [
       "       user_id  movie_id  counts  \\\n",
       "836473    5851      3607       5   \n",
       "836474    5854      3026       4   \n",
       "836475    5854       690       3   \n",
       "836476    5938      2909       4   \n",
       "836477    5948      1360       5   \n",
       "0          roh      2918      30   \n",
       "1          roh      1553      30   \n",
       "2          roh      3463      30   \n",
       "3          roh      2543      30   \n",
       "4          roh      3530      30   \n",
       "\n",
       "                                                    title  \\\n",
       "836473                           one little indian (1973)   \n",
       "836474                              slaughterhouse (1987)   \n",
       "836475             promise, the (versprechen, das) (1994)   \n",
       "836476        five wives, three secretaries and me (1998)   \n",
       "836477  identification of a woman (identificazione di ...   \n",
       "0                         ferris bueller's day off (1986)   \n",
       "1                                    late bloomers (1996)   \n",
       "2                                      last resort (1994)   \n",
       "3                               six ways to sunday (1997)   \n",
       "4                               smoking/no smoking (1993)   \n",
       "\n",
       "                       genre  \n",
       "836473  Comedy|Drama|Western  \n",
       "836474                Horror  \n",
       "836475               Romance  \n",
       "836476           Documentary  \n",
       "836477                 Drama  \n",
       "0                     Comedy  \n",
       "1                     Comedy  \n",
       "2                     Comedy  \n",
       "3                     Comedy  \n",
       "4                     Comedy  "
      ]
     },
     "execution_count": 46,
     "metadata": {},
     "output_type": "execute_result"
    }
   ],
   "source": [
    "my_favorite = ['ferris bueller\\'s day off (1986)' , 'late bloomers (1996)' ,'last resort (1994)' ,'six ways to sunday (1997)' ,'smoking/no smoking (1993)']\n",
    "num_movie = [2918,1553,3463,2543,3530]\n",
    "\n",
    "my_playlist = pd.DataFrame({'user_id': ['roh']*5,'movie_id': num_movie,'counts':[30]*5, 'title': my_favorite, 'genre':['Comedy']*5})\n",
    "\n",
    "if not total_ratings.isin({'user_id':['roh']})['user_id'].any():  # user_id에 'zimin'이라는 데이터가 없다면\n",
    "    total_ratings = total_ratings.append(my_playlist)                           # 위에 임의로 만든 my_favorite 데이터를 추가해 줍니다. \n",
    "\n",
    "total_ratings.tail(10)       # 잘 추가되었는지 확인해 봅시다."
   ]
  },
  {
   "cell_type": "code",
   "execution_count": 47,
   "id": "5889fcfa",
   "metadata": {},
   "outputs": [
    {
     "data": {
      "text/plain": [
       "(6040, 3628)"
      ]
     },
     "execution_count": 47,
     "metadata": {},
     "output_type": "execute_result"
    }
   ],
   "source": [
    "user_unique = total_ratings['user_id'].unique()\n",
    "title_unique = total_ratings['title'].unique()\n",
    "len(user_unique), len(title_unique)"
   ]
  },
  {
   "cell_type": "code",
   "execution_count": 48,
   "id": "fd255d51",
   "metadata": {},
   "outputs": [
    {
     "name": "stdout",
     "output_type": "stream",
     "text": [
      "6039\n",
      "3610\n"
     ]
    }
   ],
   "source": [
    "# 고유한 유저, 아티스트를 찾아내는 코드\n",
    "user_unique = total_ratings['user_id'].unique()\n",
    "title_unique = total_ratings['title'].unique()\n",
    "\n",
    "# 유저, 아티스트 indexing 하는 코드 idx는 index의 약자입니다.\n",
    "user_to_idx = {v:k for k,v in enumerate(user_unique)}\n",
    "title_to_idx = {v:k for k,v in enumerate(title_unique)}\n",
    "\n",
    "# 인덱싱이 잘 되었는지 확인해 봅니다. \n",
    "print(user_to_idx['roh'])    \n",
    "print(title_to_idx['six ways to sunday (1997)'])\n"
   ]
  },
  {
   "cell_type": "code",
   "execution_count": 49,
   "id": "ef222203",
   "metadata": {},
   "outputs": [
    {
     "name": "stdout",
     "output_type": "stream",
     "text": [
      "user_id column indexing OK!!\n"
     ]
    }
   ],
   "source": [
    "temp_user_data = total_ratings['user_id'].map(user_to_idx.get).dropna()\n",
    "if len(temp_user_data) == len(total_ratings):   # 모든 row가 정상적으로 인덱싱되었다면\n",
    "    print('user_id column indexing OK!!')\n",
    "    total_ratings['user_id'] = temp_user_data   # data['user_id']을 인덱싱된 Series로 교체해 줍니다. \n",
    "else:\n",
    "    print('user_id column indexing Fail!!')"
   ]
  },
  {
   "cell_type": "code",
   "execution_count": 50,
   "id": "7f50a630",
   "metadata": {},
   "outputs": [
    {
     "name": "stdout",
     "output_type": "stream",
     "text": [
      "artist column indexing OK!!\n"
     ]
    }
   ],
   "source": [
    "temp_title_data = total_ratings['title'].map(title_to_idx.get).dropna()\n",
    "if len(temp_title_data) == len(total_ratings):\n",
    "    print('artist column indexing OK!!')\n",
    "    total_ratings['title'] = temp_title_data\n",
    "else:\n",
    "    print('artist column indexing Fail!!')"
   ]
  },
  {
   "cell_type": "code",
   "execution_count": 51,
   "id": "6e3a66b5",
   "metadata": {},
   "outputs": [
    {
     "data": {
      "text/html": [
       "<div>\n",
       "<style scoped>\n",
       "    .dataframe tbody tr th:only-of-type {\n",
       "        vertical-align: middle;\n",
       "    }\n",
       "\n",
       "    .dataframe tbody tr th {\n",
       "        vertical-align: top;\n",
       "    }\n",
       "\n",
       "    .dataframe thead th {\n",
       "        text-align: right;\n",
       "    }\n",
       "</style>\n",
       "<table border=\"1\" class=\"dataframe\">\n",
       "  <thead>\n",
       "    <tr style=\"text-align: right;\">\n",
       "      <th></th>\n",
       "      <th>user_id</th>\n",
       "      <th>movie_id</th>\n",
       "      <th>counts</th>\n",
       "      <th>title</th>\n",
       "      <th>genre</th>\n",
       "    </tr>\n",
       "  </thead>\n",
       "  <tbody>\n",
       "    <tr>\n",
       "      <th>0</th>\n",
       "      <td>0</td>\n",
       "      <td>1193</td>\n",
       "      <td>5</td>\n",
       "      <td>0</td>\n",
       "      <td>Drama</td>\n",
       "    </tr>\n",
       "    <tr>\n",
       "      <th>1</th>\n",
       "      <td>1</td>\n",
       "      <td>1193</td>\n",
       "      <td>5</td>\n",
       "      <td>0</td>\n",
       "      <td>Drama</td>\n",
       "    </tr>\n",
       "    <tr>\n",
       "      <th>2</th>\n",
       "      <td>2</td>\n",
       "      <td>1193</td>\n",
       "      <td>4</td>\n",
       "      <td>0</td>\n",
       "      <td>Drama</td>\n",
       "    </tr>\n",
       "    <tr>\n",
       "      <th>3</th>\n",
       "      <td>3</td>\n",
       "      <td>1193</td>\n",
       "      <td>4</td>\n",
       "      <td>0</td>\n",
       "      <td>Drama</td>\n",
       "    </tr>\n",
       "    <tr>\n",
       "      <th>4</th>\n",
       "      <td>4</td>\n",
       "      <td>1193</td>\n",
       "      <td>5</td>\n",
       "      <td>0</td>\n",
       "      <td>Drama</td>\n",
       "    </tr>\n",
       "  </tbody>\n",
       "</table>\n",
       "</div>"
      ],
      "text/plain": [
       "   user_id  movie_id  counts  title  genre\n",
       "0        0      1193       5      0  Drama\n",
       "1        1      1193       5      0  Drama\n",
       "2        2      1193       4      0  Drama\n",
       "3        3      1193       4      0  Drama\n",
       "4        4      1193       5      0  Drama"
      ]
     },
     "execution_count": 51,
     "metadata": {},
     "output_type": "execute_result"
    }
   ],
   "source": [
    "total_ratings.head()"
   ]
  },
  {
   "cell_type": "markdown",
   "id": "e1649cb4",
   "metadata": {},
   "source": [
    "### CSR  Matrix 구성하기"
   ]
  },
  {
   "cell_type": "markdown",
   "id": "d89333ab",
   "metadata": {},
   "source": [
    "MF 구성할 Matrix는 데이터 용량이 크기 때문에 CSR(Compressed Sparse Row)Matrix를 사용해야 함\n",
    "0이 아닌 유효한 데이터로 채워진 데이터의 값과 좌표 정보만으로 구성하여 메모리 사용량을 최소화하여 Sparse한 matrix와 동일한 행렬을 표현할 수 있도록 하는 데이터 구조이다"
   ]
  },
  {
   "cell_type": "code",
   "execution_count": 52,
   "id": "fa7d8b04",
   "metadata": {},
   "outputs": [
    {
     "data": {
      "text/plain": [
       "<6040x3628 sparse matrix of type '<class 'numpy.int64'>'\n",
       "\twith 836483 stored elements in Compressed Sparse Row format>"
      ]
     },
     "execution_count": 52,
     "metadata": {},
     "output_type": "execute_result"
    }
   ],
   "source": [
    "# 실습 위에 설명보고 이해해서 만들어보기\n",
    "from scipy.sparse import csr_matrix\n",
    "\n",
    "num_user = total_ratings['user_id'].nunique()\n",
    "num_title = total_ratings['title'].nunique()\n",
    "\n",
    "csr_data = csr_matrix((total_ratings.counts, (total_ratings.user_id, total_ratings.title)), shape= (num_user, num_title))\n",
    "csr_data"
   ]
  },
  {
   "cell_type": "markdown",
   "id": "d23d6a98",
   "metadata": {},
   "source": [
    "### MF 모델 학습하기"
   ]
  },
  {
   "cell_type": "markdown",
   "id": "ddd870b2",
   "metadata": {},
   "source": [
    "Matrix Factorization(MF)는 2006년 Netflix에서 백만 달러의 상금을 걸고 개최한 자사 추천 시스템의 성능을 10%이상 향상시키는 챌린지를 계기로 알려짐\n",
    "\n",
    "MF를 사용하면 계산량 측면에서 작아지기 때문에 유리하게 사용할 수 있음\n",
    "MF모델을 잘 활용하기 위해서는 k-dimension 벡터를 잘 만들어야함"
   ]
  },
  {
   "cell_type": "code",
   "execution_count": 53,
   "id": "b524b9e9",
   "metadata": {},
   "outputs": [],
   "source": [
    "from implicit.als import AlternatingLeastSquares\n",
    "import os\n",
    "import numpy as np\n",
    "\n",
    "# implicit 라이브러리에서 권장하고 있는 부분입니다. 학습 내용과는 무관합니다.\n",
    "os.environ['OPENBLAS_NUM_THREADS']='1'\n",
    "os.environ['KMP_DUPLICATE_LIB_OK']='True'\n",
    "os.environ['MKL_NUM_THREADS']='1'"
   ]
  },
  {
   "cell_type": "markdown",
   "id": "972e0488",
   "metadata": {},
   "source": [
    "#### AlternatingLeastSquares 클래스 파라미터\n",
    "1.factors: 유저와 아이템의 벡터를 몇차원으로 할 것인지\n",
    "2.regularization: 과적합 방지하기 위해 정규화 값을 얼마나 사용할 것인지\n",
    "3.use_gpu: GPU 사용 여부\n",
    "4.iterations: epoch와 같은 의미, 데이터를 몇 번 반복해서 학습할 것인지"
   ]
  },
  {
   "cell_type": "code",
   "execution_count": 54,
   "id": "89256920",
   "metadata": {},
   "outputs": [],
   "source": [
    "# Implicit AlternatingLeastSquares 모델의 선언\n",
    "als_model = AlternatingLeastSquares(factors=100, regularization=0.01, use_gpu=False, iterations=15, dtype=np.float32)"
   ]
  },
  {
   "cell_type": "code",
   "execution_count": 55,
   "id": "8c79529e",
   "metadata": {},
   "outputs": [
    {
     "data": {
      "text/plain": [
       "<3628x6040 sparse matrix of type '<class 'numpy.int64'>'\n",
       "\twith 836483 stored elements in Compressed Sparse Column format>"
      ]
     },
     "execution_count": 55,
     "metadata": {},
     "output_type": "execute_result"
    }
   ],
   "source": [
    "# als 모델은 input으로 (item X user 꼴의 matrix를 받기 때문에 Transpose해줍니다.)\n",
    "csr_data_transpose = csr_data.T\n",
    "csr_data_transpose"
   ]
  },
  {
   "cell_type": "code",
   "execution_count": 56,
   "id": "a0920aed",
   "metadata": {},
   "outputs": [
    {
     "data": {
      "application/vnd.jupyter.widget-view+json": {
       "model_id": "6adeca54bb7d44429966c174bf4b83d6",
       "version_major": 2,
       "version_minor": 0
      },
      "text/plain": [
       "  0%|          | 0/15 [00:00<?, ?it/s]"
      ]
     },
     "metadata": {},
     "output_type": "display_data"
    }
   ],
   "source": [
    "# 모델 훈련\n",
    "als_model.fit(csr_data_transpose)"
   ]
  },
  {
   "cell_type": "markdown",
   "id": "764a3aea",
   "metadata": {},
   "source": [
    "### 모델 살펴보기"
   ]
  },
  {
   "cell_type": "code",
   "execution_count": 57,
   "id": "5f4f5285",
   "metadata": {},
   "outputs": [],
   "source": [
    "roh, movie_title = user_to_idx['roh'], title_to_idx['six ways to sunday (1997)']\n",
    "roh_vector, movie_title_vector = als_model.user_factors[roh], als_model.item_factors[movie_title]\n"
   ]
  },
  {
   "cell_type": "code",
   "execution_count": 58,
   "id": "57e641fe",
   "metadata": {},
   "outputs": [
    {
     "data": {
      "text/plain": [
       "array([ 0.637978  ,  1.538698  ,  0.48989117,  1.2720003 , -0.28494057,\n",
       "        0.46258035, -1.2148305 , -0.8196665 ,  0.80657756, -0.27188414,\n",
       "       -0.5624769 , -0.2583892 , -0.3535015 ,  1.7671833 ,  1.5985724 ,\n",
       "       -0.6278137 ,  0.04743255, -2.0732603 , -0.6203377 , -2.2638304 ,\n",
       "       -0.39848846, -0.02172546, -1.1970067 , -0.897765  ,  0.5531652 ,\n",
       "       -2.0401187 ,  0.3341664 ,  0.44429353,  0.2247762 , -1.1541004 ,\n",
       "        0.7462985 ,  0.30965808, -0.7655701 ,  0.03766444, -1.6252129 ,\n",
       "        0.5450593 ,  1.3501819 ,  2.0552192 ,  1.4108185 , -0.54735446,\n",
       "       -0.41511577,  1.0552684 ,  0.81093466,  1.1178138 , -0.5644372 ,\n",
       "        0.5383323 , -1.3659719 , -0.28432584, -0.7611608 ,  0.0904796 ,\n",
       "       -0.41330108,  2.5562336 ,  0.09529188, -2.206531  , -1.3662543 ,\n",
       "        0.9191601 ,  1.4747384 , -2.2223039 ,  0.5698864 ,  1.1481421 ,\n",
       "        1.8242494 , -1.9541315 ,  0.14727193, -0.07644784,  0.69517505,\n",
       "       -3.1798077 ,  0.987735  , -1.9628063 ,  0.89469993, -0.16764103,\n",
       "       -1.1370068 , -0.42889225, -1.7756368 , -2.0171769 ,  1.1491499 ,\n",
       "       -0.52937424, -1.084007  ,  0.41182613,  1.2774445 ,  0.09903713,\n",
       "       -1.5065103 ,  2.5148516 , -0.04512049,  0.447004  ,  0.3731877 ,\n",
       "        0.6654195 ,  1.0083435 ,  1.4438787 ,  1.1106784 ,  0.32346627,\n",
       "        1.3786023 ,  0.6441976 , -1.1577756 , -0.76709527, -1.5512964 ,\n",
       "        1.5743312 ,  1.8254851 , -1.5187554 ,  0.5289706 ,  0.79646695],\n",
       "      dtype=float32)"
      ]
     },
     "execution_count": 58,
     "metadata": {},
     "output_type": "execute_result"
    }
   ],
   "source": [
    "roh_vector"
   ]
  },
  {
   "cell_type": "code",
   "execution_count": 59,
   "id": "b53dfbab",
   "metadata": {},
   "outputs": [
    {
     "data": {
      "text/plain": [
       "array([ 2.16296385e-03,  3.97697184e-03,  1.75926008e-03,  5.20625385e-03,\n",
       "        8.28828837e-04,  2.10906076e-03, -2.27948325e-03,  8.11821301e-05,\n",
       "        4.13657026e-03,  9.18210484e-04,  2.54191388e-03,  2.48484430e-04,\n",
       "       -1.63333584e-03,  4.91930405e-03,  4.10198700e-03, -4.44639554e-05,\n",
       "        1.18850311e-03, -3.77071812e-03, -1.23027083e-03, -5.22453757e-03,\n",
       "       -2.86656490e-04,  7.17659132e-04, -1.98246678e-03, -6.00316620e-04,\n",
       "        2.92027090e-03, -4.22684709e-03,  2.89846654e-03,  7.70666928e-04,\n",
       "        2.43349234e-03, -1.54429767e-03,  2.76626810e-03,  2.02026591e-03,\n",
       "       -1.47115008e-03,  1.17072533e-03, -2.25076592e-03,  2.22907239e-03,\n",
       "        5.29144146e-03,  4.99770418e-03,  3.27173900e-03,  1.20698905e-03,\n",
       "        4.05017017e-05,  4.73544281e-03,  7.71288120e-04,  2.37052306e-03,\n",
       "       -6.65286847e-04,  2.82909488e-03, -1.71464577e-03,  2.75079021e-03,\n",
       "       -6.26941444e-04,  1.68297114e-03,  7.19239237e-04,  6.39738422e-03,\n",
       "        2.62712711e-03, -2.52257660e-03, -3.73297487e-03,  3.13237426e-03,\n",
       "        4.95444518e-03, -3.26979067e-03,  2.67072697e-03,  3.97721073e-03,\n",
       "        6.87694363e-03, -3.48340091e-03,  1.23482780e-04, -3.64625012e-04,\n",
       "        2.47431709e-03, -5.92375174e-03,  4.97669494e-03, -3.38336919e-03,\n",
       "        5.86842652e-03,  3.33173266e-05,  8.96087295e-05,  1.00747030e-03,\n",
       "       -2.98586884e-03, -3.73640866e-03,  4.57935734e-03, -1.16535775e-04,\n",
       "       -1.40802015e-03,  4.13627969e-03,  3.09379306e-03,  2.87603633e-03,\n",
       "       -3.33127729e-03,  8.25510174e-03,  1.02527556e-03,  1.56951440e-03,\n",
       "        4.05165227e-03,  2.31300737e-03,  3.93029582e-03,  4.54711635e-03,\n",
       "        4.63757804e-03,  4.02429886e-03,  3.42737301e-03,  2.40069232e-03,\n",
       "        5.33475948e-04, -2.67269992e-04, -9.35944612e-04,  2.81428057e-03,\n",
       "        6.02283329e-03,  8.96309211e-04,  1.22837024e-03,  3.23730870e-03],\n",
       "      dtype=float32)"
      ]
     },
     "execution_count": 59,
     "metadata": {},
     "output_type": "execute_result"
    }
   ],
   "source": [
    "movie_title_vector"
   ]
  },
  {
   "cell_type": "code",
   "execution_count": 60,
   "id": "113f415d",
   "metadata": {},
   "outputs": [
    {
     "data": {
      "text/plain": [
       "0.31911105"
      ]
     },
     "execution_count": 60,
     "metadata": {},
     "output_type": "execute_result"
    }
   ],
   "source": [
    "np.dot(roh_vector, movie_title_vector)"
   ]
  },
  {
   "cell_type": "markdown",
   "id": "8ec06248",
   "metadata": {},
   "source": [
    "### 모델 튜닝하기"
   ]
  },
  {
   "cell_type": "code",
   "execution_count": 94,
   "id": "7584d17f",
   "metadata": {},
   "outputs": [],
   "source": [
    "# Implicit AlternatingLeastSquares 모델의 선언\n",
    "als_model = AlternatingLeastSquares(factors=600, regularization=0.01, use_gpu=False, iterations=40, dtype=np.float32)"
   ]
  },
  {
   "cell_type": "code",
   "execution_count": 95,
   "id": "50959f05",
   "metadata": {},
   "outputs": [
    {
     "data": {
      "application/vnd.jupyter.widget-view+json": {
       "model_id": "f9af746b751f4ad4968099e20fc09164",
       "version_major": 2,
       "version_minor": 0
      },
      "text/plain": [
       "  0%|          | 0/40 [00:00<?, ?it/s]"
      ]
     },
     "metadata": {},
     "output_type": "display_data"
    }
   ],
   "source": [
    "als_model.fit(csr_data_transpose)"
   ]
  },
  {
   "cell_type": "code",
   "execution_count": 96,
   "id": "9b835a0d",
   "metadata": {},
   "outputs": [],
   "source": [
    "roh, movie_title = user_to_idx['roh'], title_to_idx['six ways to sunday (1997)']\n",
    "roh_vector, movie_title_vector = als_model.user_factors[roh], als_model.item_factors[movie_title]\n"
   ]
  },
  {
   "cell_type": "code",
   "execution_count": 97,
   "id": "9726bc5b",
   "metadata": {},
   "outputs": [
    {
     "data": {
      "text/plain": [
       "0.66589403"
      ]
     },
     "execution_count": 97,
     "metadata": {},
     "output_type": "execute_result"
    }
   ],
   "source": [
    "np.dot(roh_vector, movie_title_vector)"
   ]
  },
  {
   "cell_type": "markdown",
   "id": "1b657118",
   "metadata": {},
   "source": [
    "### 비슷한 영화 추천"
   ]
  },
  {
   "cell_type": "code",
   "execution_count": 98,
   "id": "a62ee767",
   "metadata": {},
   "outputs": [
    {
     "data": {
      "text/plain": [
       "[(3623, 0.99999994),\n",
       " (3615, 0.9841705),\n",
       " (3589, 0.9840317),\n",
       " (3570, 0.98358446),\n",
       " (3531, 0.9834634),\n",
       " (3035, 0.9832815),\n",
       " (3088, 0.98280513),\n",
       " (3591, 0.9826865),\n",
       " (3499, 0.9825699),\n",
       " (3534, 0.9825359),\n",
       " (3480, 0.9824147),\n",
       " (3549, 0.98233783),\n",
       " (3519, 0.98219585),\n",
       " (3616, 0.9819024),\n",
       " (3156, 0.9816402)]"
      ]
     },
     "execution_count": 98,
     "metadata": {},
     "output_type": "execute_result"
    }
   ],
   "source": [
    "favorite_movie = 'one little indian (1973)'\n",
    "movie_id = title_to_idx[favorite_movie]\n",
    "similar_movie = als_model.similar_items(movie_id, N=15)\n",
    "similar_movie"
   ]
  },
  {
   "cell_type": "markdown",
   "id": "358bab68",
   "metadata": {},
   "source": [
    "movie_id, 유사도를 tuple로 반환해줌"
   ]
  },
  {
   "cell_type": "code",
   "execution_count": 99,
   "id": "7fe9a258",
   "metadata": {},
   "outputs": [
    {
     "data": {
      "text/plain": [
       "['one little indian (1973)',\n",
       " 'chain of fools (2000)',\n",
       " 'soft toilet seats (1999)',\n",
       " 'loser (1991)',\n",
       " 'aiqing wansui (1994)',\n",
       " 'for ever mozart (1996)',\n",
       " 'open season (1996)',\n",
       " \"heaven's burning (1997)\",\n",
       " 'simon sez (1999)',\n",
       " 'project moon base (1953)',\n",
       " 'back stage (2000)',\n",
       " 'make them die slowly (cannibal ferox) (1980)',\n",
       " '1-900 (1994)',\n",
       " 'song of freedom (1936)',\n",
       " 'running free (2000)']"
      ]
     },
     "execution_count": 99,
     "metadata": {},
     "output_type": "execute_result"
    }
   ],
   "source": [
    "#artist_to_idx 를 뒤집어, index로부터 artist 이름을 얻는 dict를 생성합니다. \n",
    "idx_to_title = {v:k for k,v in title_to_idx.items()}\n",
    "[idx_to_title[i[0]] for i in similar_movie]"
   ]
  },
  {
   "cell_type": "code",
   "execution_count": 100,
   "id": "6373e21a",
   "metadata": {},
   "outputs": [],
   "source": [
    "def get_similar_artist(movie_name: str):\n",
    "    movie_id = title_to_idx[movie_name]\n",
    "    similar_movie = als_model.similar_items(movie_id)\n",
    "    similar_movie = [idx_to_title[i[0]] for i in similar_movie]\n",
    "    return similar_movie"
   ]
  },
  {
   "cell_type": "code",
   "execution_count": 101,
   "id": "5098e582",
   "metadata": {},
   "outputs": [
    {
     "data": {
      "text/plain": [
       "['one little indian (1973)',\n",
       " 'chain of fools (2000)',\n",
       " 'soft toilet seats (1999)',\n",
       " 'loser (1991)',\n",
       " 'aiqing wansui (1994)',\n",
       " 'for ever mozart (1996)',\n",
       " 'open season (1996)',\n",
       " \"heaven's burning (1997)\",\n",
       " 'simon sez (1999)',\n",
       " 'project moon base (1953)']"
      ]
     },
     "execution_count": 101,
     "metadata": {},
     "output_type": "execute_result"
    }
   ],
   "source": [
    "get_similar_artist('one little indian (1973)')"
   ]
  },
  {
   "cell_type": "markdown",
   "id": "58dfe8bd",
   "metadata": {},
   "source": [
    "### 유저에게 영화 추천"
   ]
  },
  {
   "cell_type": "code",
   "execution_count": 102,
   "id": "61619c51",
   "metadata": {},
   "outputs": [
    {
     "data": {
      "text/plain": [
       "[(844, 0.32379565),\n",
       " (406, 0.31589237),\n",
       " (379, 0.30740076),\n",
       " (811, 0.30351073),\n",
       " (652, 0.2958883),\n",
       " (433, 0.2889169),\n",
       " (212, 0.28206095),\n",
       " (314, 0.27177447),\n",
       " (870, 0.27110216),\n",
       " (765, 0.26441363),\n",
       " (1896, 0.26366538),\n",
       " (1194, 0.25878266),\n",
       " (2292, 0.25449526),\n",
       " (1147, 0.25253457),\n",
       " (271, 0.25237858),\n",
       " (312, 0.24820688),\n",
       " (999, 0.24546823),\n",
       " (326, 0.24234027),\n",
       " (1681, 0.24170601),\n",
       " (479, 0.24055487)]"
      ]
     },
     "execution_count": 102,
     "metadata": {},
     "output_type": "execute_result"
    }
   ],
   "source": [
    "user = user_to_idx['roh']\n",
    "# recommend에서는 user*item CSR Matrix를 받습니다.\n",
    "movie_recommended = als_model.recommend(user, csr_data, N=20, filter_already_liked_items=True)\n",
    "movie_recommended"
   ]
  },
  {
   "cell_type": "code",
   "execution_count": 103,
   "id": "25fb4299",
   "metadata": {},
   "outputs": [
    {
     "data": {
      "text/plain": [
       "['rainmaker, the (1997)',\n",
       " 'people vs. larry flynt, the (1996)',\n",
       " 'patriot games (1992)',\n",
       " 'thomas crown affair, the (1999)',\n",
       " 'gremlins (1984)',\n",
       " 'far and away (1992)',\n",
       " 'bowfinger (1999)',\n",
       " 'much ado about nothing (1993)',\n",
       " 'big sleep, the (1946)',\n",
       " 'ladyhawke (1985)',\n",
       " '...and justice for all (1979)',\n",
       " 'fatal attraction (1987)',\n",
       " \"astronaut's wife, the (1999)\",\n",
       " 'sixteen candles (1984)',\n",
       " 'election (1999)',\n",
       " 'glengarry glen ross (1992)',\n",
       " 'evil dead ii (dead by dawn) (1987)',\n",
       " 'top gun (1986)',\n",
       " 're-animator (1985)',\n",
       " 'contact (1997)']"
      ]
     },
     "execution_count": 103,
     "metadata": {},
     "output_type": "execute_result"
    }
   ],
   "source": [
    "[idx_to_title[i[0]] for i in movie_recommended]"
   ]
  },
  {
   "cell_type": "code",
   "execution_count": 104,
   "id": "d8522041",
   "metadata": {},
   "outputs": [],
   "source": [
    "title = title_to_idx['one little indian (1973)']\n",
    "explain = als_model.explain(user, csr_data, itemid=title)"
   ]
  },
  {
   "cell_type": "code",
   "execution_count": 105,
   "id": "d3cdf86a",
   "metadata": {},
   "outputs": [
    {
     "data": {
      "text/plain": [
       "[('smoking/no smoking (1993)', 0.022692686368903998),\n",
       " ('last resort (1994)', 0.02242019928931769),\n",
       " ('late bloomers (1996)', 0.021332569441007792),\n",
       " ('six ways to sunday (1997)', 0.017784290852950187),\n",
       " (\"ferris bueller's day off (1986)\", -0.00461177649460942)]"
      ]
     },
     "execution_count": 105,
     "metadata": {},
     "output_type": "execute_result"
    }
   ],
   "source": [
    "[(idx_to_title[i[0]], i[1]) for i in explain[1]]"
   ]
  },
  {
   "cell_type": "markdown",
   "id": "86811d0a",
   "metadata": {},
   "source": [
    "#### 회고"
   ]
  },
  {
   "cell_type": "markdown",
   "id": "8d1683e1",
   "metadata": {},
   "source": [
    "Movielens 데이터에는 user와 movie가 각 indexing 되어 있다는 정보를 보고 그대로 사용해도 된다고 판단하여 필요없는 데이터를 제거한 후 CRS Matrix를 구성하였다.\n",
    "<br/>\n",
    "하지만 데이터의 크기가 맞지 않아 row index exceed 오류가 생성되어 데이터 구성하는 부분에서 힘들었다...\n",
    "<br/>\n",
    "그래서 처음부터 다시 데이터 구성 파악, 필요한 데이터만 저장하여 CRS Matrix를 구성할 수 있었다.\n",
    "<br/>\n",
    "또한, AlternatingLeastSquares을 사용하여 학습할 때 factors iterationsf를 다시 설정하여 recommend 시스템을 구성하여 학습한 결과 처음에는 0.3에서 0.6까지 성능을 높일 수 있었다."
   ]
  },
  {
   "cell_type": "code",
   "execution_count": null,
   "id": "d312ac0f",
   "metadata": {},
   "outputs": [],
   "source": []
  }
 ],
 "metadata": {
  "kernelspec": {
   "display_name": "Python 3 (ipykernel)",
   "language": "python",
   "name": "python3"
  },
  "language_info": {
   "codemirror_mode": {
    "name": "ipython",
    "version": 3
   },
   "file_extension": ".py",
   "mimetype": "text/x-python",
   "name": "python",
   "nbconvert_exporter": "python",
   "pygments_lexer": "ipython3",
   "version": "3.9.7"
  }
 },
 "nbformat": 4,
 "nbformat_minor": 5
}

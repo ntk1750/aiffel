{
 "cells": [
  {
   "cell_type": "markdown",
   "id": "f4a5d39e",
   "metadata": {},
   "source": [
    "### 데이터 수집하기"
   ]
  },
  {
   "cell_type": "markdown",
   "id": "89bcffe9",
   "metadata": {},
   "source": [
    "NLTK는 Natural Language Toolkit의 축약어로 영어 기호, 통계, 자연어 처리를 위한 라이브러리\n",
    "<br/>\n",
    "조사 접미사와 같은 문장에 자주 등장하지만 의미를 분석하고 요약하는데 거의 의미가 없는 100여개의 불용어는 정리되어 있음"
   ]
  },
  {
   "cell_type": "code",
   "execution_count": 1,
   "id": "49ecd373",
   "metadata": {},
   "outputs": [
    {
     "name": "stderr",
     "output_type": "stream",
     "text": [
      "[nltk_data] Downloading package stopwords to /aiffel/nltk_data...\n",
      "[nltk_data]   Package stopwords is already up-to-date!\n"
     ]
    }
   ],
   "source": [
    "#NLTK 패키지에서 불용어 사전 다운로드\n",
    "import nltk\n",
    "nltk.download('stopwords')\n",
    "\n",
    "import numpy as np\n",
    "import pandas as pd\n",
    "import os\n",
    "import re\n",
    "import matplotlib.pyplot as plt\n",
    "from nltk.corpus import stopwords\n",
    "from bs4 import BeautifulSoup \n",
    "from tensorflow.keras.preprocessing.text import Tokenizer \n",
    "from tensorflow.keras.preprocessing.sequence import pad_sequences\n",
    "import urllib.request\n",
    "import warnings\n",
    "warnings.filterwarnings(\"ignore\", category=UserWarning, module='bs4')\n"
   ]
  },
  {
   "cell_type": "code",
   "execution_count": 2,
   "id": "0facb151",
   "metadata": {},
   "outputs": [],
   "source": [
    "from tqdm import tqdm # 진행되는 %를 시각적으로 확인하고자 할때 사용\n",
    "import time"
   ]
  },
  {
   "cell_type": "code",
   "execution_count": 3,
   "id": "462b7078",
   "metadata": {},
   "outputs": [],
   "source": [
    "import urllib.request\n",
    "\n",
    "urllib.request.urlretrieve(\"https://raw.githubusercontent.com/sunnysai12345/News_Summary/master/news_summary_more.csv\", filename=\"news_summary_more.csv\")\n",
    "data = pd.read_csv('news_summary_more.csv', encoding='iso-8859-1')"
   ]
  },
  {
   "cell_type": "code",
   "execution_count": 4,
   "id": "d588fe40",
   "metadata": {},
   "outputs": [
    {
     "data": {
      "text/html": [
       "<div>\n",
       "<style scoped>\n",
       "    .dataframe tbody tr th:only-of-type {\n",
       "        vertical-align: middle;\n",
       "    }\n",
       "\n",
       "    .dataframe tbody tr th {\n",
       "        vertical-align: top;\n",
       "    }\n",
       "\n",
       "    .dataframe thead th {\n",
       "        text-align: right;\n",
       "    }\n",
       "</style>\n",
       "<table border=\"1\" class=\"dataframe\">\n",
       "  <thead>\n",
       "    <tr style=\"text-align: right;\">\n",
       "      <th></th>\n",
       "      <th>headlines</th>\n",
       "      <th>text</th>\n",
       "    </tr>\n",
       "  </thead>\n",
       "  <tbody>\n",
       "    <tr>\n",
       "      <th>79363</th>\n",
       "      <td>Maha issues draft rules to regularise illegal ...</td>\n",
       "      <td>The Maharashtra government on Friday issued dr...</td>\n",
       "    </tr>\n",
       "    <tr>\n",
       "      <th>79892</th>\n",
       "      <td>Jagga Jasoos actress Bidisha found dead in her...</td>\n",
       "      <td>Actress and singer Bidisha Bezbaruah, who was ...</td>\n",
       "    </tr>\n",
       "    <tr>\n",
       "      <th>89620</th>\n",
       "      <td>Israel mulls kicking out UN from Jerusalem</td>\n",
       "      <td>Israeli minister Miri Regev has asked the gove...</td>\n",
       "    </tr>\n",
       "    <tr>\n",
       "      <th>71161</th>\n",
       "      <td>Nadal powers into his 23rd Grand Slam final, 4...</td>\n",
       "      <td>World number one tennis player Rafael Nadal re...</td>\n",
       "    </tr>\n",
       "    <tr>\n",
       "      <th>28088</th>\n",
       "      <td>Bank of Maharashtra CEO Ravindra Marathe loses...</td>\n",
       "      <td>The Bank of Maharashtra board on Friday stripp...</td>\n",
       "    </tr>\n",
       "    <tr>\n",
       "      <th>9772</th>\n",
       "      <td>There was too much pressure on Unadkat over hi...</td>\n",
       "      <td>IPL franchise Rajasthan Royals have said they ...</td>\n",
       "    </tr>\n",
       "    <tr>\n",
       "      <th>47593</th>\n",
       "      <td>Jennifer Aniston, Justin Theroux announce thei...</td>\n",
       "      <td>Jennifer Aniston and Justin Theroux have issue...</td>\n",
       "    </tr>\n",
       "    <tr>\n",
       "      <th>53455</th>\n",
       "      <td>CSK rope in former player Michael Hussey as ba...</td>\n",
       "      <td>Two-time IPL champions Chennai Super Kings hav...</td>\n",
       "    </tr>\n",
       "    <tr>\n",
       "      <th>46409</th>\n",
       "      <td>CCTV footage at Kejriwal's house running 40 mi...</td>\n",
       "      <td>After Delhi Police seized CCTV recordings from...</td>\n",
       "    </tr>\n",
       "    <tr>\n",
       "      <th>87471</th>\n",
       "      <td>Germans are very bad, will end German car sale...</td>\n",
       "      <td>US President Donald Trump has threatened to st...</td>\n",
       "    </tr>\n",
       "  </tbody>\n",
       "</table>\n",
       "</div>"
      ],
      "text/plain": [
       "                                               headlines  \\\n",
       "79363  Maha issues draft rules to regularise illegal ...   \n",
       "79892  Jagga Jasoos actress Bidisha found dead in her...   \n",
       "89620        Israel mulls kicking out UN from Jerusalem    \n",
       "71161  Nadal powers into his 23rd Grand Slam final, 4...   \n",
       "28088  Bank of Maharashtra CEO Ravindra Marathe loses...   \n",
       "9772   There was too much pressure on Unadkat over hi...   \n",
       "47593  Jennifer Aniston, Justin Theroux announce thei...   \n",
       "53455  CSK rope in former player Michael Hussey as ba...   \n",
       "46409  CCTV footage at Kejriwal's house running 40 mi...   \n",
       "87471  Germans are very bad, will end German car sale...   \n",
       "\n",
       "                                                    text  \n",
       "79363  The Maharashtra government on Friday issued dr...  \n",
       "79892  Actress and singer Bidisha Bezbaruah, who was ...  \n",
       "89620  Israeli minister Miri Regev has asked the gove...  \n",
       "71161  World number one tennis player Rafael Nadal re...  \n",
       "28088  The Bank of Maharashtra board on Friday stripp...  \n",
       "9772   IPL franchise Rajasthan Royals have said they ...  \n",
       "47593  Jennifer Aniston and Justin Theroux have issue...  \n",
       "53455  Two-time IPL champions Chennai Super Kings hav...  \n",
       "46409  After Delhi Police seized CCTV recordings from...  \n",
       "87471  US President Donald Trump has threatened to st...  "
      ]
     },
     "execution_count": 4,
     "metadata": {},
     "output_type": "execute_result"
    }
   ],
   "source": [
    "data.sample(10)"
   ]
  },
  {
   "cell_type": "markdown",
   "id": "3c918d6d",
   "metadata": {},
   "source": [
    "### 데이터 전처리하기"
   ]
  },
  {
   "cell_type": "markdown",
   "id": "396a30b4",
   "metadata": {},
   "source": [
    "#### 중복제거 및 NULL 값 제거"
   ]
  },
  {
   "cell_type": "code",
   "execution_count": 5,
   "id": "e15aef74",
   "metadata": {},
   "outputs": [
    {
     "name": "stdout",
     "output_type": "stream",
     "text": [
      "Text 열에서 중복을 배제한 유일한 샘플의 수 : 98360\n",
      "Summary 열에서 중복을 배제한 유일한 샘플의 수 : 98280\n"
     ]
    }
   ],
   "source": [
    "print('Text 열에서 중복을 배제한 유일한 샘플의 수 :', data['text'].nunique())\n",
    "print('Summary 열에서 중복을 배제한 유일한 샘플의 수 :', data['headlines'].nunique())"
   ]
  },
  {
   "cell_type": "markdown",
   "id": "19a8fab3",
   "metadata": {},
   "source": [
    "#### 1. 중복 제거하기\n",
    "inplace=True 를 설정하면 DataFrame 타입 값을 return 하지 않고 data 내부를 직접적으로 바꿈"
   ]
  },
  {
   "cell_type": "code",
   "execution_count": 6,
   "id": "ad1ead8a",
   "metadata": {},
   "outputs": [
    {
     "name": "stdout",
     "output_type": "stream",
     "text": [
      "전체 샘플수 : 98360\n"
     ]
    }
   ],
   "source": [
    "data.drop_duplicates(subset = ['text'], inplace=True)\n",
    "print('전체 샘플수 :', (len(data)))"
   ]
  },
  {
   "cell_type": "markdown",
   "id": "94f6cc4d",
   "metadata": {},
   "source": [
    "#### NULL 값 유무 확인하기\n",
    "duplicates로 중복을 제거하면서 NULL값도 제거가 되지만 그래도 NULL 값이 남아있을 수 있음\n",
    "<br/>\n",
    "duplicate는 기능은 중복을 제거하는 것이기 때문!!"
   ]
  },
  {
   "cell_type": "code",
   "execution_count": 7,
   "id": "91fa3cbe",
   "metadata": {},
   "outputs": [
    {
     "name": "stdout",
     "output_type": "stream",
     "text": [
      "headlines    0\n",
      "text         0\n",
      "dtype: int64\n"
     ]
    }
   ],
   "source": [
    "print(data.isnull().sum())"
   ]
  },
  {
   "cell_type": "markdown",
   "id": "e6ca1524",
   "metadata": {},
   "source": [
    "isnull() 활용하여 NULL 값 확인 결과 headline , text 모두 0 이 나옴 <br/>\n",
    "즉, headlines과 text 데이터에는 NULL 값이 없다는 의미!!\n",
    "<br/>\n",
    "만약 isnull()로 확인 후 0이 아닌 값이 나오면 NULL이 해당 숫자만큼 존재한다는 의미이기 때문에 dropna()을 활용하여 제거해야함"
   ]
  },
  {
   "cell_type": "markdown",
   "id": "95615ad3",
   "metadata": {},
   "source": [
    "### 덱스트 정규화와 불용어 제거"
   ]
  },
  {
   "cell_type": "markdown",
   "id": "a8f1256d",
   "metadata": {},
   "source": [
    "학습에 불필요한 표현을 제거하기 위한 단계(축약적인 의미 단어를 제거)\n",
    "<br/>\n",
    "텍스트 정규화(text normalization)를 위한 사전(dictionary)구성"
   ]
  },
  {
   "cell_type": "code",
   "execution_count": 8,
   "id": "d49f692e",
   "metadata": {},
   "outputs": [
    {
     "name": "stdout",
     "output_type": "stream",
     "text": [
      "정규화 사전의 수:  120\n"
     ]
    }
   ],
   "source": [
    "contractions = {\"ain't\": \"is not\", \"aren't\": \"are not\",\"can't\": \"cannot\", \"'cause\": \"because\", \"could've\": \"could have\", \"couldn't\": \"could not\",\n",
    "                           \"didn't\": \"did not\",  \"doesn't\": \"does not\", \"don't\": \"do not\", \"hadn't\": \"had not\", \"hasn't\": \"has not\", \"haven't\": \"have not\",\n",
    "                           \"he'd\": \"he would\",\"he'll\": \"he will\", \"he's\": \"he is\", \"how'd\": \"how did\", \"how'd'y\": \"how do you\", \"how'll\": \"how will\", \"how's\": \"how is\",\n",
    "                           \"I'd\": \"I would\", \"I'd've\": \"I would have\", \"I'll\": \"I will\", \"I'll've\": \"I will have\",\"I'm\": \"I am\", \"I've\": \"I have\", \"i'd\": \"i would\",\n",
    "                           \"i'd've\": \"i would have\", \"i'll\": \"i will\",  \"i'll've\": \"i will have\",\"i'm\": \"i am\", \"i've\": \"i have\", \"isn't\": \"is not\", \"it'd\": \"it would\",\n",
    "                           \"it'd've\": \"it would have\", \"it'll\": \"it will\", \"it'll've\": \"it will have\",\"it's\": \"it is\", \"let's\": \"let us\", \"ma'am\": \"madam\",\n",
    "                           \"mayn't\": \"may not\", \"might've\": \"might have\",\"mightn't\": \"might not\",\"mightn't've\": \"might not have\", \"must've\": \"must have\",\n",
    "                           \"mustn't\": \"must not\", \"mustn't've\": \"must not have\", \"needn't\": \"need not\", \"needn't've\": \"need not have\",\"o'clock\": \"of the clock\",\n",
    "                           \"oughtn't\": \"ought not\", \"oughtn't've\": \"ought not have\", \"shan't\": \"shall not\", \"sha'n't\": \"shall not\", \"shan't've\": \"shall not have\",\n",
    "                           \"she'd\": \"she would\", \"she'd've\": \"she would have\", \"she'll\": \"she will\", \"she'll've\": \"she will have\", \"she's\": \"she is\",\n",
    "                           \"should've\": \"should have\", \"shouldn't\": \"should not\", \"shouldn't've\": \"should not have\", \"so've\": \"so have\",\"so's\": \"so as\",\n",
    "                           \"this's\": \"this is\",\"that'd\": \"that would\", \"that'd've\": \"that would have\", \"that's\": \"that is\", \"there'd\": \"there would\",\n",
    "                           \"there'd've\": \"there would have\", \"there's\": \"there is\", \"here's\": \"here is\",\"they'd\": \"they would\", \"they'd've\": \"they would have\",\n",
    "                           \"they'll\": \"they will\", \"they'll've\": \"they will have\", \"they're\": \"they are\", \"they've\": \"they have\", \"to've\": \"to have\",\n",
    "                           \"wasn't\": \"was not\", \"we'd\": \"we would\", \"we'd've\": \"we would have\", \"we'll\": \"we will\", \"we'll've\": \"we will have\", \"we're\": \"we are\",\n",
    "                           \"we've\": \"we have\", \"weren't\": \"were not\", \"what'll\": \"what will\", \"what'll've\": \"what will have\", \"what're\": \"what are\",\n",
    "                           \"what's\": \"what is\", \"what've\": \"what have\", \"when's\": \"when is\", \"when've\": \"when have\", \"where'd\": \"where did\", \"where's\": \"where is\",\n",
    "                           \"where've\": \"where have\", \"who'll\": \"who will\", \"who'll've\": \"who will have\", \"who's\": \"who is\", \"who've\": \"who have\",\n",
    "                           \"why's\": \"why is\", \"why've\": \"why have\", \"will've\": \"will have\", \"won't\": \"will not\", \"won't've\": \"will not have\",\n",
    "                           \"would've\": \"would have\", \"wouldn't\": \"would not\", \"wouldn't've\": \"would not have\", \"y'all\": \"you all\",\n",
    "                           \"y'all'd\": \"you all would\",\"y'all'd've\": \"you all would have\",\"y'all're\": \"you all are\",\"y'all've\": \"you all have\",\n",
    "                           \"you'd\": \"you would\", \"you'd've\": \"you would have\", \"you'll\": \"you will\", \"you'll've\": \"you will have\",\n",
    "                           \"you're\": \"you are\", \"you've\": \"you have\"}\n",
    "\n",
    "print(\"정규화 사전의 수: \", len(contractions))\n",
    "#정규화 사전의 수:  120"
   ]
  },
  {
   "cell_type": "markdown",
   "id": "e46f9f50",
   "metadata": {},
   "source": [
    "#### 불용어 제거"
   ]
  },
  {
   "cell_type": "markdown",
   "id": "e071019b",
   "metadata": {},
   "source": [
    "자연어 처리 시 실질적으로 도움되지 않는 단어 제거<br/>\n",
    "얼마나 많은 불용어를 제거함에 따라 성능을 높일 수 있음"
   ]
  },
  {
   "cell_type": "code",
   "execution_count": 9,
   "id": "f1d8e04b",
   "metadata": {},
   "outputs": [
    {
     "name": "stdout",
     "output_type": "stream",
     "text": [
      "불용어 개수 : 179\n",
      "['i', 'me', 'my', 'myself', 'we', 'our', 'ours', 'ourselves', 'you', \"you're\", \"you've\", \"you'll\", \"you'd\", 'your', 'yours', 'yourself', 'yourselves', 'he', 'him', 'his', 'himself', 'she', \"she's\", 'her', 'hers', 'herself', 'it', \"it's\", 'its', 'itself', 'they', 'them', 'their', 'theirs', 'themselves', 'what', 'which', 'who', 'whom', 'this', 'that', \"that'll\", 'these', 'those', 'am', 'is', 'are', 'was', 'were', 'be', 'been', 'being', 'have', 'has', 'had', 'having', 'do', 'does', 'did', 'doing', 'a', 'an', 'the', 'and', 'but', 'if', 'or', 'because', 'as', 'until', 'while', 'of', 'at', 'by', 'for', 'with', 'about', 'against', 'between', 'into', 'through', 'during', 'before', 'after', 'above', 'below', 'to', 'from', 'up', 'down', 'in', 'out', 'on', 'off', 'over', 'under', 'again', 'further', 'then', 'once', 'here', 'there', 'when', 'where', 'why', 'how', 'all', 'any', 'both', 'each', 'few', 'more', 'most', 'other', 'some', 'such', 'no', 'nor', 'not', 'only', 'own', 'same', 'so', 'than', 'too', 'very', 's', 't', 'can', 'will', 'just', 'don', \"don't\", 'should', \"should've\", 'now', 'd', 'll', 'm', 'o', 're', 've', 'y', 'ain', 'aren', \"aren't\", 'couldn', \"couldn't\", 'didn', \"didn't\", 'doesn', \"doesn't\", 'hadn', \"hadn't\", 'hasn', \"hasn't\", 'haven', \"haven't\", 'isn', \"isn't\", 'ma', 'mightn', \"mightn't\", 'mustn', \"mustn't\", 'needn', \"needn't\", 'shan', \"shan't\", 'shouldn', \"shouldn't\", 'wasn', \"wasn't\", 'weren', \"weren't\", 'won', \"won't\", 'wouldn', \"wouldn't\"]\n"
     ]
    }
   ],
   "source": [
    "print('불용어 개수 :', len(stopwords.words('english') ))\n",
    "print(stopwords.words('english'))\n"
   ]
  },
  {
   "cell_type": "markdown",
   "id": "f6d90944",
   "metadata": {},
   "source": [
    "추상적요약을 사용시에는 문장 길이가 짧은 summary 전처리할 때는 불용어 제거하지 않음\n",
    "<br/>\n",
    "추상적 요약에서는 자연스러운 문장이 되려면 불용어가 남아 있는게 더 좋음"
   ]
  },
  {
   "cell_type": "code",
   "execution_count": 10,
   "id": "4a1d328d",
   "metadata": {},
   "outputs": [],
   "source": [
    "# 데이터 전처리 함수\n",
    "def preprocess_sentence(sentence, remove_stopwords=True):\n",
    "    sentence = sentence.lower() # 텍스트 소문자화\n",
    "    sentence = BeautifulSoup(sentence, \"lxml\").text # <br />, <a href = ...> 등의 html 태그 제거\n",
    "    sentence = re.sub(r'\\([^)]*\\)', '', sentence) # 괄호로 닫힌 문자열 (...) 제거 Ex) my husband (and myself!) for => my husband for\n",
    "    sentence = re.sub('\"','', sentence) # 쌍따옴표 \" 제거\n",
    "    sentence = ' '.join([contractions[t] if t in contractions else t for t in sentence.split(\" \")]) # 약어 정규화\n",
    "    sentence = re.sub(r\"'s\\b\",\"\", sentence) # 소유격 제거. Ex) roland's -> roland\n",
    "    sentence = re.sub(\"[^a-zA-Z]\", \" \", sentence) # 영어 외 문자(숫자, 특수문자 등) 공백으로 변환\n",
    "    sentence = re.sub('[m]{2,}', 'mm', sentence) # m이 3개 이상이면 2개로 변경. Ex) ummmmmmm yeah -> umm yeah\n",
    "    \n",
    "    # 불용어 제거 (Text)\n",
    "    if remove_stopwords:\n",
    "        tokens = ' '.join(word for word in sentence.split() if not word in stopwords.words('english') if len(word) > 1)\n",
    "    # 불용어 미제거 (headlines)\n",
    "    else:\n",
    "        tokens = ' '.join(word for word in sentence.split() if len(word) > 1)\n",
    "    return tokens"
   ]
  },
  {
   "cell_type": "code",
   "execution_count": 11,
   "id": "b5ecfc52",
   "metadata": {},
   "outputs": [
    {
     "name": "stderr",
     "output_type": "stream",
     "text": [
      "100%|██████████| 98360/98360 [08:50<00:00, 185.46it/s]"
     ]
    },
    {
     "name": "stdout",
     "output_type": "stream",
     "text": [
      "Text 전처리 후 결과:  ['saurav kant alumnus upgrad iiit pg program machine learning artificial intelligence sr systems engineer infosys almost years work experience program upgrad degree career support helped transition data scientist tech mahindra salary hike upgrad online power learning powered lakh careers', 'kunal shah credit card bill payment platform cred gave users chance win free food swiggy one year pranav kaushik delhi techie bagged reward spending cred coins users get one cred coin per rupee bill paid used avail rewards brands like ixigo bookmyshow ubereats cult fit', 'new zealand defeated india wickets fourth odi hamilton thursday win first match five match odi series india lost international match rohit sharma captaincy consecutive victories dating back march match witnessed india getting seventh lowest total odi cricket history', 'aegon life iterm insurance plan customers enjoy tax benefits premiums paid save taxes plan provides life cover age years also customers options insure critical illnesses disability accidental death benefit rider life cover age years', 'speaking sexual harassment allegations rajkumar hirani sonam kapoor said known hirani many years true metoo movement get derailed metoo movement always believe woman case need reserve judgment added hirani accused assistant worked sanju']\n"
     ]
    },
    {
     "name": "stderr",
     "output_type": "stream",
     "text": [
      "\n"
     ]
    }
   ],
   "source": [
    "clean_text = []\n",
    "for s in tqdm(data['text']):\n",
    "    clean_text.append(preprocess_sentence(s))\n",
    "\n",
    "# 전처리 후 출력\n",
    "print(\"Text 전처리 후 결과: \", clean_text[:5])"
   ]
  },
  {
   "cell_type": "code",
   "execution_count": 12,
   "id": "860ee9e8",
   "metadata": {},
   "outputs": [
    {
     "name": "stderr",
     "output_type": "stream",
     "text": [
      "100%|██████████| 98360/98360 [00:17<00:00, 5496.35it/s]"
     ]
    },
    {
     "name": "stdout",
     "output_type": "stream",
     "text": [
      "headlines 전처리 후 결과:  ['upgrad learner switches to career in ml al with salary hike', 'delhi techie wins free food from swiggy for one year on cred', 'new zealand end rohit sharma led india match winning streak', 'aegon life iterm insurance plan helps customers save tax', 'have known hirani for yrs what if metoo claims are not true sonam']\n"
     ]
    },
    {
     "name": "stderr",
     "output_type": "stream",
     "text": [
      "\n"
     ]
    }
   ],
   "source": [
    "clean_headlines = []\n",
    "\n",
    "for s in tqdm(data['headlines']):\n",
    "    clean_headlines.append(preprocess_sentence(s, False))\n",
    "\n",
    "print(\"headlines 전처리 후 결과: \", clean_headlines[:5])"
   ]
  },
  {
   "cell_type": "code",
   "execution_count": 13,
   "id": "1c00d3b6",
   "metadata": {},
   "outputs": [
    {
     "data": {
      "text/plain": [
       "98360"
      ]
     },
     "execution_count": 13,
     "metadata": {},
     "output_type": "execute_result"
    }
   ],
   "source": [
    "len(clean_headlines)"
   ]
  },
  {
   "cell_type": "markdown",
   "id": "dd8ddb27",
   "metadata": {},
   "source": [
    "#### 데이터 정제 후 NULL 확인"
   ]
  },
  {
   "cell_type": "markdown",
   "id": "5981f7ae",
   "metadata": {},
   "source": [
    "텍스트 정제 과정에서 NULL이 발생할 수 있기 때문에 NULL 확인 하는 것이 좋음"
   ]
  },
  {
   "cell_type": "code",
   "execution_count": 14,
   "id": "7f3a64ac",
   "metadata": {},
   "outputs": [],
   "source": [
    "data['text'] = clean_text\n",
    "data['headlines'] = clean_headlines\n",
    "\n",
    "# 빈 값을 Null 값으로 변환\n",
    "data.replace('', np.nan, inplace=True)"
   ]
  },
  {
   "cell_type": "code",
   "execution_count": 15,
   "id": "86b82d3c",
   "metadata": {},
   "outputs": [
    {
     "data": {
      "text/plain": [
       "98360"
      ]
     },
     "execution_count": 15,
     "metadata": {},
     "output_type": "execute_result"
    }
   ],
   "source": [
    "len(data)"
   ]
  },
  {
   "cell_type": "code",
   "execution_count": 16,
   "id": "d255c754",
   "metadata": {},
   "outputs": [
    {
     "data": {
      "text/plain": [
       "headlines    0\n",
       "text         0\n",
       "dtype: int64"
      ]
     },
     "execution_count": 16,
     "metadata": {},
     "output_type": "execute_result"
    }
   ],
   "source": [
    "data.isnull().sum()"
   ]
  },
  {
   "cell_type": "markdown",
   "id": "bf0ab270",
   "metadata": {},
   "source": [
    "### 샘플 최대 길이 정하기"
   ]
  },
  {
   "cell_type": "code",
   "execution_count": 17,
   "id": "93ab11b9",
   "metadata": {},
   "outputs": [
    {
     "name": "stdout",
     "output_type": "stream",
     "text": [
      "텍스트의 최소 길이 : 1\n",
      "텍스트의 최대 길이 : 60\n",
      "텍스트의 평균 길이 : 35.09968483123221\n",
      "요약의 최소 길이 : 1\n",
      "요약의 최대 길이 : 16\n",
      "요약의 평균 길이 : 9.299532330215534\n"
     ]
    },
    {
     "data": {
      "image/png": "[encoded data removed]",
      "text/plain": [
       "<Figure size 432x288 with 2 Axes>"
      ]
     },
     "metadata": {
      "needs_background": "light"
     },
     "output_type": "display_data"
    },
    {
     "data": {
      "image/png": "[encoded data removed]",
      "text/plain": [
       "<Figure size 432x288 with 1 Axes>"
      ]
     },
     "metadata": {
      "needs_background": "light"
     },
     "output_type": "display_data"
    },
    {
     "data": {
      "image/png": "[encoded data removed]",
      "text/plain": [
       "<Figure size 432x288 with 1 Axes>"
      ]
     },
     "metadata": {
      "needs_background": "light"
     },
     "output_type": "display_data"
    }
   ],
   "source": [
    "# 길이 분포 출력\n",
    "import matplotlib.pyplot as plt\n",
    "\n",
    "text_len = [len(s.split()) for s in data['text']]\n",
    "summary_len = [len(s.split()) for s in data['headlines']]\n",
    "\n",
    "print('텍스트의 최소 길이 : {}'.format(np.min(text_len)))\n",
    "print('텍스트의 최대 길이 : {}'.format(np.max(text_len)))\n",
    "print('텍스트의 평균 길이 : {}'.format(np.mean(text_len)))\n",
    "print('요약의 최소 길이 : {}'.format(np.min(summary_len)))\n",
    "print('요약의 최대 길이 : {}'.format(np.max(summary_len)))\n",
    "print('요약의 평균 길이 : {}'.format(np.mean(summary_len)))\n",
    "\n",
    "plt.subplot(1,2,1)\n",
    "plt.boxplot(text_len)\n",
    "plt.title('text')\n",
    "plt.subplot(1,2,2)\n",
    "plt.boxplot(summary_len)\n",
    "plt.title('headlines')\n",
    "plt.tight_layout()\n",
    "plt.show()\n",
    "\n",
    "plt.title('text')\n",
    "plt.hist(text_len, bins = 40)\n",
    "plt.xlabel('length of samples')\n",
    "plt.ylabel('number of samples')\n",
    "plt.show()\n",
    "\n",
    "plt.title('headlines')\n",
    "plt.hist(summary_len, bins = 40)\n",
    "plt.xlabel('length of samples')\n",
    "plt.ylabel('number of samples')\n",
    "plt.show()"
   ]
  },
  {
   "cell_type": "markdown",
   "id": "94bac3eb",
   "metadata": {},
   "source": [
    "많은 양의 데이터를 다룰 때 데이터를 시각화하여 보는 것에 도움됨\n",
    "<br/>\n",
    "각 테스트와 제목의 길이 분포와 길이별 개수를 시각적으로 보여줌"
   ]
  },
  {
   "cell_type": "code",
   "execution_count": 18,
   "id": "72f1637f",
   "metadata": {},
   "outputs": [],
   "source": [
    "text_max_len = 40\n",
    "headline_max_len = 11\n",
    "#얼마만큼 많은 샘플을 잘르지 안ㄶ고 포함하는지 통계로 확인하여 객관적으로 길이 지정"
   ]
  },
  {
   "cell_type": "markdown",
   "id": "d8132602",
   "metadata": {},
   "source": [
    "#### train, test 데이터 몇 %해당되는지 확인"
   ]
  },
  {
   "cell_type": "code",
   "execution_count": 19,
   "id": "f5294f32",
   "metadata": {},
   "outputs": [],
   "source": [
    "def below_threshold_len(max_len, nested_list):\n",
    "  cnt = 0\n",
    "  for s in nested_list:\n",
    "    if(len(s.split()) <= max_len):\n",
    "        cnt = cnt + 1\n",
    "  print('전체 샘플 중 길이가 %s 이하인 샘플의 비율: %s'%(max_len, (cnt / len(nested_list))))\n"
   ]
  },
  {
   "cell_type": "code",
   "execution_count": 20,
   "id": "1ed2a73e",
   "metadata": {},
   "outputs": [
    {
     "name": "stdout",
     "output_type": "stream",
     "text": [
      "전체 샘플 중 길이가 40 이하인 샘플의 비율: 0.9238714924766165\n",
      "전체 샘플 중 길이가 11 이하인 샘플의 비율: 0.9449877999186661\n"
     ]
    }
   ],
   "source": [
    "below_threshold_len(text_max_len, data['text'])\n",
    "below_threshold_len(headline_max_len,  data['headlines'])"
   ]
  },
  {
   "cell_type": "markdown",
   "id": "d832773e",
   "metadata": {},
   "source": [
    "전체 샘플에 약 8%의 샘플들잉 내용이 망가짐"
   ]
  },
  {
   "cell_type": "markdown",
   "id": "8e111ee3",
   "metadata": {},
   "source": [
    "#### 정해진 길이보다 길면 제외하기"
   ]
  },
  {
   "cell_type": "code",
   "execution_count": 21,
   "id": "84b497d6",
   "metadata": {},
   "outputs": [
    {
     "name": "stdout",
     "output_type": "stream",
     "text": [
      "전체 샘플수 : 85843\n"
     ]
    }
   ],
   "source": [
    "data = data[data['text'].apply(lambda x: len(x.split()) <= text_max_len)]\n",
    "data = data[data['headlines'].apply(lambda x: len(x.split()) <= headline_max_len)]\n",
    "print('전체 샘플수 :', (len(data)))"
   ]
  },
  {
   "cell_type": "markdown",
   "id": "2c7ada4d",
   "metadata": {},
   "source": [
    "#### 시작토큰과 종료 토큰 추가하기"
   ]
  },
  {
   "cell_type": "markdown",
   "id": "1633b867",
   "metadata": {},
   "source": [
    "seq2seq훈련을 하기 위해서는 디코더의 입력과 레이블에 시작 토큰과 종료 토큰을 추가할 필요가 있음\n",
    "<br/>\n",
    "시작토큰 sostoken, 종료토큰 eostoken\n",
    "<br/>\n",
    "시작토큰 맨 앞 문장 decoder_input, 종료토큰 맨 뒤에 붙는 문장 decoder_target이라고 정함"
   ]
  },
  {
   "cell_type": "code",
   "execution_count": 22,
   "id": "07e6a189",
   "metadata": {},
   "outputs": [
    {
     "data": {
      "text/html": [
       "<div>\n",
       "<style scoped>\n",
       "    .dataframe tbody tr th:only-of-type {\n",
       "        vertical-align: middle;\n",
       "    }\n",
       "\n",
       "    .dataframe tbody tr th {\n",
       "        vertical-align: top;\n",
       "    }\n",
       "\n",
       "    .dataframe thead th {\n",
       "        text-align: right;\n",
       "    }\n",
       "</style>\n",
       "<table border=\"1\" class=\"dataframe\">\n",
       "  <thead>\n",
       "    <tr style=\"text-align: right;\">\n",
       "      <th></th>\n",
       "      <th>headlines</th>\n",
       "      <th>text</th>\n",
       "      <th>decoder_input</th>\n",
       "      <th>decoder_target</th>\n",
       "    </tr>\n",
       "  </thead>\n",
       "  <tbody>\n",
       "    <tr>\n",
       "      <th>0</th>\n",
       "      <td>upgrad learner switches to career in ml al wit...</td>\n",
       "      <td>saurav kant alumnus upgrad iiit pg program mac...</td>\n",
       "      <td>sostoken upgrad learner switches to career in ...</td>\n",
       "      <td>upgrad learner switches to career in ml al wit...</td>\n",
       "    </tr>\n",
       "    <tr>\n",
       "      <th>2</th>\n",
       "      <td>new zealand end rohit sharma led india match w...</td>\n",
       "      <td>new zealand defeated india wickets fourth odi ...</td>\n",
       "      <td>sostoken new zealand end rohit sharma led indi...</td>\n",
       "      <td>new zealand end rohit sharma led india match w...</td>\n",
       "    </tr>\n",
       "    <tr>\n",
       "      <th>3</th>\n",
       "      <td>aegon life iterm insurance plan helps customer...</td>\n",
       "      <td>aegon life iterm insurance plan customers enjo...</td>\n",
       "      <td>sostoken aegon life iterm insurance plan helps...</td>\n",
       "      <td>aegon life iterm insurance plan helps customer...</td>\n",
       "    </tr>\n",
       "    <tr>\n",
       "      <th>5</th>\n",
       "      <td>rahat fateh ali khan denies getting notice for...</td>\n",
       "      <td>pakistani singer rahat fateh ali khan denied r...</td>\n",
       "      <td>sostoken rahat fateh ali khan denies getting n...</td>\n",
       "      <td>rahat fateh ali khan denies getting notice for...</td>\n",
       "    </tr>\n",
       "    <tr>\n",
       "      <th>7</th>\n",
       "      <td>govt directs alok verma to join work day befor...</td>\n",
       "      <td>weeks ex cbi director alok verma told departme...</td>\n",
       "      <td>sostoken govt directs alok verma to join work ...</td>\n",
       "      <td>govt directs alok verma to join work day befor...</td>\n",
       "    </tr>\n",
       "  </tbody>\n",
       "</table>\n",
       "</div>"
      ],
      "text/plain": [
       "                                           headlines  \\\n",
       "0  upgrad learner switches to career in ml al wit...   \n",
       "2  new zealand end rohit sharma led india match w...   \n",
       "3  aegon life iterm insurance plan helps customer...   \n",
       "5  rahat fateh ali khan denies getting notice for...   \n",
       "7  govt directs alok verma to join work day befor...   \n",
       "\n",
       "                                                text  \\\n",
       "0  saurav kant alumnus upgrad iiit pg program mac...   \n",
       "2  new zealand defeated india wickets fourth odi ...   \n",
       "3  aegon life iterm insurance plan customers enjo...   \n",
       "5  pakistani singer rahat fateh ali khan denied r...   \n",
       "7  weeks ex cbi director alok verma told departme...   \n",
       "\n",
       "                                       decoder_input  \\\n",
       "0  sostoken upgrad learner switches to career in ...   \n",
       "2  sostoken new zealand end rohit sharma led indi...   \n",
       "3  sostoken aegon life iterm insurance plan helps...   \n",
       "5  sostoken rahat fateh ali khan denies getting n...   \n",
       "7  sostoken govt directs alok verma to join work ...   \n",
       "\n",
       "                                      decoder_target  \n",
       "0  upgrad learner switches to career in ml al wit...  \n",
       "2  new zealand end rohit sharma led india match w...  \n",
       "3  aegon life iterm insurance plan helps customer...  \n",
       "5  rahat fateh ali khan denies getting notice for...  \n",
       "7  govt directs alok verma to join work day befor...  "
      ]
     },
     "execution_count": 22,
     "metadata": {},
     "output_type": "execute_result"
    }
   ],
   "source": [
    "# 요약 데이터에는 시작 토큰과 종료 토큰을 추가한다.\n",
    "data['decoder_input'] = data['headlines'].apply(lambda x : 'sostoken '+ x)\n",
    "data['decoder_target'] = data['headlines'].apply(lambda x : x + ' eostoken')\n",
    "data.head()"
   ]
  },
  {
   "cell_type": "markdown",
   "id": "65fe1e88",
   "metadata": {},
   "source": [
    "인코더 입력, 디코더 입력과 레이블을 각 numpy타입으로 저장\n",
    "<br/>\n",
    "encoder_input과 크기와  형태가 같은 순서가 섞인 정수 시퀀스를 만듦"
   ]
  },
  {
   "cell_type": "code",
   "execution_count": 23,
   "id": "5390ac55",
   "metadata": {},
   "outputs": [],
   "source": [
    "encoder_input = np.array(data['text']) # 인코더의 입력\n",
    "decoder_input = np.array(data['decoder_input']) # 디코더의 입력\n",
    "decoder_target = np.array(data['decoder_target']) # 디코더의 레이블"
   ]
  },
  {
   "cell_type": "code",
   "execution_count": 24,
   "id": "ae50e7c4",
   "metadata": {},
   "outputs": [
    {
     "name": "stdout",
     "output_type": "stream",
     "text": [
      "[79029 30572 63344 ... 55000 11456 59026]\n"
     ]
    }
   ],
   "source": [
    "indices = np.arange(encoder_input.shape[0])\n",
    "np.random.shuffle(indices)\n",
    "print(indices)"
   ]
  },
  {
   "cell_type": "markdown",
   "id": "73db5c45",
   "metadata": {},
   "source": [
    "정수 시퀀스를 이용 데이터 샘플 순서 정의"
   ]
  },
  {
   "cell_type": "code",
   "execution_count": 25,
   "id": "5c83b080",
   "metadata": {},
   "outputs": [],
   "source": [
    "encoder_input = encoder_input[indices]\n",
    "decoder_input = decoder_input[indices]\n",
    "decoder_target = decoder_target[indices]"
   ]
  },
  {
   "cell_type": "code",
   "execution_count": 26,
   "id": "15010b27",
   "metadata": {},
   "outputs": [
    {
     "name": "stdout",
     "output_type": "stream",
     "text": [
      "테스트 데이터의 수 : 17168\n"
     ]
    }
   ],
   "source": [
    "n_of_val = int(len(encoder_input)*0.2)\n",
    "print('테스트 데이터의 수 :', n_of_val)"
   ]
  },
  {
   "cell_type": "markdown",
   "id": "a51c1f6a",
   "metadata": {},
   "source": [
    "데이터를 8:2비율로 훈련 데이터와 테스트 데이터 분리\n",
    "<br/>\n",
    "전체 데이터의 크기에 0.2를 곱해 테스트 데이터 크기 정의"
   ]
  },
  {
   "cell_type": "code",
   "execution_count": 27,
   "id": "cadcc9b9",
   "metadata": {},
   "outputs": [
    {
     "name": "stdout",
     "output_type": "stream",
     "text": [
      "훈련 데이터의 개수 : 68675\n",
      "훈련 레이블의 개수 : 68675\n",
      "테스트 데이터의 개수 : 17168\n",
      "테스트 레이블의 개수 : 17168\n"
     ]
    }
   ],
   "source": [
    "encoder_input_train = encoder_input[:-n_of_val]\n",
    "decoder_input_train = decoder_input[:-n_of_val]\n",
    "decoder_target_train = decoder_target[:-n_of_val]\n",
    "\n",
    "encoder_input_test = encoder_input[-n_of_val:]\n",
    "decoder_input_test = decoder_input[-n_of_val:]\n",
    "decoder_target_test = decoder_target[-n_of_val:]\n",
    "\n",
    "print('훈련 데이터의 개수 :', len(encoder_input_train))\n",
    "print('훈련 레이블의 개수 :', len(decoder_input_train))\n",
    "print('테스트 데이터의 개수 :', len(encoder_input_test))\n",
    "print('테스트 레이블의 개수 :', len(decoder_input_test))"
   ]
  },
  {
   "cell_type": "markdown",
   "id": "1b341f23",
   "metadata": {},
   "source": [
    "### 정수 인코딩하기"
   ]
  },
  {
   "cell_type": "markdown",
   "id": "7c36567b",
   "metadata": {},
   "source": [
    "각 단어에 고유한 정수를 맴핑하기 위해 단어집합(vocabulary)을 만듦"
   ]
  },
  {
   "cell_type": "code",
   "execution_count": 28,
   "id": "5178c39d",
   "metadata": {},
   "outputs": [],
   "source": [
    "src_tokenizer = Tokenizer() # 토크나이저 정의\n",
    "src_tokenizer.fit_on_texts(encoder_input_train) # 입력된 데이터로부터 단어 집합 생성"
   ]
  },
  {
   "cell_type": "markdown",
   "id": "e29db7bb",
   "metadata": {},
   "source": [
    "keras의 토큰나이저 사용하여 훈련 데이터로부터 단어 집합을 만듦\n",
    "<br/>\n",
    "현재 생성된 단어 집합은 src_tokenizer.word_index에 저장됨\n",
    "<br/>\n",
    "빈도수가 낮은 단어들은 훈련 데이터에서 제외하고 진행함"
   ]
  },
  {
   "cell_type": "code",
   "execution_count": 29,
   "id": "972375a0",
   "metadata": {},
   "outputs": [
    {
     "name": "stdout",
     "output_type": "stream",
     "text": [
      "단어 집합(vocabulary)의 크기 : 64731\n",
      "등장 빈도가 6번 이하인 희귀 단어의 수: 44173\n",
      "단어 집합에서 희귀 단어를 제외시킬 경우의 단어 집합의 크기 20558\n",
      "단어 집합에서 희귀 단어의 비율: 68.24087376990931\n",
      "전체 등장 빈도에서 희귀 단어 등장 빈도 비율: 3.781309237110342\n"
     ]
    }
   ],
   "source": [
    "threshold = 7\n",
    "total_cnt = len(src_tokenizer.word_index) # 단어의 수\n",
    "rare_cnt = 0 # 등장 빈도수가 threshold보다 작은 단어의 개수를 카운트\n",
    "total_freq = 0 # 훈련 데이터의 전체 단어 빈도수 총 합\n",
    "rare_freq = 0 # 등장 빈도수가 threshold보다 작은 단어의 등장 빈도수의 총 합\n",
    "\n",
    "# 단어와 빈도수의 쌍(pair)을 key와 value로 받는다.\n",
    "for key, value in src_tokenizer.word_counts.items():\n",
    "    total_freq = total_freq + value\n",
    "\n",
    "    # 단어의 등장 빈도수가 threshold보다 작으면\n",
    "    if(value < threshold):\n",
    "        rare_cnt = rare_cnt + 1\n",
    "        rare_freq = rare_freq + value\n",
    "\n",
    "print('단어 집합(vocabulary)의 크기 :', total_cnt)\n",
    "print('등장 빈도가 %s번 이하인 희귀 단어의 수: %s'%(threshold - 1, rare_cnt))\n",
    "print('단어 집합에서 희귀 단어를 제외시킬 경우의 단어 집합의 크기 %s'%(total_cnt - rare_cnt))\n",
    "print(\"단어 집합에서 희귀 단어의 비율:\", (rare_cnt / total_cnt)*100)\n",
    "print(\"전체 등장 빈도에서 희귀 단어 등장 빈도 비율:\", (rare_freq / total_freq)*100)"
   ]
  },
  {
   "cell_type": "markdown",
   "id": "086ee296",
   "metadata": {},
   "source": [
    "등장빈도수 7회 비만인 단어 확인\n",
    "<br/>\n",
    "src_tokenzier.word_counts.items()에 단어와 각 단어의 등장 빈도수 저장되어 있기 때문에 사용하여 확인 가능\n"
   ]
  },
  {
   "cell_type": "code",
   "execution_count": 30,
   "id": "0edee557",
   "metadata": {},
   "outputs": [],
   "source": [
    "src_vocab = 8000\n",
    "src_tokenizer = Tokenizer(num_words=src_vocab) # 단어 집합의 크기를 8,000으로 제한\n",
    "src_tokenizer.fit_on_texts(encoder_input_train) # 단어 집합 재생성"
   ]
  },
  {
   "cell_type": "code",
   "execution_count": 31,
   "id": "9a8d53b1",
   "metadata": {},
   "outputs": [
    {
     "name": "stdout",
     "output_type": "stream",
     "text": [
      "[[569, 6227, 133, 828, 613, 2312, 5056, 6227, 5535, 416, 176, 5462, 942, 1371, 133, 4197, 6, 3308, 2685, 3022, 273, 89, 294, 164, 2809], [3936, 479, 49, 421, 81, 89, 3, 485, 1653, 5707, 71, 30, 451, 873, 4633, 2754, 49, 1, 2628, 1055, 5283, 892, 3061, 456, 806, 421, 81, 1003, 3, 220, 667, 107, 1738, 351, 108, 2754, 395], [278, 1424, 985, 598, 264, 7209, 2088, 12, 2182, 862, 4273, 4198, 980, 494, 3345, 4389, 20, 109, 221, 58, 4198, 985, 1925, 5396, 2007, 4872, 4, 60, 4563, 7917, 211, 12, 2182, 2, 5, 722]]\n"
     ]
    }
   ],
   "source": [
    "# 텍스트 시퀀스를 정수 시퀀스로 변환\n",
    "encoder_input_train = src_tokenizer.texts_to_sequences(encoder_input_train) \n",
    "encoder_input_test = src_tokenizer.texts_to_sequences(encoder_input_test)\n",
    "\n",
    "# 잘 진행되었는지 샘플 출력\n",
    "print(encoder_input_train[:3])"
   ]
  },
  {
   "cell_type": "code",
   "execution_count": 32,
   "id": "3cbe145c",
   "metadata": {},
   "outputs": [],
   "source": [
    "#headline에도 동일하게 적용\n",
    "tar_tokenizer = Tokenizer()\n",
    "tar_tokenizer.fit_on_texts(decoder_input_train)"
   ]
  },
  {
   "cell_type": "markdown",
   "id": "ebfda2e1",
   "metadata": {},
   "source": [
    "단어집합이 생성되는 동시에 각 단어에 고유한 정수가 부여됨\n",
    "<br/>\n",
    "tar_tokenizer.word_counts.items()에는 단어와 각 단어의 등장 빈도수가 저장됨"
   ]
  },
  {
   "cell_type": "code",
   "execution_count": 33,
   "id": "9a7c96ea",
   "metadata": {},
   "outputs": [
    {
     "name": "stdout",
     "output_type": "stream",
     "text": [
      "단어 집합(vocabulary)의 크기 : 28502\n",
      "등장 빈도가 5번 이하인 희귀 단어의 수: 18756\n",
      "단어 집합에서 희귀 단어를 제외시킬 경우의 단어 집합의 크기 9746\n",
      "단어 집합에서 희귀 단어의 비율: 65.80590835730827\n",
      "전체 등장 빈도에서 희귀 단어 등장 빈도 비율: 5.162925801824562\n"
     ]
    }
   ],
   "source": [
    "threshold = 6\n",
    "total_cnt = len(tar_tokenizer.word_index) # 단어의 수\n",
    "rare_cnt = 0 # 등장 빈도수가 threshold보다 작은 단어의 개수를 카운트\n",
    "total_freq = 0 # 훈련 데이터의 전체 단어 빈도수 총 합\n",
    "rare_freq = 0 # 등장 빈도수가 threshold보다 작은 단어의 등장 빈도수의 총 합\n",
    "\n",
    "# 단어와 빈도수의 쌍(pair)을 key와 value로 받는다.\n",
    "for key, value in tar_tokenizer.word_counts.items():\n",
    "    total_freq = total_freq + value\n",
    "\n",
    "    # 단어의 등장 빈도수가 threshold보다 작으면\n",
    "    if(value < threshold):\n",
    "        rare_cnt = rare_cnt + 1\n",
    "        rare_freq = rare_freq + value\n",
    "\n",
    "print('단어 집합(vocabulary)의 크기 :', total_cnt)\n",
    "print('등장 빈도가 %s번 이하인 희귀 단어의 수: %s'%(threshold - 1, rare_cnt))\n",
    "print('단어 집합에서 희귀 단어를 제외시킬 경우의 단어 집합의 크기 %s'%(total_cnt - rare_cnt))\n",
    "print(\"단어 집합에서 희귀 단어의 비율:\", (rare_cnt / total_cnt)*100)\n",
    "print(\"전체 등장 빈도에서 희귀 단어 등장 빈도 비율:\", (rare_freq / total_freq)*100)"
   ]
  },
  {
   "cell_type": "code",
   "execution_count": 34,
   "id": "f66bd616",
   "metadata": {},
   "outputs": [
    {
     "name": "stdout",
     "output_type": "stream",
     "text": [
      "input\n",
      "input  [[1, 180, 9, 1195, 4, 7, 378, 5, 28], [1, 197, 843, 50, 63, 1131], [1, 252, 1045, 1333, 499, 173, 4, 27], [1, 757, 985, 3, 184, 4, 390, 648, 55], [1, 84, 12, 84, 5, 6]]\n",
      "target\n",
      "decoder  [[180, 9, 1195, 4, 7, 378, 5, 28, 2], [197, 843, 50, 63, 1131, 2], [252, 1045, 1333, 499, 173, 4, 27, 2], [757, 985, 3, 184, 4, 390, 648, 55, 2], [84, 12, 84, 5, 6, 2]]\n"
     ]
    }
   ],
   "source": [
    "tar_vocab = 2000\n",
    "tar_tokenizer = Tokenizer(num_words=tar_vocab) \n",
    "tar_tokenizer.fit_on_texts(decoder_input_train)\n",
    "tar_tokenizer.fit_on_texts(decoder_target_train)\n",
    "\n",
    "# 텍스트 시퀀스를 정수 시퀀스로 변환\n",
    "decoder_input_train = tar_tokenizer.texts_to_sequences(decoder_input_train) \n",
    "decoder_target_train = tar_tokenizer.texts_to_sequences(decoder_target_train)\n",
    "decoder_input_test = tar_tokenizer.texts_to_sequences(decoder_input_test)\n",
    "decoder_target_test = tar_tokenizer.texts_to_sequences(decoder_target_test)\n",
    "\n",
    "# 잘 변환되었는지 확인\n",
    "print('input')\n",
    "print('input ',decoder_input_train[:5])\n",
    "print('target')\n",
    "print('decoder ',decoder_target_train[:5])"
   ]
  },
  {
   "cell_type": "markdown",
   "id": "0627dc69",
   "metadata": {},
   "source": [
    "빈도수가 낮은 단어가 삭제되었다는 것은 빈도수가 낮은 단어만으로 구성되어 있던 샘플은 empty 되었을 가능성이 있음"
   ]
  },
  {
   "cell_type": "code",
   "execution_count": 35,
   "id": "4ed21ab0",
   "metadata": {},
   "outputs": [
    {
     "name": "stdout",
     "output_type": "stream",
     "text": [
      "삭제할 훈련 데이터의 개수 : 10\n",
      "삭제할 테스트 데이터의 개수 : 2\n",
      "훈련 데이터의 개수 : 68665\n",
      "훈련 레이블의 개수 : 68665\n",
      "테스트 데이터의 개수 : 17166\n",
      "테스트 레이블의 개수 : 17166\n"
     ]
    }
   ],
   "source": [
    "drop_train = [index for index, sentence in enumerate(decoder_input_train) if len(sentence) == 1]\n",
    "drop_test = [index for index, sentence in enumerate(decoder_input_test) if len(sentence) == 1]\n",
    "\n",
    "print('삭제할 훈련 데이터의 개수 :', len(drop_train))\n",
    "print('삭제할 테스트 데이터의 개수 :', len(drop_test))\n",
    "\n",
    "encoder_input_train = [sentence for index, sentence in enumerate(encoder_input_train) if index not in drop_train]\n",
    "decoder_input_train = [sentence for index, sentence in enumerate(decoder_input_train) if index not in drop_train]\n",
    "decoder_target_train = [sentence for index, sentence in enumerate(decoder_target_train) if index not in drop_train]\n",
    "\n",
    "encoder_input_test = [sentence for index, sentence in enumerate(encoder_input_test) if index not in drop_test]\n",
    "decoder_input_test = [sentence for index, sentence in enumerate(decoder_input_test) if index not in drop_test]\n",
    "decoder_target_test = [sentence for index, sentence in enumerate(decoder_target_test) if index not in drop_test]\n",
    "\n",
    "print('훈련 데이터의 개수 :', len(encoder_input_train))\n",
    "print('훈련 레이블의 개수 :', len(decoder_input_train))\n",
    "print('테스트 데이터의 개수 :', len(encoder_input_test))\n",
    "print('테스트 레이블의 개수 :', len(decoder_input_test))"
   ]
  },
  {
   "cell_type": "markdown",
   "id": "4c22840a",
   "metadata": {},
   "source": [
    "길이가 0이된 headline은 실제로는 길이가 1\n",
    "<br/>\n",
    "sotoken, eostoken만 남아 있기 때문\n",
    "<br/>\n",
    "훈련데이터와 테스트 데이터에 대해 headline 길이가 1인 경우 인덱스를 각 drop_train, drop_test로 저장"
   ]
  },
  {
   "cell_type": "code",
   "execution_count": 36,
   "id": "7df45bc2",
   "metadata": {},
   "outputs": [
    {
     "name": "stdout",
     "output_type": "stream",
     "text": [
      "삭제할 훈련 데이터의 개수 : 0\n",
      "삭제할 테스트 데이터의 개수 : 0\n",
      "훈련 데이터의 개수 : 68665\n",
      "훈련 레이블의 개수 : 68665\n",
      "테스트 데이터의 개수 : 17166\n",
      "테스트 레이블의 개수 : 17166\n"
     ]
    }
   ],
   "source": [
    "drop_train = [index for index, sentence in enumerate(decoder_input_train) if len(sentence) == 1]\n",
    "drop_test = [index for index, sentence in enumerate(decoder_input_test) if len(sentence) == 1]\n",
    "\n",
    "print('삭제할 훈련 데이터의 개수 :', len(drop_train))\n",
    "print('삭제할 테스트 데이터의 개수 :', len(drop_test))\n",
    "\n",
    "encoder_input_train = [sentence for index, sentence in enumerate(encoder_input_train) if index not in drop_train]\n",
    "decoder_input_train = [sentence for index, sentence in enumerate(decoder_input_train) if index not in drop_train]\n",
    "decoder_target_train = [sentence for index, sentence in enumerate(decoder_target_train) if index not in drop_train]\n",
    "\n",
    "encoder_input_test = [sentence for index, sentence in enumerate(encoder_input_test) if index not in drop_test]\n",
    "decoder_input_test = [sentence for index, sentence in enumerate(decoder_input_test) if index not in drop_test]\n",
    "decoder_target_test = [sentence for index, sentence in enumerate(decoder_target_test) if index not in drop_test]\n",
    "\n",
    "print('훈련 데이터의 개수 :', len(encoder_input_train))\n",
    "print('훈련 레이블의 개수 :', len(decoder_input_train))\n",
    "print('테스트 데이터의 개수 :', len(encoder_input_test))\n",
    "print('테스트 레이블의 개수 :', len(decoder_input_test))"
   ]
  },
  {
   "cell_type": "markdown",
   "id": "bfe87da9",
   "metadata": {},
   "source": [
    "### 패딩하기"
   ]
  },
  {
   "cell_type": "markdown",
   "id": "909f0cf3",
   "metadata": {},
   "source": [
    "서로 다른 길이의 샘플을 병렬 처리하기 위해 같은 길이로 맞춰주는 작업이 필요함\n",
    "<br/>\n",
    "최대 길이보다 짧은 데이터들은 뒤에 숫자 0을 넣어 최대 길이로 맞춤"
   ]
  },
  {
   "cell_type": "code",
   "execution_count": 37,
   "id": "8b5904b3",
   "metadata": {},
   "outputs": [],
   "source": [
    "encoder_input_train = pad_sequences(encoder_input_train, maxlen=text_max_len, padding='post')\n",
    "encoder_input_test = pad_sequences(encoder_input_test, maxlen=text_max_len, padding='post')\n",
    "decoder_input_train = pad_sequences(decoder_input_train, maxlen=headline_max_len, padding='post')\n",
    "decoder_target_train = pad_sequences(decoder_target_train, maxlen=headline_max_len, padding='post')\n",
    "decoder_input_test = pad_sequences(decoder_input_test, maxlen=headline_max_len, padding='post')\n",
    "decoder_target_test = pad_sequences(decoder_target_test, maxlen=headline_max_len, padding='post')\n"
   ]
  },
  {
   "cell_type": "markdown",
   "id": "4a7e0deb",
   "metadata": {},
   "source": [
    "### 모델 설계하기"
   ]
  },
  {
   "cell_type": "code",
   "execution_count": 38,
   "id": "c8c11f71",
   "metadata": {},
   "outputs": [
    {
     "name": "stdout",
     "output_type": "stream",
     "text": [
      "WARNING:tensorflow:Layer lstm will not use cuDNN kernels since it doesn't meet the criteria. It will use a generic GPU kernel as fallback when running on GPU.\n",
      "WARNING:tensorflow:Layer lstm_1 will not use cuDNN kernels since it doesn't meet the criteria. It will use a generic GPU kernel as fallback when running on GPU.\n",
      "WARNING:tensorflow:Layer lstm_2 will not use cuDNN kernels since it doesn't meet the criteria. It will use a generic GPU kernel as fallback when running on GPU.\n"
     ]
    }
   ],
   "source": [
    "from tensorflow.keras.layers import Input, LSTM, Embedding, Dense, Concatenate, TimeDistributed\n",
    "from tensorflow.keras.models import Model\n",
    "from tensorflow.keras.callbacks import EarlyStopping, ModelCheckpoint\n",
    "\n",
    "\n",
    "# 인코더 설계 시작\n",
    "embedding_dim = 128\n",
    "hidden_size = 256\n",
    "\n",
    "# 인코더\n",
    "encoder_inputs = Input(shape=(text_max_len,))\n",
    "\n",
    "# 인코더의 임베딩 층\n",
    "enc_emb = Embedding(src_vocab, embedding_dim)(encoder_inputs)\n",
    "\n",
    "# 인코더의 LSTM 1\n",
    "encoder_lstm1 = LSTM(hidden_size, return_sequences=True, return_state=True ,dropout = 0.4, recurrent_dropout = 0.4)\n",
    "encoder_output1, state_h1, state_c1 = encoder_lstm1(enc_emb)\n",
    "\n",
    "# 인코더의 LSTM 2\n",
    "encoder_lstm2 = LSTM(hidden_size, return_sequences=True, return_state=True, dropout=0.4, recurrent_dropout=0.4)\n",
    "encoder_output2, state_h2, state_c2 = encoder_lstm2(encoder_output1)\n",
    "\n",
    "# 인코더의 LSTM 3\n",
    "encoder_lstm3 = LSTM(hidden_size, return_state=True, return_sequences=True, dropout=0.4, recurrent_dropout=0.4)\n",
    "encoder_outputs, state_h, state_c= encoder_lstm3(encoder_output2)"
   ]
  },
  {
   "cell_type": "markdown",
   "id": "dfe54b3a",
   "metadata": {},
   "source": [
    "임베딩 벡터 차원 128로 정의. hidden state의 크기를 256로 정의\n",
    "<br/>\n",
    "hidden state는 LSTM에서 얼만큼 수용력을 가질지를 정하는 파리미터\n",
    "<br/>\n",
    "인코더의 LSTM은 총 3개의 층으로 구성해서 모델의 복잡도를 높임"
   ]
  },
  {
   "cell_type": "code",
   "execution_count": 39,
   "id": "c45d9155",
   "metadata": {},
   "outputs": [
    {
     "name": "stdout",
     "output_type": "stream",
     "text": [
      "WARNING:tensorflow:Layer lstm_3 will not use cuDNN kernels since it doesn't meet the criteria. It will use a generic GPU kernel as fallback when running on GPU.\n"
     ]
    }
   ],
   "source": [
    "# 디코더 설계\n",
    "decoder_inputs = Input(shape=(None,))\n",
    "\n",
    "# 디코더의 임베딩 층\n",
    "dec_emb_layer = Embedding(tar_vocab, embedding_dim)\n",
    "dec_emb = dec_emb_layer(decoder_inputs)\n",
    "\n",
    "# 디코더의 LSTM\n",
    "decoder_lstm = LSTM(hidden_size, return_sequences=True, return_state=True, dropout=0.4, recurrent_dropout=0.2)\n",
    "decoder_outputs, _, _ = decoder_lstm(dec_emb, initial_state=[state_h, state_c])"
   ]
  },
  {
   "cell_type": "markdown",
   "id": "b560143f",
   "metadata": {},
   "source": [
    "디코더의 임베딩 층과 LSTM을 설계하는 것은 인코딩과 거의 동일함\n",
    "<br/>\n",
    "LSTM의 입력을 정의할 때 initial_state의 인자값으로 인코더의 hidden state와 cell state의 값을 넣어줘야함"
   ]
  },
  {
   "cell_type": "code",
   "execution_count": 40,
   "id": "c4af2749",
   "metadata": {},
   "outputs": [
    {
     "name": "stdout",
     "output_type": "stream",
     "text": [
      "Model: \"model\"\n",
      "__________________________________________________________________________________________________\n",
      "Layer (type)                    Output Shape         Param #     Connected to                     \n",
      "==================================================================================================\n",
      "input_1 (InputLayer)            [(None, 40)]         0                                            \n",
      "__________________________________________________________________________________________________\n",
      "embedding (Embedding)           (None, 40, 128)      1024000     input_1[0][0]                    \n",
      "__________________________________________________________________________________________________\n",
      "lstm (LSTM)                     [(None, 40, 256), (N 394240      embedding[0][0]                  \n",
      "__________________________________________________________________________________________________\n",
      "input_2 (InputLayer)            [(None, None)]       0                                            \n",
      "__________________________________________________________________________________________________\n",
      "lstm_1 (LSTM)                   [(None, 40, 256), (N 525312      lstm[0][0]                       \n",
      "__________________________________________________________________________________________________\n",
      "embedding_1 (Embedding)         (None, None, 128)    256000      input_2[0][0]                    \n",
      "__________________________________________________________________________________________________\n",
      "lstm_2 (LSTM)                   [(None, 40, 256), (N 525312      lstm_1[0][0]                     \n",
      "__________________________________________________________________________________________________\n",
      "lstm_3 (LSTM)                   [(None, None, 256),  394240      embedding_1[0][0]                \n",
      "                                                                 lstm_2[0][1]                     \n",
      "                                                                 lstm_2[0][2]                     \n",
      "__________________________________________________________________________________________________\n",
      "dense (Dense)                   (None, None, 2000)   514000      lstm_3[0][0]                     \n",
      "==================================================================================================\n",
      "Total params: 3,633,104\n",
      "Trainable params: 3,633,104\n",
      "Non-trainable params: 0\n",
      "__________________________________________________________________________________________________\n"
     ]
    }
   ],
   "source": [
    "# 디코더의 출력층\n",
    "decoder_softmax_layer = Dense(tar_vocab, activation='softmax')\n",
    "decoder_softmax_outputs = decoder_softmax_layer(decoder_outputs) \n",
    "\n",
    "# 모델 정의\n",
    "model = Model([encoder_inputs, decoder_inputs], decoder_softmax_outputs)\n",
    "model.summary()"
   ]
  },
  {
   "cell_type": "markdown",
   "id": "f8997025",
   "metadata": {},
   "source": [
    "### 어텐션 메커니즘"
   ]
  },
  {
   "cell_type": "markdown",
   "id": "f16a5ae8",
   "metadata": {},
   "source": [
    "수행하는 어텐션함수를 설계하는 것은 다른 새로운 신경망을 설계해야 한다는 것\n",
    "<br/>\n",
    "tensorflow에 구현된 어텐션 함수 사용, Bahadnu 스타일 어텐션 사용"
   ]
  },
  {
   "cell_type": "code",
   "execution_count": 41,
   "id": "447471a1",
   "metadata": {},
   "outputs": [
    {
     "name": "stdout",
     "output_type": "stream",
     "text": [
      "Model: \"model_1\"\n",
      "__________________________________________________________________________________________________\n",
      "Layer (type)                    Output Shape         Param #     Connected to                     \n",
      "==================================================================================================\n",
      "input_1 (InputLayer)            [(None, 40)]         0                                            \n",
      "__________________________________________________________________________________________________\n",
      "embedding (Embedding)           (None, 40, 128)      1024000     input_1[0][0]                    \n",
      "__________________________________________________________________________________________________\n",
      "lstm (LSTM)                     [(None, 40, 256), (N 394240      embedding[0][0]                  \n",
      "__________________________________________________________________________________________________\n",
      "input_2 (InputLayer)            [(None, None)]       0                                            \n",
      "__________________________________________________________________________________________________\n",
      "lstm_1 (LSTM)                   [(None, 40, 256), (N 525312      lstm[0][0]                       \n",
      "__________________________________________________________________________________________________\n",
      "embedding_1 (Embedding)         (None, None, 128)    256000      input_2[0][0]                    \n",
      "__________________________________________________________________________________________________\n",
      "lstm_2 (LSTM)                   [(None, 40, 256), (N 525312      lstm_1[0][0]                     \n",
      "__________________________________________________________________________________________________\n",
      "lstm_3 (LSTM)                   [(None, None, 256),  394240      embedding_1[0][0]                \n",
      "                                                                 lstm_2[0][1]                     \n",
      "                                                                 lstm_2[0][2]                     \n",
      "__________________________________________________________________________________________________\n",
      "attention_layer (AdditiveAttent (None, None, 256)    256         lstm_3[0][0]                     \n",
      "                                                                 lstm_2[0][0]                     \n",
      "__________________________________________________________________________________________________\n",
      "concat_layer (Concatenate)      (None, None, 512)    0           lstm_3[0][0]                     \n",
      "                                                                 attention_layer[0][0]            \n",
      "__________________________________________________________________________________________________\n",
      "dense_1 (Dense)                 (None, None, 2000)   1026000     concat_layer[0][0]               \n",
      "==================================================================================================\n",
      "Total params: 4,145,360\n",
      "Trainable params: 4,145,360\n",
      "Non-trainable params: 0\n",
      "__________________________________________________________________________________________________\n"
     ]
    }
   ],
   "source": [
    "from tensorflow.keras.layers import AdditiveAttention\n",
    "\n",
    "# 어텐션 층(어텐션 함수)\n",
    "attn_layer = AdditiveAttention(name='attention_layer')\n",
    "\n",
    "# 인코더와 디코더의 모든 time step의 hidden state를 어텐션 층에 전달하고 결과를 리턴\n",
    "attn_out = attn_layer([decoder_outputs, encoder_outputs])\n",
    "\n",
    "\n",
    "# 어텐션의 결과와 디코더의 hidden state들을 연결\n",
    "decoder_concat_input = Concatenate(axis=-1, name='concat_layer')([decoder_outputs, attn_out])\n",
    "\n",
    "# 디코더의 출력층\n",
    "decoder_softmax_layer = Dense(tar_vocab, activation='softmax')\n",
    "decoder_softmax_outputs = decoder_softmax_layer(decoder_concat_input)\n",
    "\n",
    "# 모델 정의\n",
    "model = Model([encoder_inputs, decoder_inputs], decoder_softmax_outputs)\n",
    "model.summary()"
   ]
  },
  {
   "cell_type": "markdown",
   "id": "9165c8b7",
   "metadata": {},
   "source": [
    "인코더의 hidden state들과 디코더 hidden state들을 어텐션 함수 입력을 사용, 어텐션 함수가 리턴한 값을 예측 시 디코더의 hidden state와 함께 활용하는 형태로 작동된다"
   ]
  },
  {
   "cell_type": "markdown",
   "id": "7930ac39",
   "metadata": {},
   "source": [
    "### 모델 훈련하기"
   ]
  },
  {
   "cell_type": "markdown",
   "id": "8affeb35",
   "metadata": {},
   "source": [
    "조기 종료를 뜻하는 EarlyStopping의 특정 조건을 충족되면 훈련을 멈춤\n",
    "<br/>\n",
    "val_loss을 관찰하다가 검증 데이터의 손실이 줄어들지 않고 증가하는 현상이 2회(patience=2)관측되면 학습을 멈추도록 설정함\n",
    "<br/>\n",
    "EarlyStopping이 작동하면 epoch이 크게 설정되도 모델 훈련이 최적점에 멈출 수 있음"
   ]
  },
  {
   "cell_type": "code",
   "execution_count": 42,
   "id": "1a812365",
   "metadata": {},
   "outputs": [
    {
     "name": "stdout",
     "output_type": "stream",
     "text": [
      "Epoch 1/50\n",
      "269/269 [==============================] - 178s 599ms/step - loss: 4.1827 - val_loss: 3.8940\n",
      "Epoch 2/50\n",
      "269/269 [==============================] - 160s 596ms/step - loss: 3.7170 - val_loss: 3.5583\n",
      "Epoch 3/50\n",
      "269/269 [==============================] - 160s 594ms/step - loss: 3.4263 - val_loss: 3.3527\n",
      "Epoch 4/50\n",
      "269/269 [==============================] - 159s 592ms/step - loss: 3.2289 - val_loss: 3.2059\n",
      "Epoch 5/50\n",
      "269/269 [==============================] - 160s 594ms/step - loss: 3.0760 - val_loss: 3.0931\n",
      "Epoch 6/50\n",
      "269/269 [==============================] - 160s 594ms/step - loss: 2.9549 - val_loss: 2.9977\n",
      "Epoch 7/50\n",
      "269/269 [==============================] - 160s 593ms/step - loss: 2.8534 - val_loss: 2.9376\n",
      "Epoch 8/50\n",
      "269/269 [==============================] - 160s 594ms/step - loss: 2.7645 - val_loss: 2.8663\n",
      "Epoch 9/50\n",
      "269/269 [==============================] - 159s 592ms/step - loss: 2.6853 - val_loss: 2.8206\n",
      "Epoch 10/50\n",
      "269/269 [==============================] - 159s 590ms/step - loss: 2.6170 - val_loss: 2.7774\n",
      "Epoch 11/50\n",
      "269/269 [==============================] - 159s 591ms/step - loss: 2.5552 - val_loss: 2.7473\n",
      "Epoch 12/50\n",
      "269/269 [==============================] - 159s 590ms/step - loss: 2.4981 - val_loss: 2.7258\n",
      "Epoch 13/50\n",
      "269/269 [==============================] - 158s 589ms/step - loss: 2.4481 - val_loss: 2.7072\n",
      "Epoch 14/50\n",
      "269/269 [==============================] - 159s 591ms/step - loss: 2.4014 - val_loss: 2.6898\n",
      "Epoch 15/50\n",
      "269/269 [==============================] - 159s 591ms/step - loss: 2.3593 - val_loss: 2.6682\n",
      "Epoch 16/50\n",
      "269/269 [==============================] - 160s 594ms/step - loss: 2.3189 - val_loss: 2.6479\n",
      "Epoch 17/50\n",
      "269/269 [==============================] - 159s 591ms/step - loss: 2.2829 - val_loss: 2.6398\n",
      "Epoch 18/50\n",
      "269/269 [==============================] - 159s 591ms/step - loss: 2.2473 - val_loss: 2.6396\n",
      "Epoch 19/50\n",
      "269/269 [==============================] - 157s 584ms/step - loss: 2.2159 - val_loss: 2.6256\n",
      "Epoch 20/50\n",
      "269/269 [==============================] - 157s 583ms/step - loss: 2.1865 - val_loss: 2.6196\n",
      "Epoch 21/50\n",
      "269/269 [==============================] - 157s 583ms/step - loss: 2.1585 - val_loss: 2.6200\n",
      "Epoch 22/50\n",
      "269/269 [==============================] - 157s 584ms/step - loss: 2.1310 - val_loss: 2.6204\n",
      "Epoch 00022: early stopping\n"
     ]
    }
   ],
   "source": [
    "model.compile(optimizer='rmsprop', loss='sparse_categorical_crossentropy')\n",
    "es = EarlyStopping(monitor='val_loss', patience=2, verbose=1)\n",
    "history = model.fit(x=[encoder_input_train, decoder_input_train], y=decoder_target_train, \\\n",
    "          validation_data=([encoder_input_test, decoder_input_test], decoder_target_test), \\\n",
    "          batch_size=256, callbacks=[es], epochs=50)\n",
    "\n",
    "es = EarlyStopping(monitor='val_loss', patience=2, verbose=1)"
   ]
  },
  {
   "cell_type": "markdown",
   "id": "b4fb33e1",
   "metadata": {},
   "source": [
    "#### 데이터 손실과 검증 데이터 손실 확인"
   ]
  },
  {
   "cell_type": "code",
   "execution_count": 43,
   "id": "e50b702c",
   "metadata": {},
   "outputs": [
    {
     "data": {
      "image/png": "[encoded data removed]",
      "text/plain": [
       "<Figure size 432x288 with 1 Axes>"
      ]
     },
     "metadata": {
      "needs_background": "light"
     },
     "output_type": "display_data"
    }
   ],
   "source": [
    "plt.plot(history.history['loss'], label='train')\n",
    "plt.plot(history.history['val_loss'], label='test')\n",
    "plt.legend()\n",
    "plt.show()"
   ]
  },
  {
   "cell_type": "markdown",
   "id": "c6c47156",
   "metadata": {},
   "source": [
    "위의 그래프의 val_loss와 loss는 EarlyStopping에 설정한 loss값이 epoch이 2번 지났지만 val_loss값이 떨어지지 않기 때문에 학습이 종료됨을 볼 수 있다.\n",
    "<br/>\n",
    "loss의 값은 학습이 진행될수록 점차 떨어지는 것을 확인할 수 있지만 val_loss의 경우 epoch=20 이후로는 점차 val_loss의 값이 떨어지지 않고 올라가고 있다.\n",
    "<br/>\n",
    "즉, val_loss 값이 올라간다는 것은 train data에만 학습이 이루어지고 있어 test data에 대한 정확도가 떨어진다는 것을 뜻하는 것으로 일반화가 되지 않다는 것을 말하므로 학습이 종료됐다.\n",
    "<br/>"
   ]
  },
  {
   "cell_type": "markdown",
   "id": "dd9dd58b",
   "metadata": {},
   "source": [
    "### 인퍼런스 모델 구현하기"
   ]
  },
  {
   "cell_type": "markdown",
   "id": "cf049209",
   "metadata": {},
   "source": [
    "테스트 단계에서 정수 인덱스 행렬 존재하던 텍스트 데이터를 실제 데이터로 복원해야 하므로 필요한 3개의 사전 준비"
   ]
  },
  {
   "cell_type": "code",
   "execution_count": 44,
   "id": "006ca52f",
   "metadata": {},
   "outputs": [],
   "source": [
    "src_index_to_word = src_tokenizer.index_word # 원문 단어 집합에서 정수 -> 단어를 얻음\n",
    "tar_word_to_index = tar_tokenizer.word_index # 요약 단어 집합에서 단어 -> 정수를 얻음\n",
    "tar_index_to_word = tar_tokenizer.index_word # 요약 단어 집합에서 정수 -> 단어를 얻음\n"
   ]
  },
  {
   "cell_type": "markdown",
   "id": "59ff2bd8",
   "metadata": {},
   "source": [
    "#### 인코더 모델과 디코더 모델 분리하여 설계"
   ]
  },
  {
   "cell_type": "code",
   "execution_count": 45,
   "id": "26c11e8d",
   "metadata": {},
   "outputs": [],
   "source": [
    "# 인코더 설계\n",
    "encoder_model = Model(inputs=encoder_inputs, outputs=[encoder_outputs, state_h, state_c])\n",
    "\n",
    "# 이전 시점의 상태들을 저장하는 텐서\n",
    "decoder_state_input_h = Input(shape=(hidden_size,))\n",
    "decoder_state_input_c = Input(shape=(hidden_size,))\n",
    "\n",
    "dec_emb2 = dec_emb_layer(decoder_inputs)\n",
    "\n",
    "# 문장의 다음 단어를 예측하기 위해서 초기 상태(initial_state)를 이전 시점의 상태로 사용. 이는 뒤의 함수 decode_sequence()에 구현\n",
    "# 훈련 과정에서와 달리 LSTM의 리턴하는 은닉 상태와 셀 상태인 state_h와 state_c를 버리지 않음.\n",
    "decoder_outputs2, state_h2, state_c2 = decoder_lstm(dec_emb2, initial_state=[decoder_state_input_h, decoder_state_input_c])\n"
   ]
  },
  {
   "cell_type": "code",
   "execution_count": 46,
   "id": "b8c20802",
   "metadata": {},
   "outputs": [
    {
     "name": "stdout",
     "output_type": "stream",
     "text": [
      "=3\n"
     ]
    }
   ],
   "source": [
    "# 어텐션 함수\n",
    "decoder_hidden_state_input = Input(shape=(text_max_len, hidden_size))\n",
    "attn_out_inf = attn_layer([decoder_outputs2, decoder_hidden_state_input])\n",
    "decoder_inf_concat = Concatenate(axis=-1, name='concat')([decoder_outputs2, attn_out_inf])\n",
    "\n",
    "# 디코더의 출력층\n",
    "decoder_outputs2 = decoder_softmax_layer(decoder_inf_concat) \n",
    "\n",
    "# 최종 디코더 모델\n",
    "decoder_model = Model(\n",
    "    [decoder_inputs] + [decoder_hidden_state_input,decoder_state_input_h, decoder_state_input_c],\n",
    "    [decoder_outputs2] + [state_h2, state_c2])"
   ]
  },
  {
   "cell_type": "code",
   "execution_count": 47,
   "id": "14b892be",
   "metadata": {},
   "outputs": [],
   "source": [
    "def decode_sequence(input_seq):\n",
    "    # 입력으로부터 인코더의 상태를 얻음\n",
    "    e_out, e_h, e_c = encoder_model.predict(input_seq)\n",
    "\n",
    "     # <SOS>에 해당하는 토큰 생성\n",
    "    target_seq = np.zeros((1,1))\n",
    "    target_seq[0, 0] = tar_word_to_index['sostoken']\n",
    "\n",
    "    stop_condition = False\n",
    "    decoded_sentence = ''\n",
    "    while not stop_condition: # stop_condition이 True가 될 때까지 루프 반복\n",
    "\n",
    "        output_tokens, h, c = decoder_model.predict([target_seq] + [e_out, e_h, e_c])\n",
    "        sampled_token_index = np.argmax(output_tokens[0, -1, :])\n",
    "        sampled_token = tar_index_to_word[sampled_token_index]\n",
    "\n",
    "        if (sampled_token!='eostoken'):\n",
    "            decoded_sentence += ' '+sampled_token\n",
    "\n",
    "        #  <eos>에 도달하거나 최대 길이를 넘으면 중단.\n",
    "        if (sampled_token == 'eostoken'  or len(decoded_sentence.split()) >= (headline_max_len-1)):\n",
    "            stop_condition = True\n",
    "\n",
    "        # 길이가 1인 타겟 시퀀스를 업데이트\n",
    "        target_seq = np.zeros((1,1))\n",
    "        target_seq[0, 0] = sampled_token_index\n",
    "\n",
    "        # 상태를 업데이트 합니다.\n",
    "        e_h, e_c = h, c\n",
    "\n",
    "    return decoded_sentence\n"
   ]
  },
  {
   "cell_type": "markdown",
   "id": "2f5bf51b",
   "metadata": {},
   "source": [
    "### 모델 테스트 하기"
   ]
  },
  {
   "cell_type": "code",
   "execution_count": 48,
   "id": "24e0c30f",
   "metadata": {},
   "outputs": [],
   "source": [
    "# 원문의 정수 시퀀스를 텍스트 시퀀스로 변환\n",
    "def seq2text(input_seq):\n",
    "    temp=''\n",
    "    for i in input_seq:\n",
    "        if (i!=0):\n",
    "            temp = temp + src_index_to_word[i]+' '\n",
    "    return temp\n",
    "\n",
    "# 요약문의 정수 시퀀스를 텍스트 시퀀스로 변환\n",
    "def seq2summary(input_seq):\n",
    "    temp=''\n",
    "    for i in input_seq:\n",
    "        if ((i!=0 and i!=tar_word_to_index['sostoken']) and i!=tar_word_to_index['eostoken']):\n",
    "            temp = temp + tar_index_to_word[i] + ' '\n",
    "    return temp\n"
   ]
  },
  {
   "cell_type": "code",
   "execution_count": 49,
   "id": "07bf832d",
   "metadata": {},
   "outputs": [
    {
     "name": "stdout",
     "output_type": "stream",
     "text": [
      "원문 : truck driver madhya pradesh drove burning petrol away petrol pump sunday attempt save lives petrol caught fire petrol pump fire later fire department driver sustained burn injuries admitted hospital \n",
      "실제 요약 : man truck away from petrol to save lives \n",
      "예측 요약 :  truck carrying into petrol truck in mp\n",
      "\n",
      "\n",
      "원문 : aiadmk leader ttv dhinakaran friday claimed could get ruling aiadmk government tamil nadu wanted said several mlas asked government people opposing late chief minister jayalalithaa soon removed power dhinakaran rk nagar bypolls last year \n",
      "실제 요약 : can tn govt if want aiadmk leader \n",
      "예측 요약 :  aiadmk to aiadmk aiadmk\n",
      "\n",
      "\n",
      "원문 : islamic university uttar pradesh district issued fatwa muslim women cutting hair terming act un islamic officials university department issues said muslim women stay away beauty make attract men \n",
      "실제 요약 : islamic issues against women \n",
      "예측 요약 :  islamic state students in anti muslim\n",
      "\n",
      "\n",
      "원문 : technology giant apple retail chief angela said apple users iphone pointing iphone everyone said make someone feel bad everybody needs iphone set launch november \n",
      "실제 요약 : we will not users to iphone apple chief \n",
      "예측 요약 :  apple is like iphone\n",
      "\n",
      "\n",
      "원문 : hyderabad bound spanish man arrested getting caught delhi airport live bullet bag cisf official said tuesday could produce valid documents carrying ammunition official added meanwhile separate incident three men allegedly using forged tickets enter delhi airport \n",
      "실제 요약 : man held at delhi airport with live bullet in bag \n",
      "예측 요약 :  man held for bomb at delhi airport\n",
      "\n",
      "\n",
      "원문 : actor aamir khan asked considers superstar said comes amitabh bachchan comes salman khan shah rukh khan akshay kumar ajay devgn hrithik roshan aamir added even deepika padukone katrina kaif said get affected one two films \n",
      "실제 요약 : bachchan comes first aamir on who he \n",
      "예측 요약 :  aamir aamir aamir aamir aamir to make aamir\n",
      "\n",
      "\n",
      "원문 : ajay singh co founder budget carrier spicejet paid buy stake spicejet promoter investment company airways singh offered take airline faced near closure december spicejet turned around since singh return stock rising \n",
      "실제 요약 : co founder ajay singh took over for only \n",
      "예측 요약 :  to buy stake in reports\n",
      "\n",
      "\n",
      "원문 : amid shortage raw materials printing academic year karnataka government decided split two first batch books contain portion taught june september second part contain scheduled taught november march \n",
      "실제 요약 : taka to in half amid \n",
      "예측 요약 :  karnataka cabinet approves first ever\n",
      "\n",
      "\n",
      "원문 : swara bhasker said many people celebrated assassination mahatma gandhi time power jailed added swara comparing row urban naxals said urban naxals came television police firs punish thinking \n",
      "실제 요약 : those who gandhi are in power now \n",
      "예측 요약 :  gandhi is on gandhi\n",
      "\n",
      "\n",
      "원문 : year old bengaluru man set mother ablaze denied giving money accused reportedly got argument mother money mother reportedly refused give money thinking would spend alcohol man threw petrol set ablaze \n",
      "실제 요약 : bengaluru man sets mother after she denies him money \n",
      "예측 요약 :  luru man seeks cr for money\n",
      "\n",
      "\n",
      "원문 : mahindra group chairman anand mahindra posted poem twitter handle tuesday attributed friend went ahead asked twitter users would poem user whose post mahindra retweeted responded time cannot change life change \n",
      "실제 요약 : anand mahindra posts asks users to it \n",
      "예측 요약 :  anand mahindra shares picture of\n",
      "\n",
      "\n",
      "원문 : voting machines netherlands made private firm due lack adequate technical knowledge among officials germany voting due lack constitutional allowance ireland machines data transferred however indian evms made state firms store data constitutional allowance \n",
      "실제 요약 : how are indian better than used in other nations \n",
      "예측 요약 :  to be used to\n",
      "\n",
      "\n",
      "원문 : us boeing monday announced acquire stake commercial aircraft services operations billion brazilian company remaining joint venture boeing operational management control company keep consent rights decisions transfer operations brazil \n",
      "실제 요약 : to buy of jet unit for bn \n",
      "예측 요약 :  us firm to buy planes for billion\n",
      "\n",
      "\n",
      "원문 : apple granted second patent foldable design iphone patent describes iphone design screen inside another display around outside device like book double design carry apple received first patent develop foldable smartphone \n",
      "실제 요약 : apple second patent for its iphone design \n",
      "예측 요약 :  apple watch screen on screen\n",
      "\n",
      "\n",
      "원문 : investigation max hospital allegedly declaring living baby dead delhi medical council said medical negligence hospital probe revealed hospital issue death certificate week born less weeks survive per medical literature added \n",
      "실제 요약 : not in alive baby dead medical body \n",
      "예측 요약 :  hospital baby found dead in hospital\n",
      "\n",
      "\n",
      "원문 : shiv sena monday slammed maharashtra police five activists alleged maoist links sena said police behind arrests police must shoot like practice using police different aims nothing new politicians government added \n",
      "실제 요약 : sena slams police after arrests \n",
      "예측 요약 :  sena slams police for remark\n",
      "\n",
      "\n",
      "원문 : chinese internet giant alibaba co founder jack said trade us china could last two decades adding tensions would impact chinese foreign firms said even donald trump retired still continue need upgrade lot chinese business move countries added \n",
      "실제 요약 : us china trade could last yrs alibaba jack ma \n",
      "예측 요약 :  china trade war with alibaba jack ma\n",
      "\n",
      "\n",
      "원문 : egyptian parliament sunday passed amendment offering citizenship foreigners deposit least million egyptian country treasury however foreigners able apply citizenship five years law foreigners live egypt decade apply \n",
      "실제 요약 : egypt to offer citizenship to for cr \n",
      "예측 요약 :  egypt parliament to citizenship\n",
      "\n",
      "\n",
      "원문 : girls rescued shelter home allegations abuse kept children home boys week shifted separate shelter homes revealed report national commission protection child rights girls provided comfortable safe space recover report added \n",
      "실제 요약 : girls rescued from shelter at boys home report \n",
      "예측 요약 :  girls rescued from shelter home in up\n",
      "\n",
      "\n",
      "원문 : elon musk thursday tweeted received verbal government approval boring company build underground hyperloop connecting new york washington dc claimed hyperloop cut time taken travel two cities minutes currently takes hours minutes cover distance \n",
      "실제 요약 : have to build new york musk \n",
      "예측 요약 :  musk company to build in\n",
      "\n",
      "\n",
      "원문 : former captain ms dhoni gesture asking match umpires ball raised retirement speculations coach ravi shastri said ms going anywhere shastri added year old wanted show ball india bowling coach bharat arun check wear tear assess conditions overs bowled \n",
      "실제 요약 : that is shastri on dhoni rumours \n",
      "예측 요약 :  dhoni smith to play cricket team for ipl\n",
      "\n",
      "\n",
      "원문 : microsoft co founder bill gates indian sex worker daughter suicide new book revealed woman said daughter know sex worker went depression found daughter hanging ceiling fan note left behind saying could take anymore \n",
      "실제 요약 : gates when indian sex worker child suicide book \n",
      "예측 요약 :  bill gates rape victim suicide\n",
      "\n",
      "\n",
      "원문 : world third richest person warren berkshire hathaway sold last walmart shares ending relationship years world largest retailer among berkshire five biggest equity holdings recently valued billion shares walmart recently acquired stake flipkart billion risen year \n",
      "실제 요약 : sells his last walmart shares after years \n",
      "예측 요약 :  world richest man loses billion in market\n",
      "\n",
      "\n",
      "원문 : us senator john said russian president vladimir putin bigger threat global security isis republican accused russia destroying democracy allegedly interfering us presidential election warned sanctions however added evidence russia attempt \n",
      "실제 요약 : putin threat than isis us \n",
      "예측 요약 :  russia will never be us prez putin\n",
      "\n",
      "\n",
      "원문 : year old woman riding nephew scooter died ran neck fell two wheeler bengaluru road nephew applied sudden avoid road lost scooter balance victim \n",
      "실제 요약 : luru woman dies in accident due to \n",
      "예측 요약 :  woman dies after falling into moving car in bengaluru\n",
      "\n",
      "\n",
      "원문 : pakistani bowler mohammad amir registered career best figures first class cricket taking two five wicket days playing second time year old took wickets first class match first wicket haul coming \n",
      "실제 요약 : takes nd wicket posts career best \n",
      "예측 요약 :  pak st bowler to play wickets in debut\n",
      "\n",
      "\n",
      "원문 : england children commissioner criticised commerce major amazon child sex available sale platform adding pose danger safety real children said amazon explain sale first place amazon said removed \n",
      "실제 요약 : amazon for selling child sex \n",
      "예측 요약 :  kids sex abuse by google\n",
      "\n",
      "\n",
      "원문 : first official poster diljit starrer based ex hockey captain sandeep singh released diljit seen portraying sandeep film also star actors angad bedi taapsee pannu roles directed ali released june \n",
      "실제 요약 : poster of film on ex hockey captain out \n",
      "예측 요약 :  first poster of desh released\n",
      "\n",
      "\n",
      "원문 : nagaland sought support cricketers women team dismissed two runs kerala one day league tournament match friday vice president nagaland cricket association attributed team performance lack facilities absence coaching funds \n",
      "실제 요약 : seeks support after cricket team all out for runs \n",
      "예측 요약 :  govt to replace women in ipl match\n",
      "\n",
      "\n",
      "원문 : police noida sector sent notices companies asking direct muslim employees stop offering public park companies held responsible employees found breaching directive police defended move citing concerns communal harmony might disturbed especially ahead lok sabha elections \n",
      "실제 요약 : firms if staff offer in park noida police \n",
      "예측 요약 :  maha cops to stop violence\n",
      "\n",
      "\n",
      "원문 : thailand introduce biometric checks nationwide users wanting obtain new sim cards next month country telecom regulator said move aimed electronic fraud mobile banking security country new rules require users either verified faces \n",
      "실제 요약 : to for cards \n",
      "예측 요약 :  users to let users to\n",
      "\n",
      "\n",
      "원문 : centre thursday told delhi high court begging earlier centre told court bill begging currently central law begging states adopted bombay prevention begging act begging \n",
      "실제 요약 : not centre tells delhi hc \n",
      "예측 요약 :  not to hc\n",
      "\n",
      "\n",
      "원문 : filmmaker karan johar said alia bhatt second daughter third child responding alia joked would play johar mother biopic made filmmaker johar said play childhood twinkle khanna mother biopic alia enough \n",
      "실제 요약 : alia is my second daughter and third child karan johar \n",
      "예측 요약 :  johar alia is the most johar\n",
      "\n",
      "\n",
      "원문 : took australian pm scott personal website plays song titled know jack revealed facebook bought website domain name expired adding pm forgot pm office return domain name \n",
      "실제 요약 : takes over australia pm website plays song \n",
      "예측 요약 :  australia pm modi on\n",
      "\n",
      "\n",
      "원문 : china largest country world single time zone france time zones country world due overseas territories russia united states time zones meanwhile india world seventh largest country one time zone \n",
      "실제 요약 : china is the world largest country with just time \n",
      "예측 요약 :  china to become world largest nations\n",
      "\n",
      "\n",
      "원문 : researchers university developed new robotic technology allows users turn everyday objects robots designed collaboration nasa skin made sheets sensors wrapped around objects like stuffed animal turn robot also used space exploration \n",
      "실제 요약 : that turn into made \n",
      "예측 요약 :  made that can detect\n",
      "\n",
      "\n",
      "원문 : human resource development ministry identified around teachers various colleges universities introduction aadhaar teachers identified state private universities central universities hrd minister prakash javadekar said use methods apparently teaching multiple places full time added \n",
      "실제 요약 : govt teachers using aadhaar \n",
      "예측 요약 :  govt approves of teachers in\n",
      "\n",
      "\n",
      "원문 : us district court sentenced indian national farooq mohammad years prison guilty providing money al qaeda support extremism us military mohammad also charged murder judge hearing case deported us completion sentence \n",
      "실제 요약 : indian gets years in us jail for funding al \n",
      "예측 요약 :  us court rejects years to jail for\n",
      "\n",
      "\n",
      "원문 : army reportedly planning use patrol line actual control animals trained patrol long carry heavy ammunition supplies expected benefit army move faster carry weight used force \n",
      "실제 요약 : army plans to use for border in \n",
      "예측 요약 :  army to build in\n",
      "\n",
      "\n",
      "원문 : rjd president lalu prasad yadav reached million followers social media platform twitter million followers present lalu number followers among politicians bihar microblogging site notably bihar chief minister nitish kumar nearly lakh fewer followers lalu prasad yadav \n",
      "실제 요약 : lalu enters the million club on twitter \n",
      "예측 요약 :  lalu prasad yadav invests in cr\n",
      "\n",
      "\n",
      "원문 : sidharth malhotra play captain vikram batra upcoming biopic kargil said touching story sidharth added hearing age country want full justice story sidharth reportedly also portray vikram twin brother vishal film \n",
      "실제 요약 : story sidharth on playing \n",
      "예측 요약 :  shraddha to play in biopic report\n",
      "\n",
      "\n",
      "원문 : security guard outside hostel guwahati caught camera woman posted video social media account wrote online feel safe open window guy meanwhile guwahati police said take action someone comes forward complaint \n",
      "실제 요약 : man near girls woman posts video online \n",
      "예측 요약 :  men cop for taking selfie with\n",
      "\n",
      "\n",
      "원문 : india second largest source nation migrants canada people total number migrants country according census released canada maximum number immigrants come philippines china third list notably country immigrants asia \n",
      "실제 요약 : india nd largest country for migrants in canada \n",
      "예측 요약 :  india to build world largest migrants in\n",
      "\n",
      "\n",
      "원문 : five central country combined lakh cases according recent report law commission income tax tribunal cases pending highest among five mentioned report notably overcome crisis regular courts \n",
      "실제 요약 : central have of lakh cases \n",
      "예측 요약 :  cases of cases in india\n",
      "\n",
      "\n",
      "원문 : software services giant technologies lost crore market value wednesday company posted year year decline net profit crore march quarter company shares fell taking total market capitalisation nearly trillion company reported increase revenue crore quarter \n",
      "실제 요약 : tech loses cr in cap after profit falls \n",
      "예측 요약 :  posts fall in profit at crore\n",
      "\n",
      "\n",
      "원문 : office building london opened highest running track city tuesday metre running located th floor new white factory surrounded windows high also toilets floor office building also features cafe \n",
      "실제 요약 : london highest running track opens on tower th floor \n",
      "예측 요약 :  hotel opens its first ever\n",
      "\n",
      "\n",
      "원문 : india play role north korean crisis helping leadership reclusive state understand threat posed nuclear programme senior us commander harry said think india voice loud voice people pay attention added \n",
      "실제 요약 : india can help in korean crisis us \n",
      "예측 요약 :  india nuclear deal with us nuclear weapons\n",
      "\n",
      "\n",
      "원문 : un security team attacked syria wednesday visiting suspected chemical attack site officials united nations department safety security visiting site carry preliminary investigation chemical weapons experts could go investigation team came small arms fire explosive \n",
      "실제 요약 : un team chemical attack site attacked in syria \n",
      "예측 요약 :  un kills syrian chemical attack in syria\n",
      "\n",
      "\n",
      "원문 : editor filmfare magazine slammed kangana ranaut saying called receive award since could attend function award given someone else go anyone house anyone accept award tweeted \n",
      "실제 요약 : slams kangana over her remarks on award \n",
      "예측 요약 :  kangana slams for award\n",
      "\n",
      "\n",
      "원문 : brihanmumbai electric supply transport planning shift year old museum zoo mumbai authorities said museum far away people often complained visit travel pain said official authorities expect shift bring visitors revenues \n",
      "실제 요약 : over yr old museum may be to mumbai \n",
      "예측 요약 :  mumbai to get new bridge\n",
      "\n",
      "\n"
     ]
    }
   ],
   "source": [
    "for i in range(50, 100):\n",
    "    print(\"원문 :\", seq2text(encoder_input_test[i]))\n",
    "    print(\"실제 요약 :\", seq2summary(decoder_input_test[i]))\n",
    "    print(\"예측 요약 :\", decode_sequence(encoder_input_test[i].reshape(1, text_max_len)))\n",
    "    print(\"\\n\")"
   ]
  },
  {
   "cell_type": "markdown",
   "id": "ad3a0f4b",
   "metadata": {},
   "source": [
    "### 추출적 요약하기"
   ]
  },
  {
   "cell_type": "markdown",
   "id": "26c73b13",
   "metadata": {},
   "source": [
    "#### 추출젹 요약 사용하기 위해 패키지 import"
   ]
  },
  {
   "cell_type": "code",
   "execution_count": 93,
   "id": "3bdfcb1d",
   "metadata": {},
   "outputs": [],
   "source": [
    "import requests\n",
    "from summa.summarizer import summarize"
   ]
  },
  {
   "cell_type": "code",
   "execution_count": 107,
   "id": "f8990bed",
   "metadata": {},
   "outputs": [
    {
     "name": "stdout",
     "output_type": "stream",
     "text": [
      "<class 'str'>\n",
      "The screen is filled with green, cascading code which gives way to the title, The Matrix.\r\n",
      "\r\n",
      "A phone rings and text appears on the screen: \"Call trans opt: received. 2-19-98 13:24:18 REC: Log>\" As a conversation takes place between Trinity (Carrie-Anne Moss) and Cypher (Joe Pantoliano), two free humans, a table of random green numbers are being scanned and individual numbers selected, creating a series of digits not unlike an ordinary phone number, as if a code is being deciphered or a call is being traced.\r\n",
      "\r\n",
      "Trinity discusses some unknown person. Cypher taunts Trinity, suggesting she enjoys watching him. Trinity counters that \"Morpheus (Laurence Fishburne) says he may be 'the One',\" just as the sound of a number being selected alerts Trinity that someone may be tracing their call. She ends the call.\r\n",
      "\r\n",
      "Armed policemen move down a darkened, decrepit hallway in the Heart O' the City Hotel, their flashlight beam bouncing just ahead of them. They come to room 303, kick down the door and find a woman dressed in black, facing away from them. It's Trinity. She brings her hands up from the laptop she's working on at their command.\r\n",
      "\r\n",
      "Outside the hotel a car drives up and three agents appear in neatly pressed black suits. They are Agent Smith (Hugo Weaving), Agent Brown (Paul Goddard), and Agent Jones (Robert Taylor). Agent Smith and the presiding police lieutenant argue. Agent Smith admonishes the policeman that they were given specific orders to contact the agents first, for their\n"
     ]
    }
   ],
   "source": [
    "text = requests.get('http://rare-technologies.com/the_matrix_synopsis.txt').text\n",
    "print(type(text))\n",
    "print(text[:1500])"
   ]
  },
  {
   "cell_type": "markdown",
   "id": "91f576af",
   "metadata": {},
   "source": [
    "#### Summarize 사용"
   ]
  },
  {
   "cell_type": "code",
   "execution_count": 109,
   "id": "e35c3ffd",
   "metadata": {},
   "outputs": [],
   "source": [
    "urllib.request.urlretrieve(\"https://raw.githubusercontent.com/sunnysai12345/News_Summary/master/news_summary_more.csv\", filename=\"news_summary_more.csv\")\n",
    "new_data = pd.read_csv('news_summary_more.csv', encoding='iso-8859-1')"
   ]
  },
  {
   "cell_type": "code",
   "execution_count": 111,
   "id": "cc63c0c3",
   "metadata": {},
   "outputs": [
    {
     "data": {
      "text/html": [
       "<div>\n",
       "<style scoped>\n",
       "    .dataframe tbody tr th:only-of-type {\n",
       "        vertical-align: middle;\n",
       "    }\n",
       "\n",
       "    .dataframe tbody tr th {\n",
       "        vertical-align: top;\n",
       "    }\n",
       "\n",
       "    .dataframe thead th {\n",
       "        text-align: right;\n",
       "    }\n",
       "</style>\n",
       "<table border=\"1\" class=\"dataframe\">\n",
       "  <thead>\n",
       "    <tr style=\"text-align: right;\">\n",
       "      <th></th>\n",
       "      <th>headlines</th>\n",
       "      <th>text</th>\n",
       "    </tr>\n",
       "  </thead>\n",
       "  <tbody>\n",
       "    <tr>\n",
       "      <th>0</th>\n",
       "      <td>upGrad learner switches to career in ML &amp; Al w...</td>\n",
       "      <td>Saurav Kant, an alumnus of upGrad and IIIT-B's...</td>\n",
       "    </tr>\n",
       "    <tr>\n",
       "      <th>1</th>\n",
       "      <td>Delhi techie wins free food from Swiggy for on...</td>\n",
       "      <td>Kunal Shah's credit card bill payment platform...</td>\n",
       "    </tr>\n",
       "    <tr>\n",
       "      <th>2</th>\n",
       "      <td>New Zealand end Rohit Sharma-led India's 12-ma...</td>\n",
       "      <td>New Zealand defeated India by 8 wickets in the...</td>\n",
       "    </tr>\n",
       "    <tr>\n",
       "      <th>3</th>\n",
       "      <td>Aegon life iTerm insurance plan helps customer...</td>\n",
       "      <td>With Aegon Life iTerm Insurance plan, customer...</td>\n",
       "    </tr>\n",
       "    <tr>\n",
       "      <th>4</th>\n",
       "      <td>Have known Hirani for yrs, what if MeToo claim...</td>\n",
       "      <td>Speaking about the sexual harassment allegatio...</td>\n",
       "    </tr>\n",
       "  </tbody>\n",
       "</table>\n",
       "</div>"
      ],
      "text/plain": [
       "                                           headlines  \\\n",
       "0  upGrad learner switches to career in ML & Al w...   \n",
       "1  Delhi techie wins free food from Swiggy for on...   \n",
       "2  New Zealand end Rohit Sharma-led India's 12-ma...   \n",
       "3  Aegon life iTerm insurance plan helps customer...   \n",
       "4  Have known Hirani for yrs, what if MeToo claim...   \n",
       "\n",
       "                                                text  \n",
       "0  Saurav Kant, an alumnus of upGrad and IIIT-B's...  \n",
       "1  Kunal Shah's credit card bill payment platform...  \n",
       "2  New Zealand defeated India by 8 wickets in the...  \n",
       "3  With Aegon Life iTerm Insurance plan, customer...  \n",
       "4  Speaking about the sexual harassment allegatio...  "
      ]
     },
     "execution_count": 111,
     "metadata": {},
     "output_type": "execute_result"
    }
   ],
   "source": [
    "new_data.head()"
   ]
  },
  {
   "cell_type": "code",
   "execution_count": 114,
   "id": "bfdaa2ee",
   "metadata": {},
   "outputs": [
    {
     "name": "stdout",
     "output_type": "stream",
     "text": [
      "<class 'str'>\n",
      "Saurav Kant, an alumnus of upGrad and IIIT-B's PG Program in Machine learning and Artificial Intelligence, was a Sr Systems Engineer at Infosys with almost 5 years of work experience. The program and upGrad's 360-degree career support helped him transition to a Data Scientist at Tech Mahindra with 90% salary hike. upGrad's Online Power Learning has powered 3 lakh+ careers.\n"
     ]
    }
   ],
   "source": [
    "new_text = np.array(new_data['text'])\n",
    "new_label = np.array(new_data['headlines'])\n",
    "print(type(new_text[0]))\n",
    "print(new_text[0])"
   ]
  },
  {
   "cell_type": "code",
   "execution_count": 129,
   "id": "fbbc1073",
   "metadata": {},
   "outputs": [
    {
     "name": "stdout",
     "output_type": "stream",
     "text": [
      "예측 headline:\n",
      "upGrad's Online Power Learning has powered 3 lakh+ careers.\n",
      "실제 headline:\n",
      "upGrad learner switches to career in ML & Al with 90% salary hike\n"
     ]
    }
   ],
   "source": [
    "print('예측 headline:')\n",
    "print(summarize(new_text[0],ratio=0.005,words=10))\n",
    "print('실제 headline:')\n",
    "print(new_label[0])"
   ]
  },
  {
   "cell_type": "code",
   "execution_count": 128,
   "id": "7df0052e",
   "metadata": {},
   "outputs": [
    {
     "name": "stdout",
     "output_type": "stream",
     "text": [
      "예측 headline:\n",
      "The match witnessed India getting all out for 92, their seventh lowest total in ODI cricket history.\n",
      "실제 headline:\n",
      "New Zealand end Rohit Sharma-led India's 12-match winning streak\n"
     ]
    }
   ],
   "source": [
    "print('예측 headline:')\n",
    "print(summarize(new_text[2],words=10))\n",
    "print('실제 headline:')\n",
    "print(new_label[2])"
   ]
  },
  {
   "cell_type": "markdown",
   "id": "b2706bf4",
   "metadata": {},
   "source": [
    "### Extractive 요약, Abstractive 요약 비교"
   ]
  },
  {
   "cell_type": "markdown",
   "id": "649d19a2",
   "metadata": {},
   "source": [
    "추상적 요약과 추출적 요약을 확인해보면 추상적 요약의 경우뉴스 기사 내용에 없는 단어가 조합되어 뉴스 제목으로 결과가 나온 것을 볼 수 있다 <br/>\n",
    "추출적 요약 결과의 경우 뉴스 기사 내용에 있는 단어를 위주로 요약하여 뉴스 제목으로 결과값이 나왔다.\n",
    "<br/>\n",
    "하지만 추상적 요약은 문법적으로 보면 표현이 맞지 않아 무슨 내용을 뜻하는지 한번에 확인하기 어려우며 핵심 단어가 포함되지 않는 경우도 있어 뉴스 기사 제목만 봐도 어떤 뉴스인지 확인하기 어렵다.\n",
    "<br/>\n",
    "추출적 요약의 경우 추상적 요약에 비해 문법적 부분과 핵심 단어가 포함되어 있어 뉴스 기사 제목만 보아도 뉴스 기사 내용이 어떤 내용인지 확인할 수 있다.\n",
    "\n",
    "<br/>"
   ]
  },
  {
   "cell_type": "code",
   "execution_count": null,
   "id": "86aa9e6c",
   "metadata": {},
   "outputs": [],
   "source": []
  }
 ],
 "metadata": {
  "kernelspec": {
   "display_name": "Python 3 (ipykernel)",
   "language": "python",
   "name": "python3"
  },
  "language_info": {
   "codemirror_mode": {
    "name": "ipython",
    "version": 3
   },
   "file_extension": ".py",
   "mimetype": "text/x-python",
   "name": "python",
   "nbconvert_exporter": "python",
   "pygments_lexer": "ipython3",
   "version": "3.9.7"
  }
 },
 "nbformat": 4,
 "nbformat_minor": 5
}
